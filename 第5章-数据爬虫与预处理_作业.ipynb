{
 "cells": [
  {
   "cell_type": "markdown",
   "metadata": {},
   "source": [
    "# 豆瓣数据爬虫"
   ]
  },
  {
   "cell_type": "code",
   "execution_count": 4,
   "metadata": {
    "ExecuteTime": {
     "end_time": "2023-10-25T14:58:55.472363200Z",
     "start_time": "2023-10-25T14:58:55.244618Z"
    }
   },
   "outputs": [],
   "source": [
    "import requests\n",
    "import time\n",
    "import random\n",
    "from bs4 import BeautifulSoup\n"
   ]
  },
  {
   "cell_type": "code",
   "execution_count": 5,
   "metadata": {
    "ExecuteTime": {
     "end_time": "2023-10-25T14:58:56.306279300Z",
     "start_time": "2023-10-25T14:58:56.270462700Z"
    }
   },
   "outputs": [],
   "source": [
    "# 通过观察的url翻页的规律，使用for循环得到10个链接，保存到urls列表中\n",
    "# urls = ['https://movie.douban.com/subject/34841067/comments?start={}&limit=20&status=P&sort=new_score'.format(str(i)) for i in range(0, 200, 20)]\n",
    "\n",
    "# 先使用单条url测试\n",
    "urls = \"https://movie.douban.com/subject/34841067/comments?start=1&limit=20&status=P&sort=new_score\"\n"
   ]
  },
  {
   "cell_type": "markdown",
   "metadata": {},
   "source": [
    "爬虫发起get请求，对于有些网站，会拒绝掉没有携带header的请求的，所以需要做一些header增强，即提供User-Agent，Cookie，host等信息\n",
    "我们得到的是一个Response对象，可以使用.text或者.content属性来获取\n",
    "1.  text：是以字符串的形式返回数据\n",
    "2.  content：是以二进制的方式返回数据"
   ]
  },
  {
   "cell_type": "code",
   "execution_count": 6,
   "metadata": {
    "ExecuteTime": {
     "end_time": "2023-10-25T14:58:59.760232700Z",
     "start_time": "2023-10-25T14:58:58.509877Z"
    }
   },
   "outputs": [],
   "source": [
    "# 请求头\n",
    "headers = {\n",
    "    \"User-Agent\": \"Mozilla/5.0 (Windows NT 10.0; Win64; x64) AppleWebKit/537.36 (KHTML, like Gecko) Chrome/90.0.4430.212 Safari/537.36\"\n",
    "}\n",
    "# 发送请求，.text返回的是字符串\n",
    "r = requests.get(url=urls, headers=headers).text\n"
   ]
  },
  {
   "cell_type": "markdown",
   "metadata": {},
   "source": [
    "Beautifulres解析HTML网页，传入的参数r：字符串（即网页源码），'html.parser'：指定解析器，解析html文件"
   ]
  },
  {
   "cell_type": "code",
   "execution_count": 7,
   "metadata": {
    "ExecuteTime": {
     "end_time": "2023-10-25T14:59:02.211196400Z",
     "start_time": "2023-10-25T14:59:02.124102200Z"
    }
   },
   "outputs": [],
   "source": [
    "# 使用BeautifulSoup解析HTML网页\n",
    "res = BeautifulSoup(r, 'html.parser')\n"
   ]
  },
  {
   "cell_type": "markdown",
   "metadata": {},
   "source": [
    "1.  res.title  获取文档的title\n",
    "2.  res.title.string  获取title的内容\n",
    "3.  res.p  获取文档中第一个p标签节点\n",
    "4.  res.find_all('p', class_=\"comment-content\") 获取所有class=\"comment-content\"的p标签，返回list，包含了很多p标签"
   ]
  },
  {
   "cell_type": "code",
   "execution_count": 8,
   "metadata": {
    "ExecuteTime": {
     "end_time": "2023-10-25T14:59:05.178154300Z",
     "start_time": "2023-10-25T14:59:05.113633500Z"
    }
   },
   "outputs": [],
   "source": [
    "# 定位到评论的标签\n",
    "p_list=res.find_all('span',class_=\"short\")"
   ]
  },
  {
   "cell_type": "code",
   "execution_count": 9,
   "metadata": {
    "ExecuteTime": {
     "end_time": "2023-10-25T14:59:05.896400500Z",
     "start_time": "2023-10-25T14:59:05.865158Z"
    }
   },
   "outputs": [],
   "source": [
    "# 存放评论的列表\n",
    "comments_list = []\n"
   ]
  },
  {
   "cell_type": "code",
   "execution_count": 10,
   "metadata": {
    "ExecuteTime": {
     "end_time": "2023-10-25T14:59:06.711972Z",
     "start_time": "2023-10-25T14:59:06.681146200Z"
    }
   },
   "outputs": [],
   "source": [
    "for p in p_list:\n",
    "    # 评论内容\n",
    "    comment = p.text.strip()\n",
    "    # print(comment)\n",
    "    # 保存到列表中\n",
    "    comments_list.append(comment)\n"
   ]
  },
  {
   "cell_type": "code",
   "execution_count": 11,
   "metadata": {
    "ExecuteTime": {
     "end_time": "2023-10-25T14:59:07.846197200Z",
     "start_time": "2023-10-25T14:59:07.814985400Z"
    }
   },
   "outputs": [],
   "source": [
    "# 将comments_list列表中的评论写入到文件中\n",
    "with open('comment.txt', 'w', encoding='utf-8') as f:\n",
    "    for comment in comments_list:\n",
    "        f.write(comment + '\\n')\n"
   ]
  },
  {
   "cell_type": "code",
   "execution_count": 12,
   "outputs": [
    {
     "name": "stdout",
     "output_type": "stream",
     "text": [
      "有笑有泪的，不明白陈赫这个人物有什么作用，完全多余\n"
     ]
    }
   ],
   "source": [
    "# with open('comment.txt', 'r', encoding='utf-8') as f:\n",
    "#     for line in f.readlines():\n",
    "#         print(line)\n",
    "# 打印第一行即可\n",
    "print(comments_list[0])"
   ],
   "metadata": {
    "collapsed": false,
    "ExecuteTime": {
     "end_time": "2023-10-25T14:59:08.910159Z",
     "start_time": "2023-10-25T14:59:08.905112100Z"
    }
   }
  },
  {
   "cell_type": "code",
   "execution_count": 13,
   "metadata": {
    "ExecuteTime": {
     "end_time": "2023-10-25T14:59:17.753647300Z",
     "start_time": "2023-10-25T14:59:17.721722800Z"
    }
   },
   "outputs": [],
   "source": [
    "# To do: 使用上面的第一条url列表，将10个网页的评论都爬取下来，保存到sumComment.txt文件中\n",
    "urls = ['https://movie.douban.com/subject/34841067/comments?start={}&limit=20&status=P&sort=new_score'.format(str(i)) for i in range(0, 200, 20)]"
   ]
  },
  {
   "cell_type": "code",
   "execution_count": 15,
   "outputs": [
    {
     "name": "stdout",
     "output_type": "stream",
     "text": [
      "本以为是女儿为母亲造的一场梦，却原来是母亲为女儿造的一场梦。我个人比较难get到贾玲的笑点，但是后半段一直哭到最后一张照片和字幕。妈妈也曾经是少女啊。\n"
     ]
    }
   ],
   "source": [
    "for url in urls:\n",
    "    # 请求头\n",
    "    headers = {\n",
    "        \"User-Agent\": \"Mozilla/5.0 (Windows NT 10.0; Win64; x64) AppleWebKit/537.36 \\\n",
    "        (KHTML, like Gecko) Chrome/90.0.4430.212 Safari/537.36\"\n",
    "    }\n",
    "    r = requests.get(url=url, headers=headers).text   \n",
    "    res = BeautifulSoup(r, 'html.parser')\n",
    "    p_list=res.find_all('span',class_=\"short\")\n",
    "    comments_list = []\n",
    "    for p in p_list:\n",
    "        comment = p.text.strip()\n",
    "        comments_list.append(comment)\n",
    "    with open('sumComment.txt', 'a', encoding='utf-8') as f:\n",
    "        for comment in comments_list:\n",
    "            f.write(comment + '\\n')\n",
    "\n",
    "print(comments_list[0])"
   ],
   "metadata": {
    "collapsed": false,
    "ExecuteTime": {
     "end_time": "2023-10-25T14:59:39.738477800Z",
     "start_time": "2023-10-25T14:59:34.857004700Z"
    }
   }
  },
  {
   "cell_type": "code",
   "execution_count": 16,
   "metadata": {
    "ExecuteTime": {
     "end_time": "2023-10-25T15:00:01.314180Z",
     "start_time": "2023-10-25T14:59:56.169144700Z"
    }
   },
   "outputs": [
    {
     "name": "stdout",
     "output_type": "stream",
     "text": [
      "浑河\n",
      "看过\n",
      "\n",
      "\n",
      "                    2021-02-13 01:25:11\n"
     ]
    }
   ],
   "source": [
    "# To do: 爬取豆瓣电影评论区每个用户的名字，并存入到name.txt文件中\n",
    "urls = ['https://movie.douban.com/subject/34841067/comments?start={}&limit=20&status=P&sort=new_score'.format(str(i)) for i in range(0, 200, 20)]   \n",
    "\n",
    "for url in urls:\n",
    "    # 请求头\n",
    "    headers = {\n",
    "        \"User-Agent\": \"Mozilla/5.0 (Windows NT 10.0; Win64; x64) AppleWebKit/537.36 \\\n",
    "        (KHTML, like Gecko) Chrome/90.0.4430.212 Safari/537.36\"\n",
    "    }\n",
    "    r = requests.get(url=url, headers=headers).text   \n",
    "    res = BeautifulSoup(r, 'html.parser')\n",
    "    p_list=res.find_all('span',class_=\"comment-info\")\n",
    "    name_list = []\n",
    "    for p in p_list:\n",
    "        name = p.text.strip()\n",
    "        name_list.append(name)\n",
    "    with open('name.txt', 'a', encoding='utf-8') as f:\n",
    "        for name in name_list:\n",
    "            f.write(name + '\\n')\n",
    "            \n",
    "print(name_list[0])"
   ]
  },
  {
   "cell_type": "markdown",
   "metadata": {},
   "source": [
    "# 高德地图POI数据爬取"
   ]
  },
  {
   "cell_type": "markdown",
   "metadata": {},
   "source": [
    "## 高德地图POI数据爬取练习"
   ]
  },
  {
   "cell_type": "markdown",
   "metadata": {},
   "source": [
    "### 1、根据教程和高德API接口教程，自行爬取深圳技术大学10000米以内的餐饮服务类地区。（餐饮服务的types为050000）"
   ]
  },
  {
   "cell_type": "code",
   "execution_count": 13,
   "metadata": {
    "ExecuteTime": {
     "end_time": "2023-10-25T12:38:06.824578Z",
     "start_time": "2023-10-25T12:38:06.759840300Z"
    }
   },
   "outputs": [],
   "source": [
    "import requests\n",
    "import math\n",
    "import json\n",
    "import pandas as pd"
   ]
  },
  {
   "cell_type": "code",
   "execution_count": 14,
   "metadata": {
    "ExecuteTime": {
     "end_time": "2023-10-25T12:53:49.461872400Z",
     "start_time": "2023-10-25T12:53:49.368999300Z"
    }
   },
   "outputs": [],
   "source": [
    "key = \"f2f33d3516eea1164bff246bc6bf03f6\"\n",
    "keywords = \"餐饮服务\"\n",
    "city = 440300\n",
    "extensions = \"all\"\n",
    "offset = 20\n",
    "page = 1\n",
    "\n",
    "url = \"https://restapi.amap.com/v3/place/text?key={}&keywords={}&city={}&extensions={}&offset={}&page={}\".format(key, keywords, city, extensions, offset, page)"
   ]
  },
  {
   "cell_type": "code",
   "execution_count": 16,
   "outputs": [
    {
     "name": "stdout",
     "output_type": "stream",
     "text": [
      "200\n",
      "{\"suggestion\":{\"keywords\":[],\"cities\":[]},\"count\":\"897\",\"infocode\":\"10000\",\"pois\":[{\"parent\":\"B0FFF4QWA3\",\"distance\":[],\"pcode\":\"440000\",\"importance\":[],\"biz_ext\":{\"cost\":\"44.00\",\"rating\":\"4.5\",\"meal_ordering\":\"0\"},\"recommend\":\"0\",\"type\":\"餐饮服务;快餐厅;快餐厅\",\"photos\":[{\"title\":[],\"url\":\"http://store.is.autonavi.com/showpic/4a2e954612737a58fe36a5b98b3bf2e8\"},{\"title\":[],\"url\":\"http://store.is.autonavi.com/showpic/c58e979e069909fbe1a08543d4c7e435\"},{\"title\":[],\"url\":\"http://store.is.autonavi.com/showpic/f054bc9311eb61443181e3b02219fc42\"}],\"discount_num\":\"0\",\"gridcode\":\"3314605402\",\"typecode\":\"050300\",\"shopinfo\":\"1\",\"poiweight\":[],\"citycode\":\"0755\",\"adname\":\"福田区\",\"children\":[],\"alias\":[],\"tel\":\"4008988788\",\"id\":\"B0FFGZU19T\",\"tag\":\"汉堡,薯条,鸡翅,鸡块,牛腩,盐酥鸡,烤猪\",\"event\":[],\"entr_location\":\"114.0616,22.542711\",\"indoor_map\":\"0\",\"email\":[],\"timestamp\":\"2023-10-25 03:02:02\",\"website\":[],\"address\":\"福中三路市民中心地铁站B出口负一楼29号铺\",\"adcode\":\"440304\",\"pname\":\"广东省\",\"biz_type\":\"diner\",\"cityname\":\"深圳市\",\"postcode\":[],\"match\":\"0\",\"business_area\":[],\"indoor_data\":{\"cmsid\":[],\"truefloor\":[],\"cpid\":[],\"floor\":[]},\"childtype\":\"202\",\"exit_location\":[],\"name\":\"汉堡王深圳市民中心店\",\"location\":\"114.061694,22.542464\",\"shopid\":[],\"navi_poiid\":[],\"groupbuy_num\":\"0\"},{\"parent\":\"B02F38P26Z\",\"distance\":[],\"pcode\":\"440000\",\"importance\":[],\"biz_ext\":{\"cost\":\"54.00\",\"rating\":\"4.6\",\"meal_ordering\":\"0\"},\"recommend\":\"0\",\"type\":\"餐饮服务;中餐厅;中餐厅\",\"photos\":[{\"title\":[],\"url\":\"http://store.is.autonavi.com/showpic/42c64ccbefe0d58b6a69d76690f9493f\"},{\"title\":[],\"url\":\"http://store.is.autonavi.com/showpic/8f0b63b004da0e71c44cabee34dffdac\"},{\"title\":[],\"url\":\"http://store.is.autonavi.com/showpic/0f38d7e485f84675c839326a8a842149\"}],\"discount_num\":\"0\",\"gridcode\":\"3314605412\",\"typecode\":\"050100\",\"shopinfo\":\"0\",\"poiweight\":[],\"citycode\":\"0755\",\"adname\":\"福田区\",\"children\":[],\"alias\":[],\"tel\":\"0755-23992142\",\"id\":\"B02F37UAJL\",\"tag\":\"面点\",\"event\":[],\"entr_location\":\"114.059356,22.546605\",\"indoor_map\":\"0\",\"email\":[],\"timestamp\":\"2023-09-09 23:59:07\",\"website\":[],\"address\":\"莲花街道书城中心城夹层(少年宫地铁站D口步行160米)\",\"adcode\":\"440304\",\"pname\":\"广东省\",\"biz_type\":\"diner\",\"cityname\":\"深圳市\",\"postcode\":\"518036\",\"match\":\"0\",\"business_area\":[],\"indoor_data\":{\"cmsid\":[],\"truefloor\":[],\"cpid\":[],\"floor\":[]},\"childtype\":\"202\",\"exit_location\":[],\"name\":\"面点王(书城分店)\",\"location\":\"114.059468,22.546282\",\"shopid\":[],\"navi_poiid\":\"F50F018001_958\",\"groupbuy_num\":\"0\"},{\"parent\":[],\"distance\":[],\"pcode\":\"440000\",\"importance\":[],\"biz_ext\":{\"cost\":\"64.00\",\"rating\":\"4.9\",\"meal_ordering\":\"0\"},\"recommend\":\"0\",\"type\":\"餐饮服务;快餐厅;肯德基\",\"photos\":[{\"title\":[],\"url\":\"http://store.is.autonavi.com/showpic/cf64ea8e22533b4bba864a3b10c322fb\"},{\"title\":[],\"url\":\"http://store.is.autonavi.com/showpic/edd186af57de8bf92f03f4f5a97cdfdf\"},{\"title\":[],\"url\":\"http://store.is.autonavi.com/showpic/a1cd183da7f75c4bb6e08001e8753396\"}],\"discount_num\":\"0\",\"gridcode\":\"3314605412\",\"typecode\":\"050301\",\"shopinfo\":\"0\",\"poiweight\":[],\"citycode\":\"0755\",\"adname\":\"福田区\",\"children\":[],\"alias\":[],\"tel\":\"0755-23992116;0755-23992161\",\"id\":\"B02F37UAK5\",\"tag\":\"薯条,老北京鸡肉卷,葡式蛋挞\",\"event\":[],\"entr_location\":\"114.059826,22.546753\",\"indoor_map\":\"0\",\"email\":[],\"timestamp\":\"2023-10-23 16:29:29\",\"website\":[],\"address\":\"红荔路中心书城1层B140-B144\",\"adcode\":\"440304\",\"pname\":\"广东省\",\"biz_type\":\"diner\",\"cityname\":\"深圳市\",\"postcode\":[],\"match\":\"0\",\"business_area\":[],\"indoor_data\":{\"cmsid\":[],\"truefloor\":[],\"cpid\":[],\"floor\":[]},\"childtype\":[],\"exit_location\":[],\"name\":\"肯德基(深圳中心书城餐厅)\",\"location\":\"114.059956,22.547193\",\"shopid\":[],\"navi_poiid\":[],\"groupbuy_num\":\"0\"},{\"parent\":[],\"distance\":[],\"pcode\":\"440000\",\"importance\":[],\"biz_ext\":{\"cost\":\"56.00\",\"rating\":\"4.7\",\"meal_ordering\":\"0\"},\"recommend\":\"0\",\"type\":\"餐饮服务;快餐厅;必胜客\",\"photos\":[{\"title\":[],\"url\":\"http://store.is.autonavi.com/showpic/fa4ded920fea007e033453f63c1aeed4\"},{\"title\":[],\"url\":\"http://store.is.autonavi.com/showpic/dcc6879b3dd484e1238d3474e348bb20\"},{\"title\":[],\"url\":\"http://store.is.autonavi.com/showpic/660fbc2ff76dce61f66406da31178bee\"}],\"discount_num\":\"0\",\"gridcode\":\"3314605422\",\"typecode\":\"050303\",\"shopinfo\":\"0\",\"poiweight\":[],\"citycode\":\"0755\",\"adname\":\"福田区\",\"children\":[],\"alias\":[],\"tel\":\"0755-23992162;0755-23992167;4009701890\",\"id\":\"B02F37UAJX\",\"tag\":\"牛排,榴莲披萨,披萨\",\"event\":[],\"entr_location\":\"114.059085,22.546713\",\"indoor_map\":\"0\",\"email\":[],\"timestamp\":\"2023-10-24 03:02:48\",\"website\":[],\"address\":\"红荔路深圳中心书城1层(少年宫地铁站E口步行160米)\",\"adcode\":\"440304\",\"pname\":\"广东省\",\"biz_type\":\"diner\",\"cityname\":\"深圳市\",\"postcode\":\"518036\",\"match\":\"0\",\"business_area\":[],\"indoor_data\":{\"cmsid\":[],\"truefloor\":[],\"cpid\":[],\"floor\":[]},\"childtype\":[],\"exit_location\":[],\"name\":\"必胜客(深圳中心书城店)\",\"location\":\"114.059130,22.547556\",\"shopid\":[],\"navi_poiid\":\"F50F018001_1013\",\"groupbuy_num\":\"0\"},{\"parent\":\"B02F300707\",\"distance\":[],\"pcode\":\"440000\",\"importance\":[],\"biz_ext\":{\"cost\":\"30.00\",\"rating\":\"4.3\",\"meal_ordering\":\"0\"},\"recommend\":\"0\",\"type\":\"餐饮服务;快餐厅;快餐厅\",\"photos\":[{\"title\":[],\"url\":\"http://store.is.autonavi.com/showpic/f81292ae33452a0b4fdd589774ca0770\"},{\"title\":[],\"url\":\"http://store.is.autonavi.com/showpic/2143b99dcb9fa34ae83d73cedf19e942\"},{\"title\":[],\"url\":\"http://store.is.autonavi.com/showpic/ad07b2ed3f0741b4717579ac4a15195e\"}],\"discount_num\":\"0\",\"gridcode\":\"3314605411\",\"typecode\":\"050300\",\"shopinfo\":\"0\",\"poiweight\":[],\"citycode\":\"0755\",\"adname\":\"福田区\",\"children\":[],\"alias\":[],\"tel\":\"0755-83734697;4008159797\",\"id\":\"B02F37TNGE\",\"tag\":\"豆浆油条,现磨豆浆,油条,卤肉饭,卤肉\",\"event\":[],\"entr_location\":[],\"indoor_map\":\"0\",\"email\":[],\"timestamp\":\"2023-10-20 00:45:55\",\"website\":[],\"address\":\"益田路6013号江苏大厦B座1层A儿童医院旁\",\"adcode\":\"440304\",\"pname\":\"广东省\",\"biz_type\":\"diner\",\"cityname\":\"深圳市\",\"postcode\":\"518026\",\"match\":\"0\",\"business_area\":[],\"indoor_data\":{\"cmsid\":[],\"truefloor\":[],\"cpid\":[],\"floor\":[]},\"childtype\":\"202\",\"exit_location\":[],\"name\":\"永和大王(江苏大厦店)\",\"location\":\"114.055101,22.546500\",\"shopid\":[],\"navi_poiid\":\"F50F018001_1825\",\"groupbuy_num\":\"0\"},{\"parent\":\"B0I1X6GZOS\",\"distance\":[],\"pcode\":\"440000\",\"importance\":[],\"biz_ext\":{\"cost\":\"281.00\",\"rating\":\"4.8\",\"meal_ordering\":\"0\"},\"recommend\":\"0\",\"type\":\"餐饮服务;外国餐厅;日本料理\",\"photos\":[{\"title\":[],\"url\":\"http://store.is.autonavi.com/showpic/09d2d587a23e5b26fac270ab6b9de7d8\"},{\"title\":[],\"url\":\"http://store.is.autonavi.com/showpic/36fe7543913099f7c9f08268e729b48f\"},{\"title\":[],\"url\":\"http://store.is.autonavi.com/showpic/e0b454a6d5fa2a8ad10b0aaa9a10665c\"}],\"discount_num\":\"0\",\"gridcode\":\"3314605500\",\"typecode\":\"050202\",\"shopinfo\":\"1\",\"poiweight\":[],\"citycode\":\"0755\",\"adname\":\"福田区\",\"children\":[],\"alias\":[],\"tel\":\"18038095098\",\"id\":\"B0FFLEAOT9\",\"tag\":\"日本料理,寿司\",\"event\":[],\"entr_location\":\"114.064136,22.542273\",\"indoor_map\":\"0\",\"email\":[],\"timestamp\":\"2023-10-24 03:02:19\",\"website\":[],\"address\":\"金田路安联大厦B座36楼B01-C\",\"adcode\":\"440304\",\"pname\":\"广东省\",\"biz_type\":\"diner\",\"cityname\":\"深圳市\",\"postcode\":[],\"match\":\"0\",\"business_area\":[],\"indoor_data\":{\"cmsid\":[],\"truefloor\":[],\"cpid\":[],\"floor\":[]},\"childtype\":\"202\",\"exit_location\":[],\"name\":\"观璟高空日本料理(福田市民中心灯光秀店)\",\"location\":\"114.063681,22.542271\",\"shopid\":[],\"navi_poiid\":[],\"groupbuy_num\":\"0\"},{\"parent\":\"B02F38SZJ8\",\"distance\":[],\"pcode\":\"440000\",\"importance\":[],\"biz_ext\":{\"cost\":\"590.00\",\"rating\":\"4.9\",\"meal_ordering\":\"0\"},\"recommend\":\"0\",\"type\":\"餐饮服务;外国餐厅;外国餐厅\",\"photos\":[{\"title\":[],\"url\":\"http://store.is.autonavi.com/showpic/19aeed17aafade089d5eb2b721383d9e\"},{\"title\":[],\"url\":\"http://store.is.autonavi.com/showpic/f5fd67ced950d7a5142c6dac1bf17cdc\"},{\"title\":[],\"url\":\"http://store.is.autonavi.com/showpic/b5b2fce049f649605ec42c8851d6d785\"}],\"discount_num\":\"0\",\"gridcode\":\"3314605500\",\"typecode\":\"050200\",\"shopinfo\":\"1\",\"poiweight\":[],\"citycode\":\"0755\",\"adname\":\"福田区\",\"children\":[],\"alias\":[],\"tel\":\"18018732688\",\"id\":\"B0H6LCF47V\",\"tag\":\"刺身,居酒屋,天妇罗,寿司,帝王蟹,海胆蒸蛋\",\"event\":[],\"entr_location\":\"114.063985,22.542576\",\"indoor_map\":\"0\",\"email\":[],\"timestamp\":\"2023-10-25 01:23:29\",\"website\":[],\"address\":\"金田路4018号安联大厦B座18楼18B02-B (市民中心地铁站B口步行370米)\",\"adcode\":\"440304\",\"pname\":\"广东省\",\"biz_type\":\"diner\",\"cityname\":\"深圳市\",\"postcode\":[],\"match\":\"0\",\"business_area\":[],\"indoor_data\":{\"cmsid\":[],\"truefloor\":[],\"cpid\":[],\"floor\":[]},\"childtype\":\"202\",\"exit_location\":[],\"name\":\"鹤松·高空の上(福田灯光秀店)\",\"location\":\"114.063974,22.542455\",\"shopid\":[],\"navi_poiid\":[],\"groupbuy_num\":\"0\"},{\"parent\":\"B02F309XXI\",\"distance\":[],\"pcode\":\"440000\",\"importance\":[],\"biz_ext\":{\"cost\":\"34.00\",\"rating\":\"4.8\",\"meal_ordering\":\"0\"},\"recommend\":\"0\",\"type\":\"餐饮服务;快餐厅;麦当劳\",\"photos\":[{\"title\":[],\"url\":\"http://store.is.autonavi.com/showpic/50a75f062b5143f71f23714c9f426391\"},{\"title\":[],\"url\":\"http://store.is.autonavi.com/showpic/52cedf2998e529363e15822b56e04541\"},{\"title\":[],\"url\":\"http://store.is.autonavi.com/showpic/eaca3b659ca2f784367185c6f41f2be2\"}],\"discount_num\":\"0\",\"gridcode\":\"3314604410\",\"typecode\":\"050302\",\"shopinfo\":\"0\",\"poiweight\":[],\"citycode\":\"0755\",\"adname\":\"福田区\",\"children\":[],\"alias\":[],\"tel\":\"0755-23914247;0755-82706519\",\"id\":\"B02F37UALO\",\"tag\":\"甜筒,巨无霸,汉堡,薯条,大鸡排\",\"event\":[],\"entr_location\":[],\"indoor_map\":\"0\",\"email\":[],\"timestamp\":\"2023-10-14 01:01:05\",\"website\":[],\"address\":\"民田路182华融大厦1栋1层\",\"adcode\":\"440304\",\"pname\":\"广东省\",\"biz_type\":\"diner\",\"cityname\":\"深圳市\",\"postcode\":[],\"match\":\"0\",\"business_area\":[],\"indoor_data\":{\"cmsid\":[],\"truefloor\":[],\"cpid\":[],\"floor\":[]},\"childtype\":\"202\",\"exit_location\":[],\"name\":\"麦当劳(华融大厦店)\",\"location\":\"114.053173,22.537652\",\"shopid\":[],\"navi_poiid\":\"F50F018001_1453\",\"groupbuy_num\":\"0\"},{\"parent\":\"B0FFHHECXT\",\"distance\":[],\"pcode\":\"440000\",\"importance\":[],\"biz_ext\":{\"cost\":\"31.00\",\"rating\":\"4.0\",\"meal_ordering\":\"0\"},\"recommend\":\"0\",\"type\":\"餐饮服务;快餐厅;茶餐厅\",\"photos\":[{\"title\":[],\"url\":\"http://store.is.autonavi.com/showpic/55accda2a310a084c90ff294\"},{\"title\":[],\"url\":\"http://store.is.autonavi.com/showpic/5212ef0294073f822f60bc5385d9cc27\"},{\"title\":[],\"url\":\"http://store.is.autonavi.com/showpic/e2adc4c2ab71743a6b427a9473033dda\"}],\"discount_num\":\"0\",\"gridcode\":\"3314605411\",\"typecode\":\"050305\",\"shopinfo\":\"0\",\"poiweight\":[],\"citycode\":\"0755\",\"adname\":\"福田区\",\"children\":[],\"alias\":[],\"tel\":\"0755-83599066\",\"id\":\"B02F38MTK1\",\"tag\":[],\"event\":[],\"entr_location\":[],\"indoor_map\":\"0\",\"email\":[],\"timestamp\":\"2023-10-25 09:37:08\",\"website\":[],\"address\":\"福中一路3001号江苏大厦B栋1层\",\"adcode\":\"440304\",\"pname\":\"广东省\",\"biz_type\":\"diner\",\"cityname\":\"深圳市\",\"postcode\":[],\"match\":\"0\",\"business_area\":[],\"indoor_data\":{\"cmsid\":[],\"truefloor\":[],\"cpid\":[],\"floor\":[]},\"childtype\":\"202\",\"exit_location\":[],\"name\":\"风味鲜茶餐厅(江苏大厦B座店)\",\"location\":\"114.055654,22.546385\",\"shopid\":[],\"navi_poiid\":\"F50F018001_117777\",\"groupbuy_num\":\"0\"},{\"parent\":[],\"distance\":[],\"pcode\":\"440000\",\"importance\":[],\"biz_ext\":{\"cost\":\"54.00\",\"rating\":\"4.4\",\"meal_ordering\":\"0\"},\"recommend\":\"0\",\"type\":\"餐饮服务;中餐厅;中餐厅\",\"photos\":[{\"title\":[],\"url\":\"http://store.is.autonavi.com/showpic/017ddca5584d015dc541cb5dde585065\"},{\"title\":[],\"url\":\"http://store.is.autonavi.com/showpic/0c6117f2e8bf3d87ab6788d6ab72088a\"},{\"title\":[],\"url\":\"http://store.is.autonavi.com/showpic/aa959c5b698443c700f5d773651a00e1\"}],\"discount_num\":\"0\",\"gridcode\":\"3314605400\",\"typecode\":\"050100\",\"shopinfo\":\"0\",\"poiweight\":[],\"citycode\":\"0755\",\"adname\":\"福田区\",\"children\":[],\"alias\":[],\"tel\":\"0755-82963369\",\"id\":\"B02F37TUYX\",\"tag\":[],\"event\":[],\"entr_location\":\"114.052790,22.543216\",\"indoor_map\":\"0\",\"email\":[],\"timestamp\":\"2023-10-19 07:19:18\",\"website\":[],\"address\":\"福中路317号黄埔雅苑雅逸会1楼\",\"adcode\":\"440304\",\"pname\":\"广东省\",\"biz_type\":\"diner\",\"cityname\":\"深圳市\",\"postcode\":[],\"match\":\"0\",\"business_area\":[],\"indoor_data\":{\"cmsid\":[],\"truefloor\":[],\"cpid\":[],\"floor\":[]},\"childtype\":[],\"exit_location\":[],\"name\":\"天天老北方(黄埔雅苑店)\",\"location\":\"114.052569,22.543069\",\"shopid\":[],\"navi_poiid\":\"F50F018001_1564\",\"groupbuy_num\":\"0\"},{\"parent\":\"B02F37TPHK\",\"distance\":[],\"pcode\":\"440000\",\"importance\":[],\"biz_ext\":{\"cost\":\"108.00\",\"rating\":\"4.7\",\"meal_ordering\":\"0\"},\"recommend\":\"0\",\"type\":\"餐饮服务;中餐厅;北京菜|餐饮服务;中餐厅;特色/地方风味餐厅\",\"photos\":[{\"title\":[],\"url\":\"http://store.is.autonavi.com/showpic/4e06da29bba53c20b7924c0821822254\"},{\"title\":[],\"url\":\"http://store.is.autonavi.com/showpic/c425c52d6df64cc8618079ca26a214be\"},{\"title\":[],\"url\":\"http://store.is.autonavi.com/showpic/5d9d0afcf83c5b05ec47011dfb20b935\"}],\"discount_num\":\"0\",\"gridcode\":\"3314604402\",\"typecode\":\"050111|050118\",\"shopinfo\":\"1\",\"poiweight\":[],\"citycode\":\"0755\",\"adname\":\"福田区\",\"children\":[],\"alias\":[],\"tel\":\"0755-83230100\",\"id\":\"B0FFG2Y89S\",\"tag\":\"鸭肉,烤鸭,片皮鸭,驴打滚,京酱肉丝,京东肉饼,韭菜盒子,羊肉,特色菜\",\"event\":[],\"entr_location\":\"114.059025,22.536764\",\"indoor_map\":\"1\",\"email\":[],\"timestamp\":\"2023-10-25 15:04:34\",\"website\":[],\"address\":\"福华一路领展中心城西侧L1层FL1024号铺\",\"adcode\":\"440304\",\"pname\":\"广东省\",\"biz_type\":\"diner\",\"cityname\":\"深圳市\",\"postcode\":[],\"match\":\"0\",\"business_area\":[],\"indoor_data\":{\"cmsid\":\"GD0000690210101009\",\"truefloor\":\"L\",\"cpid\":\"B02F37TPHK\",\"floor\":\"1\"},\"childtype\":\"201\",\"exit_location\":[],\"name\":\"同顺居北京菜馆(领展中心城店)\",\"location\":\"114.059050,22.536099\",\"shopid\":[],\"navi_poiid\":\"F50F018001_159185\",\"groupbuy_num\":\"0\"},{\"parent\":\"B02F37TPHK\",\"distance\":[],\"pcode\":\"440000\",\"importance\":[],\"biz_ext\":{\"cost\":\"25.00\",\"rating\":\"4.7\",\"meal_ordering\":\"0\"},\"recommend\":\"0\",\"type\":\"餐饮服务;快餐厅;麦当劳\",\"photos\":[{\"title\":[],\"url\":\"http://store.is.autonavi.com/showpic/e8768e98661b0b31e67f155d774dc425\"},{\"title\":[],\"url\":\"http://store.is.autonavi.com/showpic/ec21d0096afaf64bdc05a6cd51511728\"},{\"title\":[],\"url\":\"http://store.is.autonavi.com/showpic/ef320d1a232f538d48b3be835eaedb04\"}],\"discount_num\":\"0\",\"gridcode\":\"3314604402\",\"typecode\":\"050302\",\"shopinfo\":\"0\",\"poiweight\":[],\"citycode\":\"0755\",\"adname\":\"福田区\",\"children\":[],\"alias\":[],\"tel\":\"0755-82801521;0755-82801522\",\"id\":\"B02F37VX9P\",\"tag\":\"巨无霸,大鸡排,甜筒,薯条,汉堡\",\"event\":[],\"entr_location\":\"114.05853,22.535749\",\"indoor_map\":\"1\",\"email\":[],\"timestamp\":\"2023-10-25 13:34:25\",\"website\":[],\"address\":\"福华一路3号领展中心城G层FG002\",\"adcode\":\"440304\",\"pname\":\"广东省\",\"biz_type\":\"diner\",\"cityname\":\"深圳市\",\"postcode\":[],\"match\":\"0\",\"business_area\":[],\"indoor_data\":{\"cmsid\":\"GD0000690200200762_B02F37VX9P\",\"truefloor\":\"G\",\"cpid\":\"B02F37TPHK\",\"floor\":\"-2\"},\"childtype\":\"201\",\"exit_location\":[],\"name\":\"麦当劳(领展中心城店)\",\"location\":\"114.059153,22.535709\",\"shopid\":[],\"navi_poiid\":\"F50F018001_69791\",\"groupbuy_num\":\"0\"},{\"parent\":\"B02F30ACKT\",\"distance\":[],\"pcode\":\"440000\",\"importance\":[],\"biz_ext\":{\"cost\":\"203.00\",\"rating\":\"4.5\",\"meal_ordering\":\"0\"},\"recommend\":\"0\",\"type\":\"餐饮服务;中餐厅;海鲜酒楼\",\"photos\":[{\"title\":[],\"url\":\"http://store.is.autonavi.com/showpic/a029149b05aad04e6e227cab4ae515f9\"},{\"title\":[],\"url\":\"http://store.is.autonavi.com/showpic/b9378384dda5b4664e3d14f5a338207c\"},{\"title\":[],\"url\":\"http://store.is.autonavi.com/showpic/838fbebac4fbcf626718ba552989bccb\"}],\"discount_num\":\"0\",\"gridcode\":\"3314604410\",\"typecode\":\"050119\",\"shopinfo\":\"0\",\"poiweight\":[],\"citycode\":\"0755\",\"adname\":\"福田区\",\"children\":[],\"alias\":[],\"tel\":\"0755-33331818;0755-88263666\",\"id\":\"B02F37UPVD\",\"tag\":\"卤水拼盘,点心,腊味煲仔饭,早茶\",\"event\":[],\"entr_location\":\"114.052896,22.537891\",\"indoor_map\":\"0\",\"email\":[],\"timestamp\":\"2023-10-25 15:01:27\",\"website\":[],\"address\":\"民田路171号新华保险大厦2层\",\"adcode\":\"440304\",\"pname\":\"广东省\",\"biz_type\":\"diner\",\"cityname\":\"深圳市\",\"postcode\":\"518048\",\"match\":\"0\",\"business_area\":[],\"indoor_data\":{\"cmsid\":[],\"truefloor\":[],\"cpid\":[],\"floor\":[]},\"childtype\":\"202\",\"exit_location\":[],\"name\":\"北海渔村(新华保险大厦店)\",\"location\":\"114.052744,22.538014\",\"shopid\":[],\"navi_poiid\":\"F50F018001_77557;453557\",\"groupbuy_num\":\"0\"},{\"parent\":\"B02F38P5VS\",\"distance\":[],\"pcode\":\"440000\",\"importance\":[],\"biz_ext\":{\"cost\":\"18.00\",\"rating\":\"4.3\",\"meal_ordering\":\"0\"},\"recommend\":\"0\",\"type\":\"餐饮服务;快餐厅;快餐厅\",\"photos\":[{\"title\":[],\"url\":\"http://store.is.autonavi.com/showpic/f8e1c7fb3390d973b6ba2169b6452213\"},{\"title\":[],\"url\":\"http://store.is.autonavi.com/showpic/ba0c080dfbb89f5a4978f710a1eb3846\"},{\"title\":[],\"url\":\"http://store.is.autonavi.com/showpic/b70387ca551658f07716d26162046736\"}],\"discount_num\":\"0\",\"gridcode\":\"3314604520\",\"typecode\":\"050300\",\"shopinfo\":\"0\",\"poiweight\":[],\"citycode\":\"0755\",\"adname\":\"福田区\",\"children\":[],\"alias\":[],\"tel\":\"0755-23942278;0755-23942678;15817319603\",\"id\":\"B02F37WJU4\",\"tag\":\"冻奶茶,柠檬茶,茄子\",\"event\":[],\"entr_location\":\"114.064852,22.541826\",\"indoor_map\":\"0\",\"email\":[],\"timestamp\":\"2023-10-13 23:32:34\",\"website\":[],\"address\":\"深南大道2008中国凤凰大厦3座203-205室\",\"adcode\":\"440304\",\"pname\":\"广东省\",\"biz_type\":\"diner\",\"cityname\":\"深圳市\",\"postcode\":[],\"match\":\"0\",\"business_area\":[],\"indoor_data\":{\"cmsid\":[],\"truefloor\":[],\"cpid\":[],\"floor\":[]},\"childtype\":\"202\",\"exit_location\":[],\"name\":\"嘉旺(中国凤凰大厦店)\",\"location\":\"114.064855,22.541486\",\"shopid\":[],\"navi_poiid\":\"F50F018001_237636\",\"groupbuy_num\":\"0\"},{\"parent\":[],\"distance\":[],\"pcode\":\"440000\",\"importance\":[],\"biz_ext\":{\"cost\":\"326.00\",\"rating\":\"4.3\",\"meal_ordering\":\"0\"},\"recommend\":\"0\",\"type\":\"餐饮服务;中餐厅;中餐厅\",\"photos\":[{\"title\":[],\"url\":\"http://store.is.autonavi.com/showpic/0a82052d8481444fdd2fb59fb40ee2e0\"},{\"title\":[],\"url\":\"http://store.is.autonavi.com/showpic/2e57471907bad75478ff40e30960b4d1\"},{\"title\":[],\"url\":\"http://store.is.autonavi.com/showpic/dd3c813f3dbc5a5a8fa8d24417b3df10\"}],\"discount_num\":\"0\",\"gridcode\":\"3314604411\",\"typecode\":\"050100\",\"shopinfo\":\"0\",\"poiweight\":[],\"citycode\":\"0755\",\"adname\":\"福田区\",\"children\":[],\"alias\":[],\"tel\":\"0755-21513835;0755-21513838;15816885740\",\"id\":\"B02F38JBCI\",\"tag\":\"年夜饭,肉饼,酱肉包\",\"event\":[],\"entr_location\":\"114.058122,22.536766\",\"indoor_map\":\"0\",\"email\":[],\"timestamp\":\"2023-10-16 08:38:30\",\"website\":[],\"address\":\"益田路4088号福田香格里拉二层\",\"adcode\":\"440304\",\"pname\":\"广东省\",\"biz_type\":\"diner\",\"cityname\":\"深圳市\",\"postcode\":[],\"match\":\"0\",\"business_area\":[],\"indoor_data\":{\"cmsid\":[],\"truefloor\":[],\"cpid\":[],\"floor\":[]},\"childtype\":[],\"exit_location\":[],\"name\":\"香乐园中餐厅(福田香格里拉店)\",\"location\":\"114.058082,22.536540\",\"shopid\":[],\"navi_poiid\":[],\"groupbuy_num\":\"0\"},{\"parent\":\"B02F37U18C\",\"distance\":[],\"pcode\":\"440000\",\"importance\":[],\"biz_ext\":{\"cost\":\"437.00\",\"rating\":\"4.7\",\"meal_ordering\":\"0\"},\"recommend\":\"0\",\"type\":\"餐饮服务;中餐厅;中餐厅\",\"photos\":[{\"title\":[],\"url\":\"http://store.is.autonavi.com/showpic/8a2ee78c3cf2af64b3fdf70969110b3d\"},{\"title\":\"环境\",\"url\":\"http://store.is.autonavi.com/showpic/a3cd6d478e996ecbf59aaeb641bfede8\"},{\"title\":[],\"url\":\"http://store.is.autonavi.com/showpic/8c4a060e7f36dfc62b46f3442c5c9357\"}],\"discount_num\":\"0\",\"gridcode\":\"3314604410\",\"typecode\":\"050100\",\"shopinfo\":\"0\",\"poiweight\":[],\"citycode\":\"0755\",\"adname\":\"福田区\",\"children\":[],\"alias\":[],\"tel\":\"0755-82728001;0755-82728002\",\"id\":\"B02F37VVFR\",\"tag\":\"狮头鹅,卤水拼盘,虾饺,潮州菜,素菜\",\"event\":[],\"entr_location\":\"114.053006,22.537102\",\"indoor_map\":\"0\",\"email\":[],\"timestamp\":\"2023-10-18 13:44:07\",\"website\":[],\"address\":\"民田路168特美思大厦3层\",\"adcode\":\"440304\",\"pname\":\"广东省\",\"biz_type\":\"diner\",\"cityname\":\"深圳市\",\"postcode\":\"518048\",\"match\":\"0\",\"business_area\":[],\"indoor_data\":{\"cmsid\":[],\"truefloor\":[],\"cpid\":[],\"floor\":[]},\"childtype\":\"202\",\"exit_location\":[],\"name\":\"佳宁娜潮州菜(特美思大厦店)\",\"location\":\"114.053662,22.537141\",\"shopid\":[],\"navi_poiid\":\"F50F018001_77575\",\"groupbuy_num\":\"0\"},{\"parent\":\"B02F37TPHK\",\"distance\":[],\"pcode\":\"440000\",\"importance\":[],\"biz_ext\":{\"cost\":\"28.00\",\"rating\":\"4.9\",\"meal_ordering\":\"0\"},\"recommend\":\"0\",\"type\":\"餐饮服务;外国餐厅;意式菜品餐厅\",\"photos\":[{\"title\":[],\"url\":\"http://store.is.autonavi.com/showpic/83af1d6a9e8e07a18ae91b13ba276332\"},{\"title\":[],\"url\":\"http://store.is.autonavi.com/showpic/d6c93e532b1412bcc564d0b50c67c0e9\"},{\"title\":[],\"url\":\"http://store.is.autonavi.com/showpic/0bce94ae03313359880dc72b3f3096d3\"}],\"discount_num\":\"0\",\"gridcode\":\"3314604402\",\"typecode\":\"050205\",\"shopinfo\":\"0\",\"poiweight\":[],\"citycode\":\"0755\",\"adname\":\"福田区\",\"children\":[],\"alias\":[],\"tel\":\"0755-82778610\",\"id\":\"B0FFGXZ2C6\",\"tag\":\"土豆泥,披萨\",\"event\":[],\"entr_location\":\"114.059758,22.534819\",\"indoor_map\":\"0\",\"email\":[],\"timestamp\":\"2023-10-11 09:59:30\",\"website\":[],\"address\":\"福华一路3号怡景中心城B1层(会展中心地铁站出入口旁)\",\"adcode\":\"440304\",\"pname\":\"广东省\",\"biz_type\":\"diner\",\"cityname\":\"深圳市\",\"postcode\":[],\"match\":\"0\",\"business_area\":[],\"indoor_data\":{\"cmsid\":[],\"truefloor\":[],\"cpid\":[],\"floor\":[]},\"childtype\":\"202\",\"exit_location\":[],\"name\":\"萨莉亚意式餐厅(领展中心城店)\",\"location\":\"114.060136,22.535816\",\"shopid\":[],\"navi_poiid\":[],\"groupbuy_num\":\"0\"},{\"parent\":\"B02F37TPHK\",\"distance\":[],\"pcode\":\"440000\",\"importance\":[],\"biz_ext\":{\"cost\":\"208.00\",\"rating\":\"4.6\",\"meal_ordering\":\"0\"},\"recommend\":\"0\",\"type\":\"餐饮服务;外国餐厅;日本料理\",\"photos\":[{\"title\":[],\"url\":\"http://store.is.autonavi.com/showpic/6fae2fe350e76edce31922a95f909043\"},{\"title\":[],\"url\":\"http://store.is.autonavi.com/query_pic?id=st9741b690-b9b8-471f-af67-2addb76e7050&user=search&operate=original\"},{\"title\":[],\"url\":\"http://store.is.autonavi.com/showpic/a9bf5caa281ba8b0252b75a2edd37825\"}],\"discount_num\":\"0\",\"gridcode\":\"3314604402\",\"typecode\":\"050202\",\"shopinfo\":\"0\",\"poiweight\":[],\"citycode\":\"0755\",\"adname\":\"福田区\",\"children\":[],\"alias\":[],\"tel\":\"0755-82801802;0755-82801803\",\"id\":\"B02F37VSTC\",\"tag\":\"烤羊排,鹅肝,刺身\",\"event\":[],\"entr_location\":\"114.059773,22.534821\",\"indoor_map\":\"1\",\"email\":[],\"timestamp\":\"2023-10-25 15:06:00\",\"website\":[],\"address\":\"福华一路3号领展中心城L1层FL1002-3\",\"adcode\":\"440304\",\"pname\":\"广东省\",\"biz_type\":\"diner\",\"cityname\":\"深圳市\",\"postcode\":[],\"match\":\"0\",\"business_area\":[],\"indoor_data\":{\"cmsid\":\"GD0000690210100680_B02F37VSTC\",\"truefloor\":\"L\",\"cpid\":\"B02F37TPHK\",\"floor\":\"1\"},\"childtype\":\"201\",\"exit_location\":[],\"name\":\"大渔(领展中心城店)\",\"location\":\"114.059052,22.535960\",\"shopid\":[],\"navi_poiid\":\"F50F018001_69784\",\"groupbuy_num\":\"0\"},{\"parent\":\"B02F306L5G\",\"distance\":[],\"pcode\":\"440000\",\"importance\":[],\"biz_ext\":{\"cost\":\"157.00\",\"rating\":\"4.6\",\"meal_ordering\":\"0\"},\"recommend\":\"0\",\"type\":\"餐饮服务;中餐厅;中餐厅\",\"photos\":[{\"title\":[],\"url\":\"http://store.is.autonavi.com/showpic/95a4aef2b706d2b848a0be554f9c67e4\"},{\"title\":[],\"url\":\"http://store.is.autonavi.com/showpic/59f51c9ad1d956a316bc09c48cc2b61b\"},{\"title\":[],\"url\":\"http://store.is.autonavi.com/showpic/d17347ef67ce9193d294f6f4ea478e1a\"}],\"discount_num\":\"0\",\"gridcode\":\"3314605520\",\"typecode\":\"050100\",\"shopinfo\":\"0\",\"poiweight\":[],\"citycode\":\"0755\",\"adname\":\"福田区\",\"children\":[],\"alias\":[],\"tel\":\"0755-83561266\",\"id\":\"B0FFG7K1YB\",\"tag\":[],\"event\":[],\"entr_location\":\"114.063902,22.549262\",\"indoor_map\":\"0\",\"email\":[],\"timestamp\":\"2023-10-23 21:15:36\",\"website\":[],\"address\":\"红荔路6020-6026号关山月美术馆2层\",\"adcode\":\"440304\",\"pname\":\"广东省\",\"biz_type\":\"diner\",\"cityname\":\"深圳市\",\"postcode\":[],\"match\":\"0\",\"business_area\":[],\"indoor_data\":{\"cmsid\":[],\"truefloor\":[],\"cpid\":[],\"floor\":[]},\"childtype\":\"302\",\"exit_location\":[],\"name\":\"观舍·岭南菜\",\"location\":\"114.063942,22.549133\",\"shopid\":[],\"navi_poiid\":\"F50F018001_355604\",\"groupbuy_num\":\"0\"},{\"parent\":\"B02F38SZX0\",\"distance\":[],\"pcode\":\"440000\",\"importance\":[],\"biz_ext\":{\"cost\":\"118.00\",\"rating\":\"4.8\",\"meal_ordering\":\"0\"},\"recommend\":\"0\",\"type\":\"餐饮服务;中餐厅;广东菜(粤菜)\",\"photos\":[{\"title\":\"产品图\",\"url\":\"http://store.is.autonavi.com/showpic/7c665558f066d29246485b280eb62382\"},{\"title\":[],\"url\":\"http://store.is.autonavi.com/showpic/17c61a27f14f0a0769f2ebfe6a4c042b\"},{\"title\":[],\"url\":\"http://store.is.autonavi.com/showpic/f8b726ea595105f9fe07f62314ab8663\"}],\"discount_num\":\"0\",\"gridcode\":\"3314604410\",\"typecode\":\"050103\",\"shopinfo\":\"0\",\"poiweight\":[],\"citycode\":\"0755\",\"adname\":\"福田区\",\"children\":[],\"alias\":[],\"tel\":\"0755-88266255;0755-88266277\",\"id\":\"B02F37WNQ2\",\"tag\":\"红烧乳鸽,鲍汁凤爪,姜撞奶,顺德鱼生,鱼生\",\"event\":[],\"entr_location\":[],\"indoor_map\":\"0\",\"email\":[],\"timestamp\":\"2023-10-18 13:22:19\",\"website\":[],\"address\":\"深南大道4019号航天大厦B座2层\",\"adcode\":\"440304\",\"pname\":\"广东省\",\"biz_type\":\"diner\",\"cityname\":\"深圳市\",\"postcode\":[],\"match\":\"0\",\"business_area\":[],\"indoor_data\":{\"cmsid\":[],\"truefloor\":[],\"cpid\":[],\"floor\":[]},\"childtype\":\"202\",\"exit_location\":[],\"name\":\"胜记饭店(航天大厦店)\",\"location\":\"114.050899,22.538354\",\"shopid\":[],\"navi_poiid\":\"F50F018001_104791\",\"groupbuy_num\":\"0\"}],\"status\":\"1\",\"info\":\"OK\"}\n"
     ]
    }
   ],
   "source": [
    "r = requests.get(url)\n",
    "print(r.status_code)\n",
    "print(r.text)"
   ],
   "metadata": {
    "collapsed": false,
    "ExecuteTime": {
     "end_time": "2023-10-25T12:54:32.592985600Z",
     "start_time": "2023-10-25T12:54:31.885150400Z"
    }
   }
  },
  {
   "cell_type": "code",
   "execution_count": 20,
   "outputs": [
    {
     "name": "stdout",
     "output_type": "stream",
     "text": [
      "<class 'pandas.core.frame.DataFrame'>\n",
      "RangeIndex: 20 entries, 0 to 19\n",
      "Data columns (total 20 columns):\n",
      " #   Column      Non-Null Count  Dtype \n",
      "---  ------      --------------  ----- \n",
      " 0   parent      20 non-null     object\n",
      " 1   address     20 non-null     object\n",
      " 2   distance    20 non-null     object\n",
      " 3   pname       20 non-null     object\n",
      " 4   importance  20 non-null     object\n",
      " 5   biz_ext     20 non-null     object\n",
      " 6   biz_type    20 non-null     object\n",
      " 7   cityname    20 non-null     object\n",
      " 8   type        20 non-null     object\n",
      " 9   photos      20 non-null     object\n",
      " 10  typecode    20 non-null     object\n",
      " 11  shopinfo    20 non-null     object\n",
      " 12  poiweight   20 non-null     object\n",
      " 13  childtype   20 non-null     object\n",
      " 14  adname      20 non-null     object\n",
      " 15  name        20 non-null     object\n",
      " 16  location    20 non-null     object\n",
      " 17  tel         20 non-null     object\n",
      " 18  shopid      20 non-null     object\n",
      " 19  id          20 non-null     object\n",
      "dtypes: object(20)\n",
      "memory usage: 3.2+ KB\n"
     ]
    }
   ],
   "source": [
    "# address = \"深圳技术大学\"\n",
    "# city = 440300\n",
    "# output=\"JSON\"\n",
    "# \n",
    "# url = \"https://restapi.amap.com/v3/geocode/geo?key={}&address={}&city={}&output={}\".format(key, address, city, output)\n",
    "# \n",
    "# r = requests.get(url)\n",
    "# print(r.status_code)\n",
    "# print(r.text)\n",
    "address = \"深圳技术大学\"\n",
    "city = 440300\n",
    "output = \"JSON\"\n",
    "\n",
    "geocode_url = \"https://restapi.amap.com/v3/geocode/geo?key={}&address={}&city={}&output={}\".format(key, address, city, output)\n",
    "geocode_response = requests.get(geocode_url)\n",
    "geocode_data = json.loads(geocode_response.text)\n",
    "\n",
    "location = geocode_data[\"geocodes\"][0][\"location\"]\n",
    "latitude, longitude = location.split(',')\n",
    "\n",
    "keywords = \"餐饮服务\"\n",
    "types = \"050000\"\n",
    "offset = 20 \n",
    "\n",
    "def GetOnePage(url):\n",
    "    req = requests.get(url)\n",
    "    dic = json.loads(req.text)\n",
    "    return dic\n",
    "def GetAllPage(dic):\n",
    "    pois = []\n",
    "    page_count = math.ceil(int(dic['count']) / offset)\n",
    "\n",
    "    for i in range(1, page_count + 1):\n",
    "        url = f'https://restapi.amap.com/v3/place/text?keywords={keywords}&types={types}&citylimit=true&city={city}&output={output}&location={longitude},{latitude}&radius=10000&offset={offset}&page={i}&key={key}'\n",
    "        dic = GetOnePage(url)\n",
    "\n",
    "        for item in dic['pois']:\n",
    "            pois.append(item)\n",
    "\n",
    "    return pois\n",
    "\n",
    "pois = GetAllPage(geocode_data)\n",
    "\n",
    "df = pd.DataFrame(pois)\n",
    "\n",
    "df.info()"
   ],
   "metadata": {
    "collapsed": false,
    "ExecuteTime": {
     "end_time": "2023-10-25T13:28:03.317693100Z",
     "start_time": "2023-10-25T13:28:02.622574Z"
    }
   }
  },
  {
   "cell_type": "markdown",
   "metadata": {},
   "source": [
    "### 2、将这些数据生成pandas的DataFrame格式，并根据距离进行分箱，分为[(0, 50] < (50, 100] < (100, 150] < (150, 200] < (200, 250] < (250, 300] < (300, 500]6类。\n"
   ]
  },
  {
   "cell_type": "code",
   "execution_count": 21,
   "outputs": [
    {
     "data": {
      "text/plain": "  parent                     address distance pname importance  \\\n0     []           石井社区田头街道马鞍岭东区1巷1号       []   广东省         []   \n1     []           石井街道田头社区马鞍岭东区一巷2号       []   广东省         []   \n2     []                石井街道马鞍岭路一巷8号       []   广东省         []   \n3     []  龙田街道竹坑社区第三工业区生活中心综合楼A栋A108       []   广东省         []   \n4     []            创鞍路与马鞍岭路交叉口西北60米       []   广东省         []   \n\n                                             biz_ext biz_type cityname  \\\n0  {'cost': [], 'opentime2': '10:00-02:00', 'rati...    diner      深圳市   \n1  {'cost': [], 'opentime2': '09:00-21:00', 'rati...    diner      深圳市   \n2  {'cost': [], 'opentime2': '08:00-20:00', 'rati...    diner      深圳市   \n3  {'cost': [], 'opentime2': '10:00-03:00', 'rati...    diner      深圳市   \n4  {'cost': [], 'opentime2': [], 'rating': '3.8',...    diner      深圳市   \n\n                 type                                             photos  \\\n0       餐饮服务;中餐厅;清真菜馆  [{'title': [], 'url': 'http://store.is.autonav...   \n1    餐饮服务;中餐厅;湖南菜(湘菜)  [{'title': [], 'url': 'http://store.is.autonav...   \n2        餐饮服务;快餐厅;快餐厅  [{'title': [], 'url': 'http://store.is.autonav...   \n3        餐饮服务;中餐厅;火锅店  [{'title': [], 'url': 'http://store.is.autonav...   \n4  餐饮服务;中餐厅;特色/地方风味餐厅                                                 []   \n\n  typecode shopinfo poiweight childtype adname           name  \\\n0   050121        1        []        []    坪山区  刀哥新疆美食(新疆炒米粉)   \n1   050108        1        []        []    坪山区         常湘缘湘菜馆   \n2   050300        1        []        []    坪山区          乐其快餐店   \n3   050117        1        []        []    坪山区   小龙坎火锅(坪山竹坑店)   \n4   050118        0        []        []    坪山区           鸿儒烤吧   \n\n               location                      tel shopid          id  \n0  114.403334,22.701888  13999995206;18999995206     []  B0I0J57R6R  \n1  114.403370,22.702020              18824665335     []  B0FFL6D9K6  \n2  114.403272,22.702703              13421306848     []  B0FFMBBAKS  \n3  114.397534,22.711446              18813226992     []  B0JU5575IX  \n4  114.402700,22.701929              18033448820     []  B0JBOZJLLZ  ",
      "text/html": "<div>\n<style scoped>\n    .dataframe tbody tr th:only-of-type {\n        vertical-align: middle;\n    }\n\n    .dataframe tbody tr th {\n        vertical-align: top;\n    }\n\n    .dataframe thead th {\n        text-align: right;\n    }\n</style>\n<table border=\"1\" class=\"dataframe\">\n  <thead>\n    <tr style=\"text-align: right;\">\n      <th></th>\n      <th>parent</th>\n      <th>address</th>\n      <th>distance</th>\n      <th>pname</th>\n      <th>importance</th>\n      <th>biz_ext</th>\n      <th>biz_type</th>\n      <th>cityname</th>\n      <th>type</th>\n      <th>photos</th>\n      <th>typecode</th>\n      <th>shopinfo</th>\n      <th>poiweight</th>\n      <th>childtype</th>\n      <th>adname</th>\n      <th>name</th>\n      <th>location</th>\n      <th>tel</th>\n      <th>shopid</th>\n      <th>id</th>\n    </tr>\n  </thead>\n  <tbody>\n    <tr>\n      <th>0</th>\n      <td>[]</td>\n      <td>石井社区田头街道马鞍岭东区1巷1号</td>\n      <td>[]</td>\n      <td>广东省</td>\n      <td>[]</td>\n      <td>{'cost': [], 'opentime2': '10:00-02:00', 'rati...</td>\n      <td>diner</td>\n      <td>深圳市</td>\n      <td>餐饮服务;中餐厅;清真菜馆</td>\n      <td>[{'title': [], 'url': 'http://store.is.autonav...</td>\n      <td>050121</td>\n      <td>1</td>\n      <td>[]</td>\n      <td>[]</td>\n      <td>坪山区</td>\n      <td>刀哥新疆美食(新疆炒米粉)</td>\n      <td>114.403334,22.701888</td>\n      <td>13999995206;18999995206</td>\n      <td>[]</td>\n      <td>B0I0J57R6R</td>\n    </tr>\n    <tr>\n      <th>1</th>\n      <td>[]</td>\n      <td>石井街道田头社区马鞍岭东区一巷2号</td>\n      <td>[]</td>\n      <td>广东省</td>\n      <td>[]</td>\n      <td>{'cost': [], 'opentime2': '09:00-21:00', 'rati...</td>\n      <td>diner</td>\n      <td>深圳市</td>\n      <td>餐饮服务;中餐厅;湖南菜(湘菜)</td>\n      <td>[{'title': [], 'url': 'http://store.is.autonav...</td>\n      <td>050108</td>\n      <td>1</td>\n      <td>[]</td>\n      <td>[]</td>\n      <td>坪山区</td>\n      <td>常湘缘湘菜馆</td>\n      <td>114.403370,22.702020</td>\n      <td>18824665335</td>\n      <td>[]</td>\n      <td>B0FFL6D9K6</td>\n    </tr>\n    <tr>\n      <th>2</th>\n      <td>[]</td>\n      <td>石井街道马鞍岭路一巷8号</td>\n      <td>[]</td>\n      <td>广东省</td>\n      <td>[]</td>\n      <td>{'cost': [], 'opentime2': '08:00-20:00', 'rati...</td>\n      <td>diner</td>\n      <td>深圳市</td>\n      <td>餐饮服务;快餐厅;快餐厅</td>\n      <td>[{'title': [], 'url': 'http://store.is.autonav...</td>\n      <td>050300</td>\n      <td>1</td>\n      <td>[]</td>\n      <td>[]</td>\n      <td>坪山区</td>\n      <td>乐其快餐店</td>\n      <td>114.403272,22.702703</td>\n      <td>13421306848</td>\n      <td>[]</td>\n      <td>B0FFMBBAKS</td>\n    </tr>\n    <tr>\n      <th>3</th>\n      <td>[]</td>\n      <td>龙田街道竹坑社区第三工业区生活中心综合楼A栋A108</td>\n      <td>[]</td>\n      <td>广东省</td>\n      <td>[]</td>\n      <td>{'cost': [], 'opentime2': '10:00-03:00', 'rati...</td>\n      <td>diner</td>\n      <td>深圳市</td>\n      <td>餐饮服务;中餐厅;火锅店</td>\n      <td>[{'title': [], 'url': 'http://store.is.autonav...</td>\n      <td>050117</td>\n      <td>1</td>\n      <td>[]</td>\n      <td>[]</td>\n      <td>坪山区</td>\n      <td>小龙坎火锅(坪山竹坑店)</td>\n      <td>114.397534,22.711446</td>\n      <td>18813226992</td>\n      <td>[]</td>\n      <td>B0JU5575IX</td>\n    </tr>\n    <tr>\n      <th>4</th>\n      <td>[]</td>\n      <td>创鞍路与马鞍岭路交叉口西北60米</td>\n      <td>[]</td>\n      <td>广东省</td>\n      <td>[]</td>\n      <td>{'cost': [], 'opentime2': [], 'rating': '3.8',...</td>\n      <td>diner</td>\n      <td>深圳市</td>\n      <td>餐饮服务;中餐厅;特色/地方风味餐厅</td>\n      <td>[]</td>\n      <td>050118</td>\n      <td>0</td>\n      <td>[]</td>\n      <td>[]</td>\n      <td>坪山区</td>\n      <td>鸿儒烤吧</td>\n      <td>114.402700,22.701929</td>\n      <td>18033448820</td>\n      <td>[]</td>\n      <td>B0JBOZJLLZ</td>\n    </tr>\n  </tbody>\n</table>\n</div>"
     },
     "execution_count": 21,
     "metadata": {},
     "output_type": "execute_result"
    }
   ],
   "source": [
    "df.head()"
   ],
   "metadata": {
    "collapsed": false,
    "ExecuteTime": {
     "end_time": "2023-10-25T13:30:25.475475Z",
     "start_time": "2023-10-25T13:30:25.391755700Z"
    }
   }
  },
  {
   "cell_type": "code",
   "execution_count": 24,
   "metadata": {
    "ExecuteTime": {
     "end_time": "2023-10-25T13:37:12.293170600Z",
     "start_time": "2023-10-25T13:37:12.137200200Z"
    }
   },
   "outputs": [
    {
     "data": {
      "text/plain": "  parent                     address  distance pname importance  \\\n0     []           石井社区田头街道马鞍岭东区1巷1号  0.353136   广东省         []   \n1     []           石井街道田头社区马鞍岭东区一巷2号  0.352478   广东省         []   \n2     []                石井街道马鞍岭路一巷8号  0.330261   广东省         []   \n3     []  龙田街道竹坑社区第三工业区生活中心综合楼A栋A108  0.989068   广东省         []   \n4     []            创鞍路与马鞍岭路交叉口西北60米  0.290250   广东省         []   \n\n                                             biz_ext biz_type cityname  \\\n0  {'cost': [], 'opentime2': '10:00-02:00', 'rati...    diner      深圳市   \n1  {'cost': [], 'opentime2': '09:00-21:00', 'rati...    diner      深圳市   \n2  {'cost': [], 'opentime2': '08:00-20:00', 'rati...    diner      深圳市   \n3  {'cost': [], 'opentime2': '10:00-03:00', 'rati...    diner      深圳市   \n4  {'cost': [], 'opentime2': [], 'rating': '3.8',...    diner      深圳市   \n\n                 type                                             photos  \\\n0       餐饮服务;中餐厅;清真菜馆  [{'title': [], 'url': 'http://store.is.autonav...   \n1    餐饮服务;中餐厅;湖南菜(湘菜)  [{'title': [], 'url': 'http://store.is.autonav...   \n2        餐饮服务;快餐厅;快餐厅  [{'title': [], 'url': 'http://store.is.autonav...   \n3        餐饮服务;中餐厅;火锅店  [{'title': [], 'url': 'http://store.is.autonav...   \n4  餐饮服务;中餐厅;特色/地方风味餐厅                                                 []   \n\n  typecode shopinfo poiweight childtype adname           name  \\\n0   050121        1        []        []    坪山区  刀哥新疆美食(新疆炒米粉)   \n1   050108        1        []        []    坪山区         常湘缘湘菜馆   \n2   050300        1        []        []    坪山区          乐其快餐店   \n3   050117        1        []        []    坪山区   小龙坎火锅(坪山竹坑店)   \n4   050118        0        []        []    坪山区           鸿儒烤吧   \n\n               location                      tel shopid          id  \n0  114.403334,22.701888  13999995206;18999995206     []  B0I0J57R6R  \n1  114.403370,22.702020              18824665335     []  B0FFL6D9K6  \n2  114.403272,22.702703              13421306848     []  B0FFMBBAKS  \n3  114.397534,22.711446              18813226992     []  B0JU5575IX  \n4  114.402700,22.701929              18033448820     []  B0JBOZJLLZ  ",
      "text/html": "<div>\n<style scoped>\n    .dataframe tbody tr th:only-of-type {\n        vertical-align: middle;\n    }\n\n    .dataframe tbody tr th {\n        vertical-align: top;\n    }\n\n    .dataframe thead th {\n        text-align: right;\n    }\n</style>\n<table border=\"1\" class=\"dataframe\">\n  <thead>\n    <tr style=\"text-align: right;\">\n      <th></th>\n      <th>parent</th>\n      <th>address</th>\n      <th>distance</th>\n      <th>pname</th>\n      <th>importance</th>\n      <th>biz_ext</th>\n      <th>biz_type</th>\n      <th>cityname</th>\n      <th>type</th>\n      <th>photos</th>\n      <th>typecode</th>\n      <th>shopinfo</th>\n      <th>poiweight</th>\n      <th>childtype</th>\n      <th>adname</th>\n      <th>name</th>\n      <th>location</th>\n      <th>tel</th>\n      <th>shopid</th>\n      <th>id</th>\n    </tr>\n  </thead>\n  <tbody>\n    <tr>\n      <th>0</th>\n      <td>[]</td>\n      <td>石井社区田头街道马鞍岭东区1巷1号</td>\n      <td>0.353136</td>\n      <td>广东省</td>\n      <td>[]</td>\n      <td>{'cost': [], 'opentime2': '10:00-02:00', 'rati...</td>\n      <td>diner</td>\n      <td>深圳市</td>\n      <td>餐饮服务;中餐厅;清真菜馆</td>\n      <td>[{'title': [], 'url': 'http://store.is.autonav...</td>\n      <td>050121</td>\n      <td>1</td>\n      <td>[]</td>\n      <td>[]</td>\n      <td>坪山区</td>\n      <td>刀哥新疆美食(新疆炒米粉)</td>\n      <td>114.403334,22.701888</td>\n      <td>13999995206;18999995206</td>\n      <td>[]</td>\n      <td>B0I0J57R6R</td>\n    </tr>\n    <tr>\n      <th>1</th>\n      <td>[]</td>\n      <td>石井街道田头社区马鞍岭东区一巷2号</td>\n      <td>0.352478</td>\n      <td>广东省</td>\n      <td>[]</td>\n      <td>{'cost': [], 'opentime2': '09:00-21:00', 'rati...</td>\n      <td>diner</td>\n      <td>深圳市</td>\n      <td>餐饮服务;中餐厅;湖南菜(湘菜)</td>\n      <td>[{'title': [], 'url': 'http://store.is.autonav...</td>\n      <td>050108</td>\n      <td>1</td>\n      <td>[]</td>\n      <td>[]</td>\n      <td>坪山区</td>\n      <td>常湘缘湘菜馆</td>\n      <td>114.403370,22.702020</td>\n      <td>18824665335</td>\n      <td>[]</td>\n      <td>B0FFL6D9K6</td>\n    </tr>\n    <tr>\n      <th>2</th>\n      <td>[]</td>\n      <td>石井街道马鞍岭路一巷8号</td>\n      <td>0.330261</td>\n      <td>广东省</td>\n      <td>[]</td>\n      <td>{'cost': [], 'opentime2': '08:00-20:00', 'rati...</td>\n      <td>diner</td>\n      <td>深圳市</td>\n      <td>餐饮服务;快餐厅;快餐厅</td>\n      <td>[{'title': [], 'url': 'http://store.is.autonav...</td>\n      <td>050300</td>\n      <td>1</td>\n      <td>[]</td>\n      <td>[]</td>\n      <td>坪山区</td>\n      <td>乐其快餐店</td>\n      <td>114.403272,22.702703</td>\n      <td>13421306848</td>\n      <td>[]</td>\n      <td>B0FFMBBAKS</td>\n    </tr>\n    <tr>\n      <th>3</th>\n      <td>[]</td>\n      <td>龙田街道竹坑社区第三工业区生活中心综合楼A栋A108</td>\n      <td>0.989068</td>\n      <td>广东省</td>\n      <td>[]</td>\n      <td>{'cost': [], 'opentime2': '10:00-03:00', 'rati...</td>\n      <td>diner</td>\n      <td>深圳市</td>\n      <td>餐饮服务;中餐厅;火锅店</td>\n      <td>[{'title': [], 'url': 'http://store.is.autonav...</td>\n      <td>050117</td>\n      <td>1</td>\n      <td>[]</td>\n      <td>[]</td>\n      <td>坪山区</td>\n      <td>小龙坎火锅(坪山竹坑店)</td>\n      <td>114.397534,22.711446</td>\n      <td>18813226992</td>\n      <td>[]</td>\n      <td>B0JU5575IX</td>\n    </tr>\n    <tr>\n      <th>4</th>\n      <td>[]</td>\n      <td>创鞍路与马鞍岭路交叉口西北60米</td>\n      <td>0.290250</td>\n      <td>广东省</td>\n      <td>[]</td>\n      <td>{'cost': [], 'opentime2': [], 'rating': '3.8',...</td>\n      <td>diner</td>\n      <td>深圳市</td>\n      <td>餐饮服务;中餐厅;特色/地方风味餐厅</td>\n      <td>[]</td>\n      <td>050118</td>\n      <td>0</td>\n      <td>[]</td>\n      <td>[]</td>\n      <td>坪山区</td>\n      <td>鸿儒烤吧</td>\n      <td>114.402700,22.701929</td>\n      <td>18033448820</td>\n      <td>[]</td>\n      <td>B0JBOZJLLZ</td>\n    </tr>\n  </tbody>\n</table>\n</div>"
     },
     "execution_count": 24,
     "metadata": {},
     "output_type": "execute_result"
    }
   ],
   "source": [
    "# your code\n",
    "sztech_location = (22.702861, 114.400057)  \n",
    "def get_distance(location1, location2): # ha公式\n",
    "    lat1, lng1 = location1\n",
    "    lat2, lng2 = location2\n",
    "    lat1, lng1, lat2, lng2 = map(math.radians, [lat1, lng1, lat2, lng2])\n",
    "    dlng = lng2 - lng1\n",
    "    dlat = lat2 - lat1\n",
    "    a = math.sin(dlat / 2) ** 2 + math.cos(lat1) * \\\n",
    "        math.cos(lat2) * math.sin(dlng / 2) ** 2\n",
    "    c = 2 * math.asin(math.sqrt(a))\n",
    "    r = 6371  \n",
    "    return c * r \n",
    "\n",
    "df['distance'] = df.apply(lambda x: get_distance(sztech_location, (float(x['location'].split(',')[1]), float(x['location'].split(',')[0]))), axis=1)\n",
    "\n",
    "df.head()"
   ]
  },
  {
   "cell_type": "code",
   "execution_count": 25,
   "outputs": [
    {
     "data": {
      "text/plain": "  parent                     address  distance pname importance  \\\n0     []           石井社区田头街道马鞍岭东区1巷1号  0.353136   广东省         []   \n1     []           石井街道田头社区马鞍岭东区一巷2号  0.352478   广东省         []   \n2     []                石井街道马鞍岭路一巷8号  0.330261   广东省         []   \n3     []  龙田街道竹坑社区第三工业区生活中心综合楼A栋A108  0.989068   广东省         []   \n4     []            创鞍路与马鞍岭路交叉口西北60米  0.290250   广东省         []   \n\n                                             biz_ext biz_type cityname  \\\n0  {'cost': [], 'opentime2': '10:00-02:00', 'rati...    diner      深圳市   \n1  {'cost': [], 'opentime2': '09:00-21:00', 'rati...    diner      深圳市   \n2  {'cost': [], 'opentime2': '08:00-20:00', 'rati...    diner      深圳市   \n3  {'cost': [], 'opentime2': '10:00-03:00', 'rati...    diner      深圳市   \n4  {'cost': [], 'opentime2': [], 'rating': '3.8',...    diner      深圳市   \n\n                 type                                             photos  ...  \\\n0       餐饮服务;中餐厅;清真菜馆  [{'title': [], 'url': 'http://store.is.autonav...  ...   \n1    餐饮服务;中餐厅;湖南菜(湘菜)  [{'title': [], 'url': 'http://store.is.autonav...  ...   \n2        餐饮服务;快餐厅;快餐厅  [{'title': [], 'url': 'http://store.is.autonav...  ...   \n3        餐饮服务;中餐厅;火锅店  [{'title': [], 'url': 'http://store.is.autonav...  ...   \n4  餐饮服务;中餐厅;特色/地方风味餐厅                                                 []  ...   \n\n  shopinfo poiweight childtype adname           name              location  \\\n0        1        []        []    坪山区  刀哥新疆美食(新疆炒米粉)  114.403334,22.701888   \n1        1        []        []    坪山区         常湘缘湘菜馆  114.403370,22.702020   \n2        1        []        []    坪山区          乐其快餐店  114.403272,22.702703   \n3        1        []        []    坪山区   小龙坎火锅(坪山竹坑店)  114.397534,22.711446   \n4        0        []        []    坪山区           鸿儒烤吧  114.402700,22.701929   \n\n                       tel shopid          id distance_cut  \n0  13999995206;18999995206     []  B0I0J57R6R      (0, 50]  \n1              18824665335     []  B0FFL6D9K6      (0, 50]  \n2              13421306848     []  B0FFMBBAKS      (0, 50]  \n3              18813226992     []  B0JU5575IX      (0, 50]  \n4              18033448820     []  B0JBOZJLLZ      (0, 50]  \n\n[5 rows x 21 columns]",
      "text/html": "<div>\n<style scoped>\n    .dataframe tbody tr th:only-of-type {\n        vertical-align: middle;\n    }\n\n    .dataframe tbody tr th {\n        vertical-align: top;\n    }\n\n    .dataframe thead th {\n        text-align: right;\n    }\n</style>\n<table border=\"1\" class=\"dataframe\">\n  <thead>\n    <tr style=\"text-align: right;\">\n      <th></th>\n      <th>parent</th>\n      <th>address</th>\n      <th>distance</th>\n      <th>pname</th>\n      <th>importance</th>\n      <th>biz_ext</th>\n      <th>biz_type</th>\n      <th>cityname</th>\n      <th>type</th>\n      <th>photos</th>\n      <th>...</th>\n      <th>shopinfo</th>\n      <th>poiweight</th>\n      <th>childtype</th>\n      <th>adname</th>\n      <th>name</th>\n      <th>location</th>\n      <th>tel</th>\n      <th>shopid</th>\n      <th>id</th>\n      <th>distance_cut</th>\n    </tr>\n  </thead>\n  <tbody>\n    <tr>\n      <th>0</th>\n      <td>[]</td>\n      <td>石井社区田头街道马鞍岭东区1巷1号</td>\n      <td>0.353136</td>\n      <td>广东省</td>\n      <td>[]</td>\n      <td>{'cost': [], 'opentime2': '10:00-02:00', 'rati...</td>\n      <td>diner</td>\n      <td>深圳市</td>\n      <td>餐饮服务;中餐厅;清真菜馆</td>\n      <td>[{'title': [], 'url': 'http://store.is.autonav...</td>\n      <td>...</td>\n      <td>1</td>\n      <td>[]</td>\n      <td>[]</td>\n      <td>坪山区</td>\n      <td>刀哥新疆美食(新疆炒米粉)</td>\n      <td>114.403334,22.701888</td>\n      <td>13999995206;18999995206</td>\n      <td>[]</td>\n      <td>B0I0J57R6R</td>\n      <td>(0, 50]</td>\n    </tr>\n    <tr>\n      <th>1</th>\n      <td>[]</td>\n      <td>石井街道田头社区马鞍岭东区一巷2号</td>\n      <td>0.352478</td>\n      <td>广东省</td>\n      <td>[]</td>\n      <td>{'cost': [], 'opentime2': '09:00-21:00', 'rati...</td>\n      <td>diner</td>\n      <td>深圳市</td>\n      <td>餐饮服务;中餐厅;湖南菜(湘菜)</td>\n      <td>[{'title': [], 'url': 'http://store.is.autonav...</td>\n      <td>...</td>\n      <td>1</td>\n      <td>[]</td>\n      <td>[]</td>\n      <td>坪山区</td>\n      <td>常湘缘湘菜馆</td>\n      <td>114.403370,22.702020</td>\n      <td>18824665335</td>\n      <td>[]</td>\n      <td>B0FFL6D9K6</td>\n      <td>(0, 50]</td>\n    </tr>\n    <tr>\n      <th>2</th>\n      <td>[]</td>\n      <td>石井街道马鞍岭路一巷8号</td>\n      <td>0.330261</td>\n      <td>广东省</td>\n      <td>[]</td>\n      <td>{'cost': [], 'opentime2': '08:00-20:00', 'rati...</td>\n      <td>diner</td>\n      <td>深圳市</td>\n      <td>餐饮服务;快餐厅;快餐厅</td>\n      <td>[{'title': [], 'url': 'http://store.is.autonav...</td>\n      <td>...</td>\n      <td>1</td>\n      <td>[]</td>\n      <td>[]</td>\n      <td>坪山区</td>\n      <td>乐其快餐店</td>\n      <td>114.403272,22.702703</td>\n      <td>13421306848</td>\n      <td>[]</td>\n      <td>B0FFMBBAKS</td>\n      <td>(0, 50]</td>\n    </tr>\n    <tr>\n      <th>3</th>\n      <td>[]</td>\n      <td>龙田街道竹坑社区第三工业区生活中心综合楼A栋A108</td>\n      <td>0.989068</td>\n      <td>广东省</td>\n      <td>[]</td>\n      <td>{'cost': [], 'opentime2': '10:00-03:00', 'rati...</td>\n      <td>diner</td>\n      <td>深圳市</td>\n      <td>餐饮服务;中餐厅;火锅店</td>\n      <td>[{'title': [], 'url': 'http://store.is.autonav...</td>\n      <td>...</td>\n      <td>1</td>\n      <td>[]</td>\n      <td>[]</td>\n      <td>坪山区</td>\n      <td>小龙坎火锅(坪山竹坑店)</td>\n      <td>114.397534,22.711446</td>\n      <td>18813226992</td>\n      <td>[]</td>\n      <td>B0JU5575IX</td>\n      <td>(0, 50]</td>\n    </tr>\n    <tr>\n      <th>4</th>\n      <td>[]</td>\n      <td>创鞍路与马鞍岭路交叉口西北60米</td>\n      <td>0.290250</td>\n      <td>广东省</td>\n      <td>[]</td>\n      <td>{'cost': [], 'opentime2': [], 'rating': '3.8',...</td>\n      <td>diner</td>\n      <td>深圳市</td>\n      <td>餐饮服务;中餐厅;特色/地方风味餐厅</td>\n      <td>[]</td>\n      <td>...</td>\n      <td>0</td>\n      <td>[]</td>\n      <td>[]</td>\n      <td>坪山区</td>\n      <td>鸿儒烤吧</td>\n      <td>114.402700,22.701929</td>\n      <td>18033448820</td>\n      <td>[]</td>\n      <td>B0JBOZJLLZ</td>\n      <td>(0, 50]</td>\n    </tr>\n  </tbody>\n</table>\n<p>5 rows × 21 columns</p>\n</div>"
     },
     "execution_count": 25,
     "metadata": {},
     "output_type": "execute_result"
    }
   ],
   "source": [
    "# END\n",
    "bins = [0, 50, 100, 150, 200, 250, 300, 500]\n",
    "df['distance_cut'] = pd.cut(df['distance'], bins)\n",
    "df.head()"
   ],
   "metadata": {
    "collapsed": false,
    "ExecuteTime": {
     "end_time": "2023-10-25T13:38:38.672330300Z",
     "start_time": "2023-10-25T13:38:38.565892400Z"
    }
   }
  },
  {
   "cell_type": "markdown",
   "metadata": {},
   "source": [
    "# 数据预处理"
   ]
  },
  {
   "cell_type": "markdown",
   "metadata": {},
   "source": [
    "## 泰坦尼克号数据预处理"
   ]
  },
  {
   "cell_type": "markdown",
   "metadata": {},
   "source": [
    "### 读取数据titanic.csv 显示前五行"
   ]
  },
  {
   "cell_type": "code",
   "execution_count": 26,
   "metadata": {
    "ExecuteTime": {
     "end_time": "2023-10-25T13:45:52.877238200Z",
     "start_time": "2023-10-25T13:45:52.764400200Z"
    }
   },
   "outputs": [
    {
     "data": {
      "text/plain": "   survived  pclass     sex   age  sibsp  parch     fare embarked  class  \\\n0         0       3    male  22.0      1      0   7.2500        S  Third   \n1         1       1  female  38.0      1      0  71.2833        C  First   \n2         1       3  female  26.0      0      0   7.9250        S  Third   \n3         1       1  female  35.0      1      0  53.1000        S  First   \n4         0       3    male  35.0      0      0   8.0500        S  Third   \n\n     who  adult_male deck  embark_town alive  alone  \n0    man        True  NaN  Southampton    no  False  \n1  woman       False    C    Cherbourg   yes  False  \n2  woman       False  NaN  Southampton   yes   True  \n3  woman       False    C  Southampton   yes  False  \n4    man        True  NaN  Southampton    no   True  ",
      "text/html": "<div>\n<style scoped>\n    .dataframe tbody tr th:only-of-type {\n        vertical-align: middle;\n    }\n\n    .dataframe tbody tr th {\n        vertical-align: top;\n    }\n\n    .dataframe thead th {\n        text-align: right;\n    }\n</style>\n<table border=\"1\" class=\"dataframe\">\n  <thead>\n    <tr style=\"text-align: right;\">\n      <th></th>\n      <th>survived</th>\n      <th>pclass</th>\n      <th>sex</th>\n      <th>age</th>\n      <th>sibsp</th>\n      <th>parch</th>\n      <th>fare</th>\n      <th>embarked</th>\n      <th>class</th>\n      <th>who</th>\n      <th>adult_male</th>\n      <th>deck</th>\n      <th>embark_town</th>\n      <th>alive</th>\n      <th>alone</th>\n    </tr>\n  </thead>\n  <tbody>\n    <tr>\n      <th>0</th>\n      <td>0</td>\n      <td>3</td>\n      <td>male</td>\n      <td>22.0</td>\n      <td>1</td>\n      <td>0</td>\n      <td>7.2500</td>\n      <td>S</td>\n      <td>Third</td>\n      <td>man</td>\n      <td>True</td>\n      <td>NaN</td>\n      <td>Southampton</td>\n      <td>no</td>\n      <td>False</td>\n    </tr>\n    <tr>\n      <th>1</th>\n      <td>1</td>\n      <td>1</td>\n      <td>female</td>\n      <td>38.0</td>\n      <td>1</td>\n      <td>0</td>\n      <td>71.2833</td>\n      <td>C</td>\n      <td>First</td>\n      <td>woman</td>\n      <td>False</td>\n      <td>C</td>\n      <td>Cherbourg</td>\n      <td>yes</td>\n      <td>False</td>\n    </tr>\n    <tr>\n      <th>2</th>\n      <td>1</td>\n      <td>3</td>\n      <td>female</td>\n      <td>26.0</td>\n      <td>0</td>\n      <td>0</td>\n      <td>7.9250</td>\n      <td>S</td>\n      <td>Third</td>\n      <td>woman</td>\n      <td>False</td>\n      <td>NaN</td>\n      <td>Southampton</td>\n      <td>yes</td>\n      <td>True</td>\n    </tr>\n    <tr>\n      <th>3</th>\n      <td>1</td>\n      <td>1</td>\n      <td>female</td>\n      <td>35.0</td>\n      <td>1</td>\n      <td>0</td>\n      <td>53.1000</td>\n      <td>S</td>\n      <td>First</td>\n      <td>woman</td>\n      <td>False</td>\n      <td>C</td>\n      <td>Southampton</td>\n      <td>yes</td>\n      <td>False</td>\n    </tr>\n    <tr>\n      <th>4</th>\n      <td>0</td>\n      <td>3</td>\n      <td>male</td>\n      <td>35.0</td>\n      <td>0</td>\n      <td>0</td>\n      <td>8.0500</td>\n      <td>S</td>\n      <td>Third</td>\n      <td>man</td>\n      <td>True</td>\n      <td>NaN</td>\n      <td>Southampton</td>\n      <td>no</td>\n      <td>True</td>\n    </tr>\n  </tbody>\n</table>\n</div>"
     },
     "execution_count": 26,
     "metadata": {},
     "output_type": "execute_result"
    }
   ],
   "source": [
    "# your code\n",
    "train = pd.read_csv('titanic.csv')\n",
    "train.head()"
   ]
  },
  {
   "cell_type": "markdown",
   "metadata": {},
   "source": [
    "### 空值和缺失值的处理"
   ]
  },
  {
   "cell_type": "code",
   "execution_count": 27,
   "metadata": {
    "ExecuteTime": {
     "end_time": "2023-10-25T13:46:21.253241900Z",
     "start_time": "2023-10-25T13:46:21.144553200Z"
    }
   },
   "outputs": [
    {
     "name": "stdout",
     "output_type": "stream",
     "text": [
      "survived         0\n",
      "pclass           0\n",
      "sex              0\n",
      "age            177\n",
      "sibsp            0\n",
      "parch            0\n",
      "fare             0\n",
      "embarked         2\n",
      "class            0\n",
      "who              0\n",
      "adult_male       0\n",
      "deck           688\n",
      "embark_town      2\n",
      "alive            0\n",
      "alone            0\n",
      "dtype: int64\n"
     ]
    }
   ],
   "source": [
    "# 检查该tai数据中是否有空值\n",
    "# your code\n",
    "print(train.isnull().sum())"
   ]
  },
  {
   "cell_type": "code",
   "execution_count": 28,
   "metadata": {
    "ExecuteTime": {
     "end_time": "2023-10-25T13:46:34.999090600Z",
     "start_time": "2023-10-25T13:46:34.922853900Z"
    }
   },
   "outputs": [],
   "source": [
    "# 删除数据集中年龄这一列有空值和缺失值的行\n",
    "# your code\n",
    "train.dropna(subset=['age'], inplace=True)"
   ]
  },
  {
   "cell_type": "code",
   "execution_count": 30,
   "metadata": {
    "ExecuteTime": {
     "end_time": "2023-10-25T13:47:27.012155900Z",
     "start_time": "2023-10-25T13:47:26.962324900Z"
    }
   },
   "outputs": [
    {
     "name": "stdout",
     "output_type": "stream",
     "text": [
      "0      S\n",
      "1      C\n",
      "2      S\n",
      "3      S\n",
      "4      S\n",
      "      ..\n",
      "885    Q\n",
      "886    S\n",
      "887    S\n",
      "889    C\n",
      "890    Q\n",
      "Name: embarked, Length: 714, dtype: object\n"
     ]
    }
   ],
   "source": [
    "# 用S来填补embarked这一列中的缺失值\n",
    "# your code\n",
    "train['embarked'].fillna('S', inplace=True)\n",
    "print(train['embarked'])"
   ]
  },
  {
   "cell_type": "code",
   "execution_count": 31,
   "metadata": {
    "ExecuteTime": {
     "end_time": "2023-10-25T13:47:48.394305200Z",
     "start_time": "2023-10-25T13:47:48.186667300Z"
    }
   },
   "outputs": [
    {
     "name": "stdout",
     "output_type": "stream",
     "text": [
      "0      Southampton\n",
      "1        Cherbourg\n",
      "2      Southampton\n",
      "3      Southampton\n",
      "4      Southampton\n",
      "          ...     \n",
      "885     Queenstown\n",
      "886    Southampton\n",
      "887    Southampton\n",
      "889      Cherbourg\n",
      "890     Queenstown\n",
      "Name: embark_town, Length: 714, dtype: object\n"
     ]
    }
   ],
   "source": [
    "# 使用前向填充的方式替换embark_town列中的空值或缺失值\n",
    "# your code\n",
    "train['embark_town'].fillna(method='ffill', inplace=True)\n",
    "print(train['embark_town'])"
   ]
  },
  {
   "cell_type": "markdown",
   "metadata": {},
   "source": [
    "### 重复值的处理"
   ]
  },
  {
   "cell_type": "code",
   "execution_count": 32,
   "metadata": {
    "ExecuteTime": {
     "end_time": "2023-10-25T13:47:58.271156300Z",
     "start_time": "2023-10-25T13:47:58.149052700Z"
    }
   },
   "outputs": [
    {
     "name": "stdout",
     "output_type": "stream",
     "text": [
      "     survived  pclass     sex    age  sibsp  parch     fare embarked   class  \\\n",
      "133         1       2  female  29.00      1      0  26.0000        S  Second   \n",
      "173         0       3    male  21.00      0      0   7.9250        S   Third   \n",
      "213         0       2    male  30.00      0      0  13.0000        S  Second   \n",
      "313         0       3    male  28.00      0      0   7.8958        S   Third   \n",
      "320         0       3    male  22.00      0      0   7.2500        S   Third   \n",
      "343         0       2    male  25.00      0      0  13.0000        S  Second   \n",
      "355         0       3    male  28.00      0      0   9.5000        S   Third   \n",
      "418         0       2    male  30.00      0      0  13.0000        S  Second   \n",
      "476         0       2    male  34.00      1      0  21.0000        S  Second   \n",
      "488         0       3    male  30.00      0      0   8.0500        S   Third   \n",
      "494         0       3    male  21.00      0      0   8.0500        S   Third   \n",
      "500         0       3    male  17.00      0      0   8.6625        S   Third   \n",
      "521         0       3    male  22.00      0      0   7.8958        S   Third   \n",
      "526         1       2  female  50.00      0      0  10.5000        S  Second   \n",
      "588         0       3    male  22.00      0      0   8.0500        S   Third   \n",
      "614         0       3    male  35.00      0      0   8.0500        S   Third   \n",
      "635         1       2  female  28.00      0      0  13.0000        S  Second   \n",
      "636         0       3    male  32.00      0      0   7.9250        S   Third   \n",
      "640         0       3    male  20.00      0      0   7.8542        S   Third   \n",
      "641         1       1  female  24.00      0      0  69.3000        C   First   \n",
      "644         1       3  female   0.75      2      1  19.2583        C   Third   \n",
      "646         0       3    male  19.00      0      0   7.8958        S   Third   \n",
      "666         0       2    male  25.00      0      0  13.0000        S  Second   \n",
      "696         0       3    male  44.00      0      0   8.0500        S   Third   \n",
      "733         0       2    male  23.00      0      0  13.0000        S  Second   \n",
      "734         0       2    male  23.00      0      0  13.0000        S  Second   \n",
      "757         0       2    male  18.00      0      0  11.5000        S  Second   \n",
      "758         0       3    male  34.00      0      0   8.0500        S   Third   \n",
      "800         0       2    male  34.00      0      0  13.0000        S  Second   \n",
      "808         0       2    male  39.00      0      0  13.0000        S  Second   \n",
      "838         1       3    male  32.00      0      0  56.4958        S   Third   \n",
      "844         0       3    male  17.00      0      0   8.6625        S   Third   \n",
      "870         0       3    male  26.00      0      0   7.8958        S   Third   \n",
      "877         0       3    male  19.00      0      0   7.8958        S   Third   \n",
      "884         0       3    male  25.00      0      0   7.0500        S   Third   \n",
      "886         0       2    male  27.00      0      0  13.0000        S  Second   \n",
      "\n",
      "       who  adult_male deck  embark_town alive  alone  \n",
      "133  woman       False  NaN  Southampton   yes  False  \n",
      "173    man        True  NaN  Southampton    no   True  \n",
      "213    man        True  NaN  Southampton    no   True  \n",
      "313    man        True  NaN  Southampton    no   True  \n",
      "320    man        True  NaN  Southampton    no   True  \n",
      "343    man        True  NaN  Southampton    no   True  \n",
      "355    man        True  NaN  Southampton    no   True  \n",
      "418    man        True  NaN  Southampton    no   True  \n",
      "476    man        True  NaN  Southampton    no  False  \n",
      "488    man        True  NaN  Southampton    no   True  \n",
      "494    man        True  NaN  Southampton    no   True  \n",
      "500    man        True  NaN  Southampton    no   True  \n",
      "521    man        True  NaN  Southampton    no   True  \n",
      "526  woman       False  NaN  Southampton   yes   True  \n",
      "588    man        True  NaN  Southampton    no   True  \n",
      "614    man        True  NaN  Southampton    no   True  \n",
      "635  woman       False  NaN  Southampton   yes   True  \n",
      "636    man        True  NaN  Southampton    no   True  \n",
      "640    man        True  NaN  Southampton    no   True  \n",
      "641  woman       False    B    Cherbourg   yes   True  \n",
      "644  child       False  NaN    Cherbourg   yes  False  \n",
      "646    man        True  NaN  Southampton    no   True  \n",
      "666    man        True  NaN  Southampton    no   True  \n",
      "696    man        True  NaN  Southampton    no   True  \n",
      "733    man        True  NaN  Southampton    no   True  \n",
      "734    man        True  NaN  Southampton    no   True  \n",
      "757    man        True  NaN  Southampton    no   True  \n",
      "758    man        True  NaN  Southampton    no   True  \n",
      "800    man        True  NaN  Southampton    no   True  \n",
      "808    man        True  NaN  Southampton    no   True  \n",
      "838    man        True  NaN  Southampton   yes   True  \n",
      "844    man        True  NaN  Southampton    no   True  \n",
      "870    man        True  NaN  Southampton    no   True  \n",
      "877    man        True  NaN  Southampton    no   True  \n",
      "884    man        True  NaN  Southampton    no   True  \n",
      "886    man        True  NaN  Southampton    no   True  \n"
     ]
    }
   ],
   "source": [
    "# 列出数据中重复的行\n",
    "# your code\n",
    "print(train[train.duplicated()])"
   ]
  },
  {
   "cell_type": "code",
   "execution_count": 34,
   "metadata": {
    "ExecuteTime": {
     "end_time": "2023-10-25T13:48:19.874682900Z",
     "start_time": "2023-10-25T13:48:19.803261Z"
    }
   },
   "outputs": [
    {
     "name": "stdout",
     "output_type": "stream",
     "text": [
      "Empty DataFrame\n",
      "Columns: [survived, pclass, sex, age, sibsp, parch, fare, embarked, class, who, adult_male, deck, embark_town, alive, alone]\n",
      "Index: []\n"
     ]
    }
   ],
   "source": [
    "# 删除数据中重复的行\n",
    "# your code\n",
    "train.drop_duplicates(inplace=True)\n",
    "print(train[train.duplicated()])"
   ]
  },
  {
   "cell_type": "markdown",
   "metadata": {},
   "source": [
    "### 异常值的处理"
   ]
  },
  {
   "cell_type": "code",
   "execution_count": 35,
   "metadata": {
    "ExecuteTime": {
     "end_time": "2023-10-25T13:48:28.933957500Z",
     "start_time": "2023-10-25T13:48:28.772404300Z"
    }
   },
   "outputs": [
    {
     "name": "stdout",
     "output_type": "stream",
     "text": [
      "         survived      pclass         age       sibsp       parch       fare\n",
      "count  678.000000  678.000000  678.000000  678.000000  678.000000  678.00000\n",
      "mean     0.418879    2.219764   29.869351    0.533923    0.452802   35.80416\n",
      "std      0.493740    0.847496   14.759076    0.945111    0.869634   54.00290\n",
      "min      0.000000    1.000000    0.420000    0.000000    0.000000    0.00000\n",
      "25%      0.000000    1.000000   20.000000    0.000000    0.000000    8.05000\n",
      "50%      0.000000    2.000000   28.250000    0.000000    0.000000   16.10000\n",
      "75%      1.000000    3.000000   39.000000    1.000000    1.000000   35.28855\n",
      "max      1.000000    3.000000   80.000000    5.000000    6.000000  512.32920\n"
     ]
    }
   ],
   "source": [
    "# 输出数据的描述性统计信息\n",
    "# your code\n",
    "print(train.describe())"
   ]
  },
  {
   "cell_type": "code",
   "execution_count": 36,
   "metadata": {
    "ExecuteTime": {
     "end_time": "2023-10-25T13:48:35.476325500Z",
     "start_time": "2023-10-25T13:48:35.396083800Z"
    }
   },
   "outputs": [],
   "source": [
    "import numpy as np\n",
    "# 基于3σ原则检测异常值\n",
    "# ser1 表示传入DataFrame的某一列\n",
    "def three_sigma(ser1): \n",
    "    # 第一步：求平均值\n",
    "    m=ser1.mean()\n",
    "    # 第二步：求标准差\n",
    "    s=ser1.std()\n",
    "    # 位于(μ-3σ,μ+3σ)区间的数据是正常的，不在这个区间的数据为异常的\n",
    "    # ser1中的数值小于μ-3σ或大于μ+3σ均为异常值\n",
    "    # 第三步：一旦发现有异常值，就标注为True，否则标注为False\n",
    "    rule=(m-3*s>ser1)|(m+3*s<ser1)\n",
    "    # 第四步：获取异常数据outrange\n",
    "    outrange=ser1.loc[rule]\n",
    "    return outrange"
   ]
  },
  {
   "cell_type": "code",
   "execution_count": 37,
   "metadata": {
    "ExecuteTime": {
     "end_time": "2023-10-25T13:48:42.509637600Z",
     "start_time": "2023-10-25T13:48:42.460549100Z"
    }
   },
   "outputs": [
    {
     "name": "stdout",
     "output_type": "stream",
     "text": [
      "27     263.0000\n",
      "88     263.0000\n",
      "118    247.5208\n",
      "258    512.3292\n",
      "299    247.5208\n",
      "311    262.3750\n",
      "341    263.0000\n",
      "377    211.5000\n",
      "380    227.5250\n",
      "438    263.0000\n",
      "679    512.3292\n",
      "689    211.3375\n",
      "700    227.5250\n",
      "716    227.5250\n",
      "730    211.3375\n",
      "737    512.3292\n",
      "742    262.3750\n",
      "779    211.3375\n",
      "Name: fare, dtype: float64\n"
     ]
    }
   ],
   "source": [
    "# 检测tai的fare列是否有异常值\n",
    "# your code\n",
    "print(three_sigma(train['fare']))"
   ]
  },
  {
   "cell_type": "code",
   "execution_count": 38,
   "outputs": [],
   "source": [
    "data = train.copy()"
   ],
   "metadata": {
    "collapsed": false,
    "ExecuteTime": {
     "end_time": "2023-10-25T13:49:15.360376500Z",
     "start_time": "2023-10-25T13:49:15.287468300Z"
    }
   }
  },
  {
   "cell_type": "code",
   "execution_count": 39,
   "metadata": {
    "ExecuteTime": {
     "end_time": "2023-10-25T13:49:24.824946500Z",
     "start_time": "2023-10-25T13:49:24.726057Z"
    }
   },
   "outputs": [
    {
     "name": "stdout",
     "output_type": "stream",
     "text": [
      "     survived  pclass   sex   age  sibsp  parch     fare embarked   class  \\\n",
      "96          0       1  male  71.0      0      0  34.6542        C   First   \n",
      "116         0       3  male  70.5      0      0   7.7500        Q   Third   \n",
      "493         0       1  male  71.0      0      0  49.5042        C   First   \n",
      "630         1       1  male  80.0      0      0  30.0000        S   First   \n",
      "672         0       2  male  70.0      0      0  10.5000        S  Second   \n",
      "745         0       1  male  70.0      1      1  71.0000        S   First   \n",
      "851         0       3  male  74.0      0      0   7.7750        S   Third   \n",
      "\n",
      "     who  adult_male deck  embark_town alive  alone  \n",
      "96   man        True    A    Cherbourg    no   True  \n",
      "116  man        True  NaN   Queenstown    no   True  \n",
      "493  man        True  NaN    Cherbourg    no   True  \n",
      "630  man        True    A  Southampton   yes   True  \n",
      "672  man        True  NaN  Southampton    no   True  \n",
      "745  man        True    B  Southampton    no  False  \n",
      "851  man        True  NaN  Southampton    no   True  \n"
     ]
    }
   ],
   "source": [
    "#编写代码，利用箱型图检测方法找出age列的异常值\n",
    "Q = data['age'].quantile([0.25, 0.5, 0.75])\n",
    "IQR = Q.iloc[2]-Q.iloc[0]\n",
    "QL = Q.iloc[0]-1.5*IQR\n",
    "QU = Q.iloc[2]+1.5*IQR\n",
    "# your code\n",
    "print(data[(data['age']<QL)|(data['age']>QU)])"
   ]
  },
  {
   "cell_type": "code",
   "execution_count": 40,
   "metadata": {
    "ExecuteTime": {
     "end_time": "2023-10-25T13:49:44.766910600Z",
     "start_time": "2023-10-25T13:49:44.474385700Z"
    }
   },
   "outputs": [
    {
     "data": {
      "text/plain": "<Figure size 640x480 with 1 Axes>",
      "image/png": "[encoded data removed]"
     },
     "metadata": {},
     "output_type": "display_data"
    }
   ],
   "source": [
    "# 画出箱型图来查看age列中的异常值\n",
    "import matplotlib.pyplot as plt\n",
    "\n",
    "# your code\n",
    "plt.boxplot(data['age'])\n",
    "plt.show()"
   ]
  },
  {
   "cell_type": "markdown",
   "metadata": {},
   "source": [
    "### 数值类数据处理"
   ]
  },
  {
   "cell_type": "code",
   "execution_count": 41,
   "metadata": {
    "ExecuteTime": {
     "end_time": "2023-10-25T13:50:33.967779700Z",
     "start_time": "2023-10-25T13:50:33.914048700Z"
    }
   },
   "outputs": [
    {
     "name": "stdout",
     "output_type": "stream",
     "text": [
      "0       7.250\n",
      "1      71.283\n",
      "2       7.925\n",
      "3      53.100\n",
      "4       8.050\n",
      "        ...  \n",
      "883    10.500\n",
      "885    29.125\n",
      "887    30.000\n",
      "889    30.000\n",
      "890     7.750\n",
      "Name: fare, Length: 678, dtype: float64\n"
     ]
    }
   ],
   "source": [
    "# 保留fare列中三位小数\n",
    "# your code\n",
    "data['fare'] = data['fare'].apply(lambda x: round(x, 3))\n",
    "print(data['fare'])"
   ]
  },
  {
   "cell_type": "code",
   "execution_count": 42,
   "metadata": {
    "ExecuteTime": {
     "end_time": "2023-10-25T13:51:07.759397700Z",
     "start_time": "2023-10-25T13:51:07.681428800Z"
    }
   },
   "outputs": [
    {
     "name": "stdout",
     "output_type": "stream",
     "text": [
      "0      壮年\n",
      "1      壮年\n",
      "2      壮年\n",
      "3      壮年\n",
      "4      壮年\n",
      "       ..\n",
      "883    壮年\n",
      "885    壮年\n",
      "887    年少\n",
      "889    壮年\n",
      "890    壮年\n",
      "Name: age1, Length: 678, dtype: category\n",
      "Categories (3, object): ['年少' < '壮年' < '年迈']\n"
     ]
    }
   ],
   "source": [
    "# 将age列进行分箱操作并将结果存入age1列中，按0-20，20-60，60-100分为年少，壮年，年迈三类\n",
    "# your code\n",
    "bins = [0, 20, 60, 100]\n",
    "data['age1'] = pd.cut(data['age'], bins, labels=['年少', '壮年', '年迈'])\n",
    "print(data['age1'])"
   ]
  }
 ],
 "metadata": {
  "kernelspec": {
   "display_name": "base",
   "language": "python",
   "name": "python3"
  },
  "language_info": {
   "codemirror_mode": {
    "name": "ipython",
    "version": 3
   },
   "file_extension": ".py",
   "mimetype": "text/x-python",
   "name": "python",
   "nbconvert_exporter": "python",
   "pygments_lexer": "ipython3",
   "version": "3.8.16"
  }
 },
 "nbformat": 4,
 "nbformat_minor": 2
}
