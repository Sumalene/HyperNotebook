{
 "cells": [
  {
   "cell_type": "markdown",
   "source": [
    "# 卷积神经网路 【pytorch】"
   ],
   "metadata": {
    "collapsed": false
   }
  },
  {
   "cell_type": "markdown",
   "source": [
    "| ---- | -------- | ---- |\n",
    "| YYC | v1.0.0 | 2020.7.17 |"
   ],
   "metadata": {
    "collapsed": false
   }
  },
  {
   "cell_type": "code",
   "execution_count": 1,
   "outputs": [],
   "source": [
    "import torch # pytorch模块\n",
    "import torch.nn as nn # 神经网络模块\n",
    "import torch.utils.data as Data # 数据处理模块\n",
    "import torchvision # 数据库模块\n",
    "import matplotlib.pyplot as plt # 画图模块"
   ],
   "metadata": {
    "collapsed": false,
    "ExecuteTime": {
     "end_time": "2023-07-17T09:03:02.965467500Z",
     "start_time": "2023-07-17T09:02:59.892350400Z"
    }
   }
  },
  {
   "cell_type": "code",
   "execution_count": 3,
   "outputs": [
    {
     "name": "stdout",
     "output_type": "stream",
     "text": [
      "Downloading http://yann.lecun.com/exdb/mnist/train-images-idx3-ubyte.gz\n",
      "Downloading http://yann.lecun.com/exdb/mnist/train-images-idx3-ubyte.gz to ./mnist/MNIST\\raw\\train-images-idx3-ubyte.gz\n"
     ]
    },
    {
     "name": "stderr",
     "output_type": "stream",
     "text": [
      "100.0%\n"
     ]
    },
    {
     "name": "stdout",
     "output_type": "stream",
     "text": [
      "Extracting ./mnist/MNIST\\raw\\train-images-idx3-ubyte.gz to ./mnist/MNIST\\raw\n",
      "\n",
      "Downloading http://yann.lecun.com/exdb/mnist/train-labels-idx1-ubyte.gz\n",
      "Downloading http://yann.lecun.com/exdb/mnist/train-labels-idx1-ubyte.gz to ./mnist/MNIST\\raw\\train-labels-idx1-ubyte.gz\n"
     ]
    },
    {
     "name": "stderr",
     "output_type": "stream",
     "text": [
      "100.0%\n"
     ]
    },
    {
     "name": "stdout",
     "output_type": "stream",
     "text": [
      "Extracting ./mnist/MNIST\\raw\\train-labels-idx1-ubyte.gz to ./mnist/MNIST\\raw\n",
      "\n",
      "Downloading http://yann.lecun.com/exdb/mnist/t10k-images-idx3-ubyte.gz\n",
      "Downloading http://yann.lecun.com/exdb/mnist/t10k-images-idx3-ubyte.gz to ./mnist/MNIST\\raw\\t10k-images-idx3-ubyte.gz\n"
     ]
    },
    {
     "name": "stderr",
     "output_type": "stream",
     "text": [
      "100.0%\n"
     ]
    },
    {
     "name": "stdout",
     "output_type": "stream",
     "text": [
      "Extracting ./mnist/MNIST\\raw\\t10k-images-idx3-ubyte.gz to ./mnist/MNIST\\raw\n",
      "\n",
      "Downloading http://yann.lecun.com/exdb/mnist/t10k-labels-idx1-ubyte.gz\n",
      "Downloading http://yann.lecun.com/exdb/mnist/t10k-labels-idx1-ubyte.gz to ./mnist/MNIST\\raw\\t10k-labels-idx1-ubyte.gz\n"
     ]
    },
    {
     "name": "stderr",
     "output_type": "stream",
     "text": [
      "100.0%\n",
      "C:\\Users\\mar7th\\.conda\\envs\\pystudy\\Lib\\site-packages\\torchvision\\datasets\\mnist.py:75: UserWarning: train_data has been renamed data\n",
      "  warnings.warn(\"train_data has been renamed data\")\n"
     ]
    },
    {
     "name": "stdout",
     "output_type": "stream",
     "text": [
      "Extracting ./mnist/MNIST\\raw\\t10k-labels-idx1-ubyte.gz to ./mnist/MNIST\\raw\n",
      "\n",
      "torch.Size([60000, 28, 28])\n"
     ]
    },
    {
     "data": {
      "text/plain": "<Figure size 640x480 with 1 Axes>",
      "image/png": "[encoded data removed]"
     },
     "metadata": {},
     "output_type": "display_data"
    },
    {
     "name": "stdout",
     "output_type": "stream",
     "text": [
      "torch.Size([10000, 28, 28])\n"
     ]
    },
    {
     "name": "stderr",
     "output_type": "stream",
     "text": [
      "C:\\Users\\mar7th\\.conda\\envs\\pystudy\\Lib\\site-packages\\torchvision\\datasets\\mnist.py:80: UserWarning: test_data has been renamed data\n",
      "  warnings.warn(\"test_data has been renamed data\")\n",
      "C:\\Users\\mar7th\\.conda\\envs\\pystudy\\Lib\\site-packages\\torchvision\\datasets\\mnist.py:70: UserWarning: test_labels has been renamed targets\n",
      "  warnings.warn(\"test_labels has been renamed targets\")\n"
     ]
    }
   ],
   "source": [
    "torch.manual_seed(1)   # 为了每次的实验结果一致\n",
    "# 超参数\n",
    "epoches = 2\n",
    "batch_size = 50\n",
    "learning_rate = 0.001\n",
    "# 训练集\n",
    "train_data = torchvision.datasets.MNIST(\n",
    "    root=\"./mnist/\",  # 训练数据保存路径\n",
    "    train=True,       # True为下载训练数据集，False为下载测试数据集\n",
    "    transform=torchvision.transforms.ToTensor(),  # 数据范围已从(0-255)压缩到(0,1)\n",
    "    download=True,\n",
    ")\n",
    "plt.show()\n",
    "# 测试集\n",
    "test_data = torchvision.datasets.MNIST(root=\"./mnist/\", train=False)\n",
    "print(test_data.test_data.size())    # [10000, 28, 28]\n",
    "test_x = torch.unsqueeze(test_data.test_data, dim=1).type(torch.FloatTensor)/255\n",
    "test_y = test_data.test_labels\n",
    "\n",
    "# 将训练数据装入Loader中\n",
    "train_loader = train_loader = Data.DataLoader(dataset=train_data, batch_size=batch_size, shuffle=True, num_workers=3)"
   ],
   "metadata": {
    "collapsed": false,
    "ExecuteTime": {
     "end_time": "2023-07-17T09:06:21.905687300Z",
     "start_time": "2023-07-17T09:05:58.471655900Z"
    }
   }
  },
  {
   "cell_type": "code",
   "execution_count": 4,
   "outputs": [],
   "source": [
    "# 定义CNN\n",
    "class CNN(nn.Module):\n",
    "    def __init__(self):\n",
    "        super(CNN, self).__init__()   # 继承__init__功能\n",
    "        ## 第一层卷积\n",
    "        self.conv1 = nn.Sequential(\n",
    "            # 输入[1,28,28]\n",
    "            nn.Conv2d(\n",
    "                in_channels=1,    # 输入图片的高度\n",
    "                out_channels=16,  # 输出图片的高度\n",
    "                kernel_size=5,    # 5x5的卷积核，相当于过滤器\n",
    "                stride=1,         # 卷积核在图上滑动，每隔一个扫一次\n",
    "                padding=2,        # 给图外边补上0\n",
    "            ),\n",
    "            # 经过卷积层 输出[16,28,28] 传入池化层\n",
    "            nn.ReLU(),\n",
    "            nn.MaxPool2d(kernel_size=2)   # 经过池化 输出[16,14,14] 传入下一个卷积\n",
    "        )\n",
    "        ## 第二层卷积\n",
    "        self.conv2 = nn.Sequential(\n",
    "            nn.Conv2d(\n",
    "                in_channels=16,    # 同上\n",
    "                out_channels=32,\n",
    "                kernel_size=5,\n",
    "                stride=1,\n",
    "                padding=2\n",
    "            ),\n",
    "            # 经过卷积 输出[32, 14, 14] 传入池化层\n",
    "            nn.ReLU(),\n",
    "            nn.MaxPool2d(kernel_size=2)  # 经过池化 输出[32,7,7] 传入输出层\n",
    "        )\n",
    "        ## 输出层\n",
    "        self.output = nn.Linear(in_features=32*7*7, out_features=10)\n",
    "\n",
    "    def forward(self, x):\n",
    "        x = self.conv1(x)\n",
    "        x = self.conv2(x)           # [batch, 32,7,7]\n",
    "        x = x.view(x.size(0), -1)   # 保留batch, 将后面的乘到一起 [batch, 32*7*7]\n",
    "        output = self.output(x)     # 输出[50,10]\n",
    "        return output\n"
   ],
   "metadata": {
    "collapsed": false,
    "ExecuteTime": {
     "end_time": "2023-07-17T09:07:20.158575700Z",
     "start_time": "2023-07-17T09:07:20.153972900Z"
    }
   }
  },
  {
   "cell_type": "code",
   "execution_count": 5,
   "outputs": [],
   "source": [
    "# 实例化\n",
    "def main():\n",
    "    # cnn 实例化\n",
    "    cnn = CNN()\n",
    "    print(cnn)\n",
    "\n",
    "    # 定义优化器和损失函数\n",
    "    optimizer = torch.optim.Adam(cnn.parameters(), lr=learning_rate)\n",
    "    loss_function = nn.CrossEntropyLoss()\n",
    "\n",
    "    # 开始训练\n",
    "    for epoch in range(epoches):\n",
    "        print(\"进行第{}个epoch\".format(epoch))\n",
    "        for step, (batch_x, batch_y) in enumerate(train_loader):\n",
    "            output = cnn(batch_x)  # batch_x=[50,1,28,28]\n",
    "            loss = loss_function(output, batch_y)\n",
    "            optimizer.zero_grad()\n",
    "            loss.backward()\n",
    "            optimizer.step()\n",
    "            # 为了实时显示准确率\n",
    "            if step % 50 == 0:\n",
    "                test_output = cnn(test_x)\n",
    "                pred_y = torch.max(test_output, 1)[1].data.numpy()\n",
    "                accuracy = ((pred_y == test_y.data.numpy()).astype(int).sum()) / float(test_y.size(0))\n",
    "                print('Epoch: ', epoch, '| train loss: %.4f' % loss.data.numpy(), '| test accuracy: %.2f' % accuracy)\n",
    "\n",
    "\n",
    "    test_output = cnn(test_x[:10])\n",
    "    pred_y = torch.max(test_output, 1)[1].data.numpy().squeeze()\n",
    "    print(pred_y)\n",
    "    print(test_y[:10])"
   ],
   "metadata": {
    "collapsed": false,
    "ExecuteTime": {
     "end_time": "2023-07-17T09:08:40.399866500Z",
     "start_time": "2023-07-17T09:08:40.379304300Z"
    }
   }
  },
  {
   "cell_type": "code",
   "execution_count": 6,
   "outputs": [
    {
     "name": "stdout",
     "output_type": "stream",
     "text": [
      "CNN(\n",
      "  (conv1): Sequential(\n",
      "    (0): Conv2d(1, 16, kernel_size=(5, 5), stride=(1, 1), padding=(2, 2))\n",
      "    (1): ReLU()\n",
      "    (2): MaxPool2d(kernel_size=2, stride=2, padding=0, dilation=1, ceil_mode=False)\n",
      "  )\n",
      "  (conv2): Sequential(\n",
      "    (0): Conv2d(16, 32, kernel_size=(5, 5), stride=(1, 1), padding=(2, 2))\n",
      "    (1): ReLU()\n",
      "    (2): MaxPool2d(kernel_size=2, stride=2, padding=0, dilation=1, ceil_mode=False)\n",
      "  )\n",
      "  (output): Linear(in_features=1568, out_features=10, bias=True)\n",
      ")\n",
      "进行第0个epoch\n",
      "Epoch:  0 | train loss: 2.3034 | test accuracy: 0.14\n",
      "Epoch:  0 | train loss: 0.4083 | test accuracy: 0.85\n",
      "Epoch:  0 | train loss: 0.5555 | test accuracy: 0.89\n",
      "Epoch:  0 | train loss: 0.2239 | test accuracy: 0.93\n",
      "Epoch:  0 | train loss: 0.1275 | test accuracy: 0.95\n",
      "Epoch:  0 | train loss: 0.1649 | test accuracy: 0.96\n",
      "Epoch:  0 | train loss: 0.0561 | test accuracy: 0.96\n",
      "Epoch:  0 | train loss: 0.1252 | test accuracy: 0.97\n",
      "Epoch:  0 | train loss: 0.0353 | test accuracy: 0.97\n",
      "Epoch:  0 | train loss: 0.0998 | test accuracy: 0.97\n",
      "Epoch:  0 | train loss: 0.1812 | test accuracy: 0.97\n",
      "Epoch:  0 | train loss: 0.0915 | test accuracy: 0.97\n",
      "Epoch:  0 | train loss: 0.0186 | test accuracy: 0.98\n",
      "Epoch:  0 | train loss: 0.1464 | test accuracy: 0.98\n",
      "Epoch:  0 | train loss: 0.0944 | test accuracy: 0.98\n",
      "Epoch:  0 | train loss: 0.2121 | test accuracy: 0.97\n",
      "Epoch:  0 | train loss: 0.0392 | test accuracy: 0.97\n",
      "Epoch:  0 | train loss: 0.0517 | test accuracy: 0.98\n",
      "Epoch:  0 | train loss: 0.0973 | test accuracy: 0.98\n",
      "Epoch:  0 | train loss: 0.0206 | test accuracy: 0.98\n",
      "Epoch:  0 | train loss: 0.1989 | test accuracy: 0.98\n",
      "Epoch:  0 | train loss: 0.0292 | test accuracy: 0.98\n",
      "Epoch:  0 | train loss: 0.0226 | test accuracy: 0.98\n",
      "Epoch:  0 | train loss: 0.0759 | test accuracy: 0.98\n",
      "进行第1个epoch\n",
      "Epoch:  1 | train loss: 0.0344 | test accuracy: 0.98\n",
      "Epoch:  1 | train loss: 0.0389 | test accuracy: 0.98\n",
      "Epoch:  1 | train loss: 0.0111 | test accuracy: 0.98\n",
      "Epoch:  1 | train loss: 0.1510 | test accuracy: 0.98\n",
      "Epoch:  1 | train loss: 0.1038 | test accuracy: 0.98\n",
      "Epoch:  1 | train loss: 0.0306 | test accuracy: 0.98\n",
      "Epoch:  1 | train loss: 0.0094 | test accuracy: 0.98\n",
      "Epoch:  1 | train loss: 0.0134 | test accuracy: 0.98\n",
      "Epoch:  1 | train loss: 0.0359 | test accuracy: 0.98\n",
      "Epoch:  1 | train loss: 0.0337 | test accuracy: 0.99\n",
      "Epoch:  1 | train loss: 0.0265 | test accuracy: 0.98\n",
      "Epoch:  1 | train loss: 0.0120 | test accuracy: 0.99\n",
      "Epoch:  1 | train loss: 0.0546 | test accuracy: 0.98\n",
      "Epoch:  1 | train loss: 0.0442 | test accuracy: 0.98\n",
      "Epoch:  1 | train loss: 0.0178 | test accuracy: 0.99\n",
      "Epoch:  1 | train loss: 0.0283 | test accuracy: 0.99\n",
      "Epoch:  1 | train loss: 0.0416 | test accuracy: 0.99\n",
      "Epoch:  1 | train loss: 0.0279 | test accuracy: 0.98\n",
      "Epoch:  1 | train loss: 0.0117 | test accuracy: 0.99\n",
      "Epoch:  1 | train loss: 0.0461 | test accuracy: 0.99\n",
      "Epoch:  1 | train loss: 0.0880 | test accuracy: 0.99\n",
      "Epoch:  1 | train loss: 0.0386 | test accuracy: 0.98\n",
      "Epoch:  1 | train loss: 0.0047 | test accuracy: 0.99\n",
      "Epoch:  1 | train loss: 0.0426 | test accuracy: 0.99\n",
      "[7 2 1 0 4 1 4 9 5 9]\n",
      "tensor([7, 2, 1, 0, 4, 1, 4, 9, 5, 9])\n"
     ]
    }
   ],
   "source": [
    "# 运行\n",
    "if __name__ == \"__main__\":\n",
    "    main()"
   ],
   "metadata": {
    "collapsed": false,
    "ExecuteTime": {
     "end_time": "2023-07-17T09:10:14.992523600Z",
     "start_time": "2023-07-17T09:09:21.515315Z"
    }
   }
  },
  {
   "cell_type": "code",
   "execution_count": null,
   "outputs": [],
   "source": [],
   "metadata": {
    "collapsed": false
   }
  }
 ],
 "metadata": {
  "kernelspec": {
   "display_name": "Python 3",
   "language": "python",
   "name": "python3"
  },
  "language_info": {
   "codemirror_mode": {
    "name": "ipython",
    "version": 2
   },
   "file_extension": ".py",
   "mimetype": "text/x-python",
   "name": "python",
   "nbconvert_exporter": "python",
   "pygments_lexer": "ipython2",
   "version": "2.7.6"
  }
 },
 "nbformat": 4,
 "nbformat_minor": 0
}
