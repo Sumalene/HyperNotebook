{
 "cells": [
  {
   "cell_type": "markdown",
   "metadata": {},
   "source": [
    "# KNN"
   ]
  },
  {
   "cell_type": "markdown",
   "metadata": {},
   "source": [
    "## 导入相关库"
   ]
  },
  {
   "cell_type": "code",
   "execution_count": 1,
   "metadata": {
    "ExecuteTime": {
     "end_time": "2023-11-23T11:43:22.357243200Z",
     "start_time": "2023-11-23T11:43:20.910884900Z"
    }
   },
   "outputs": [],
   "source": [
    "from collections import Counter\n",
    "from sklearn.model_selection import train_test_split\n",
    "import numpy as np\n",
    "import pandas as pd"
   ]
  },
  {
   "cell_type": "markdown",
   "metadata": {},
   "source": [
    "## 数据预处理过程"
   ]
  },
  {
   "cell_type": "code",
   "execution_count": 2,
   "metadata": {
    "ExecuteTime": {
     "end_time": "2023-11-23T11:43:25.423769500Z",
     "start_time": "2023-11-23T11:43:25.366697700Z"
    }
   },
   "outputs": [],
   "source": [
    "# 数据读取\n",
    "data = pd.read_csv('data.csv')\n",
    "# 定义特征列 标签列\n",
    "c = ['二氧化硅(SiO2)', '氧化钠(Na2O)',\n",
    "     '氧化钾(K2O)', '氧化钙(CaO)', '氧化镁(MgO)', '氧化铝(Al2O3)', '氧化铁(Fe2O3)',\n",
    "     '氧化铜(CuO)', '氧化铅(PbO)', '氧化钡(BaO)', '五氧化二磷(P2O5)', '氧化锶(SrO)',\n",
    "     '氧化锡(SnO2)', '二氧化硫(SO2)']\n",
    "X = data[c].values\n",
    "y = data['类型'].values\n",
    "# 使用train_test_split划分进训练集与测试集\n",
    "X_train, X_test, y_train, y_test = train_test_split(X, y, random_state=2003)  # 设定随机种子"
   ]
  },
  {
   "cell_type": "markdown",
   "metadata": {},
   "source": [
    "## 实现KNN具体细节"
   ]
  },
  {
   "cell_type": "code",
   "execution_count": 3,
   "metadata": {
    "ExecuteTime": {
     "end_time": "2023-11-23T11:43:51.097250800Z",
     "start_time": "2023-11-23T11:43:51.036341600Z"
    }
   },
   "outputs": [],
   "source": [
    "def euc_dis(instance1, instance2):\n",
    "    \"\"\"\n",
    "    计算两个样本instance1和instance2之间的欧式距离\n",
    "    instance1: 第一个样本， array型\n",
    "    instance2: 第二个样本， array型\n",
    "    \"\"\"\n",
    "    # your code\n",
    "    return np.sqrt(sum((instance1 - instance2) ** 2))\n",
    "\n",
    "\n",
    "def knn_classify(X, y, testInstance, k):\n",
    "    \"\"\"\n",
    "    给定一个测试数据testInstance, 通过KNN算法来预测它的标签。 \n",
    "    X: 训练数据的特征\n",
    "    y: 训练数据的标签\n",
    "    testInstance: 测试数据，这里假定一个测试数据 array型\n",
    "    k: 选择多少个neighbors? \n",
    "    \"\"\"\n",
    "    # your code  返回testInstance的预测标签\n",
    "    distances = [euc_dis(x, testInstance) for x in X]\n",
    "    kneighbors = np.argsort(distances)[:k]\n",
    "    count = Counter(y[kneighbors])\n",
    "    return count.most_common()[0][0]\n",
    "\n"
   ]
  },
  {
   "cell_type": "markdown",
   "metadata": {},
   "source": [
    "## 预测结果、及准确率计算"
   ]
  },
  {
   "cell_type": "code",
   "execution_count": 4,
   "outputs": [
    {
     "name": "stdout",
     "output_type": "stream",
     "text": [
      "预测结果为： ['铅钡', '铅钡', '铅钡', '高钾', '铅钡', '高钾', '铅钡', '铅钡', '铅钡', '铅钡', '铅钡', '高钾', '高钾', '铅钡', '高钾', '高钾', '高钾']\n",
      "实际结果为： ['铅钡', '铅钡', '铅钡', '高钾', '铅钡', '高钾', '铅钡', '铅钡', '铅钡', '铅钡', '铅钡', '高钾', '高钾', '铅钡', '高钾', '高钾', '高钾']\n",
      "Accuracy is: 1.000\n"
     ]
    }
   ],
   "source": [
    "# 预测结果。\n",
    "K = 3\n",
    "predictions = [knn_classify(X_train, y_train, data, K) for data in X_test]\n",
    "print(\"预测结果为：\", predictions)\n",
    "print(\"实际结果为：\", list(y_test))\n",
    "\n",
    "# 准确率计算\n",
    "correct = np.count_nonzero((predictions == y_test) == True)\n",
    "print(\"Accuracy is: %.3f\" % (correct / len(X_test)))"
   ],
   "metadata": {
    "collapsed": false,
    "ExecuteTime": {
     "end_time": "2023-11-23T11:44:06.153744300Z",
     "start_time": "2023-11-23T11:44:06.104267Z"
    }
   }
  },
  {
   "cell_type": "markdown",
   "metadata": {},
   "source": [
    "# 决策树"
   ]
  },
  {
   "cell_type": "code",
   "execution_count": 15,
   "outputs": [],
   "source": [
    "import pandas as pd\n",
    "from sklearn import tree  #导入模块\n",
    "# 读取附件的表单1与表单2\n",
    "# your code\n",
    "import openpyxl"
   ],
   "metadata": {
    "collapsed": false,
    "ExecuteTime": {
     "end_time": "2023-11-23T16:58:32.663810600Z",
     "start_time": "2023-11-23T16:58:32.119855200Z"
    }
   }
  },
  {
   "cell_type": "code",
   "execution_count": 16,
   "outputs": [
    {
     "data": {
      "text/plain": "   文物编号 纹饰  类型  颜色 表面风化\n0     1  C  高钾  蓝绿  无风化\n1     2  A  铅钡  浅蓝   风化\n2     3  A  高钾  蓝绿  无风化\n3     4  A  高钾  蓝绿  无风化\n4     5  A  高钾  蓝绿  无风化",
      "text/html": "<div>\n<style scoped>\n    .dataframe tbody tr th:only-of-type {\n        vertical-align: middle;\n    }\n\n    .dataframe tbody tr th {\n        vertical-align: top;\n    }\n\n    .dataframe thead th {\n        text-align: right;\n    }\n</style>\n<table border=\"1\" class=\"dataframe\">\n  <thead>\n    <tr style=\"text-align: right;\">\n      <th></th>\n      <th>文物编号</th>\n      <th>纹饰</th>\n      <th>类型</th>\n      <th>颜色</th>\n      <th>表面风化</th>\n    </tr>\n  </thead>\n  <tbody>\n    <tr>\n      <th>0</th>\n      <td>1</td>\n      <td>C</td>\n      <td>高钾</td>\n      <td>蓝绿</td>\n      <td>无风化</td>\n    </tr>\n    <tr>\n      <th>1</th>\n      <td>2</td>\n      <td>A</td>\n      <td>铅钡</td>\n      <td>浅蓝</td>\n      <td>风化</td>\n    </tr>\n    <tr>\n      <th>2</th>\n      <td>3</td>\n      <td>A</td>\n      <td>高钾</td>\n      <td>蓝绿</td>\n      <td>无风化</td>\n    </tr>\n    <tr>\n      <th>3</th>\n      <td>4</td>\n      <td>A</td>\n      <td>高钾</td>\n      <td>蓝绿</td>\n      <td>无风化</td>\n    </tr>\n    <tr>\n      <th>4</th>\n      <td>5</td>\n      <td>A</td>\n      <td>高钾</td>\n      <td>蓝绿</td>\n      <td>无风化</td>\n    </tr>\n  </tbody>\n</table>\n</div>"
     },
     "execution_count": 16,
     "metadata": {},
     "output_type": "execute_result"
    }
   ],
   "source": [
    "data1 = pd.read_excel('FJ.xlsx', sheet_name='表单1')\n",
    "data1.head(5)"
   ],
   "metadata": {
    "collapsed": false,
    "ExecuteTime": {
     "end_time": "2023-11-23T16:58:47.249241300Z",
     "start_time": "2023-11-23T16:58:47.116056300Z"
    }
   }
  },
  {
   "cell_type": "code",
   "execution_count": 17,
   "metadata": {
    "ExecuteTime": {
     "end_time": "2023-11-23T16:59:38.380022300Z",
     "start_time": "2023-11-23T16:59:38.232563800Z"
    }
   },
   "outputs": [
    {
     "data": {
      "text/plain": "   文物采样点  二氧化硅(SiO2)  氧化钠(Na2O)  氧化钾(K2O)  氧化钙(CaO)  氧化镁(MgO)  氧化铝(Al2O3)  \\\n0     01       69.33        0.0      9.99      6.32      0.87        3.93   \n1     02       36.28        0.0      1.05      2.34      1.18        5.73   \n2  03部位1       87.05        0.0      5.19      2.01      0.00        4.06   \n3  03部位2       61.71        0.0     12.37      5.87      1.11        5.50   \n4     04       65.88        0.0      9.67      7.12      1.56        6.44   \n\n   氧化铁(Fe2O3)  氧化铜(CuO)  氧化铅(PbO)  氧化钡(BaO)  五氧化二磷(P2O5)  氧化锶(SrO)  氧化锡(SnO2)  \\\n0        1.74      3.87      0.00      0.00         1.17      0.00        0.0   \n1        1.86      0.26     47.43      0.00         3.57      0.19        0.0   \n2        0.00      0.78      0.25      0.00         0.66      0.00        0.0   \n3        2.16      5.09      1.41      2.86         0.70      0.10        0.0   \n4        2.06      2.18      0.00      0.00         0.79      0.00        0.0   \n\n   二氧化硫(SO2)  \n0       0.39  \n1       0.00  \n2       0.00  \n3       0.00  \n4       0.36  ",
      "text/html": "<div>\n<style scoped>\n    .dataframe tbody tr th:only-of-type {\n        vertical-align: middle;\n    }\n\n    .dataframe tbody tr th {\n        vertical-align: top;\n    }\n\n    .dataframe thead th {\n        text-align: right;\n    }\n</style>\n<table border=\"1\" class=\"dataframe\">\n  <thead>\n    <tr style=\"text-align: right;\">\n      <th></th>\n      <th>文物采样点</th>\n      <th>二氧化硅(SiO2)</th>\n      <th>氧化钠(Na2O)</th>\n      <th>氧化钾(K2O)</th>\n      <th>氧化钙(CaO)</th>\n      <th>氧化镁(MgO)</th>\n      <th>氧化铝(Al2O3)</th>\n      <th>氧化铁(Fe2O3)</th>\n      <th>氧化铜(CuO)</th>\n      <th>氧化铅(PbO)</th>\n      <th>氧化钡(BaO)</th>\n      <th>五氧化二磷(P2O5)</th>\n      <th>氧化锶(SrO)</th>\n      <th>氧化锡(SnO2)</th>\n      <th>二氧化硫(SO2)</th>\n    </tr>\n  </thead>\n  <tbody>\n    <tr>\n      <th>0</th>\n      <td>01</td>\n      <td>69.33</td>\n      <td>0.0</td>\n      <td>9.99</td>\n      <td>6.32</td>\n      <td>0.87</td>\n      <td>3.93</td>\n      <td>1.74</td>\n      <td>3.87</td>\n      <td>0.00</td>\n      <td>0.00</td>\n      <td>1.17</td>\n      <td>0.00</td>\n      <td>0.0</td>\n      <td>0.39</td>\n    </tr>\n    <tr>\n      <th>1</th>\n      <td>02</td>\n      <td>36.28</td>\n      <td>0.0</td>\n      <td>1.05</td>\n      <td>2.34</td>\n      <td>1.18</td>\n      <td>5.73</td>\n      <td>1.86</td>\n      <td>0.26</td>\n      <td>47.43</td>\n      <td>0.00</td>\n      <td>3.57</td>\n      <td>0.19</td>\n      <td>0.0</td>\n      <td>0.00</td>\n    </tr>\n    <tr>\n      <th>2</th>\n      <td>03部位1</td>\n      <td>87.05</td>\n      <td>0.0</td>\n      <td>5.19</td>\n      <td>2.01</td>\n      <td>0.00</td>\n      <td>4.06</td>\n      <td>0.00</td>\n      <td>0.78</td>\n      <td>0.25</td>\n      <td>0.00</td>\n      <td>0.66</td>\n      <td>0.00</td>\n      <td>0.0</td>\n      <td>0.00</td>\n    </tr>\n    <tr>\n      <th>3</th>\n      <td>03部位2</td>\n      <td>61.71</td>\n      <td>0.0</td>\n      <td>12.37</td>\n      <td>5.87</td>\n      <td>1.11</td>\n      <td>5.50</td>\n      <td>2.16</td>\n      <td>5.09</td>\n      <td>1.41</td>\n      <td>2.86</td>\n      <td>0.70</td>\n      <td>0.10</td>\n      <td>0.0</td>\n      <td>0.00</td>\n    </tr>\n    <tr>\n      <th>4</th>\n      <td>04</td>\n      <td>65.88</td>\n      <td>0.0</td>\n      <td>9.67</td>\n      <td>7.12</td>\n      <td>1.56</td>\n      <td>6.44</td>\n      <td>2.06</td>\n      <td>2.18</td>\n      <td>0.00</td>\n      <td>0.00</td>\n      <td>0.79</td>\n      <td>0.00</td>\n      <td>0.0</td>\n      <td>0.36</td>\n    </tr>\n  </tbody>\n</table>\n</div>"
     },
     "execution_count": 17,
     "metadata": {},
     "output_type": "execute_result"
    }
   ],
   "source": [
    "# 为减少难度，将表单2数据中的空值设为0\n",
    "# your code\n",
    "data2 = pd.read_excel('FJ.xlsx', sheet_name='表单2')\n",
    "# 空值\n",
    "data2 = data2.fillna(0)\n",
    "data2.head(5)"
   ]
  },
  {
   "cell_type": "code",
   "execution_count": 18,
   "metadata": {
    "ExecuteTime": {
     "end_time": "2023-11-23T17:03:03.731687100Z",
     "start_time": "2023-11-23T17:03:03.668001400Z"
    }
   },
   "outputs": [
    {
     "data": {
      "text/plain": "   文物采样点  二氧化硅(SiO2)  氧化钠(Na2O)  氧化钾(K2O)  氧化钙(CaO)  氧化镁(MgO)  氧化铝(Al2O3)  \\\n0     01       69.33        0.0      9.99      6.32      0.87        3.93   \n1     02       36.28        0.0      1.05      2.34      1.18        5.73   \n2  03部位1       87.05        0.0      5.19      2.01      0.00        4.06   \n3  03部位2       61.71        0.0     12.37      5.87      1.11        5.50   \n4     04       65.88        0.0      9.67      7.12      1.56        6.44   \n\n   氧化铁(Fe2O3)  氧化铜(CuO)  氧化铅(PbO)  氧化钡(BaO)  五氧化二磷(P2O5)  氧化锶(SrO)  氧化锡(SnO2)  \\\n0        1.74      3.87      0.00      0.00         1.17      0.00        0.0   \n1        1.86      0.26     47.43      0.00         3.57      0.19        0.0   \n2        0.00      0.78      0.25      0.00         0.66      0.00        0.0   \n3        2.16      5.09      1.41      2.86         0.70      0.10        0.0   \n4        2.06      2.18      0.00      0.00         0.79      0.00        0.0   \n\n   二氧化硫(SO2)  \n0       0.39  \n1       0.00  \n2       0.00  \n3       0.00  \n4       0.36  ",
      "text/html": "<div>\n<style scoped>\n    .dataframe tbody tr th:only-of-type {\n        vertical-align: middle;\n    }\n\n    .dataframe tbody tr th {\n        vertical-align: top;\n    }\n\n    .dataframe thead th {\n        text-align: right;\n    }\n</style>\n<table border=\"1\" class=\"dataframe\">\n  <thead>\n    <tr style=\"text-align: right;\">\n      <th></th>\n      <th>文物采样点</th>\n      <th>二氧化硅(SiO2)</th>\n      <th>氧化钠(Na2O)</th>\n      <th>氧化钾(K2O)</th>\n      <th>氧化钙(CaO)</th>\n      <th>氧化镁(MgO)</th>\n      <th>氧化铝(Al2O3)</th>\n      <th>氧化铁(Fe2O3)</th>\n      <th>氧化铜(CuO)</th>\n      <th>氧化铅(PbO)</th>\n      <th>氧化钡(BaO)</th>\n      <th>五氧化二磷(P2O5)</th>\n      <th>氧化锶(SrO)</th>\n      <th>氧化锡(SnO2)</th>\n      <th>二氧化硫(SO2)</th>\n    </tr>\n  </thead>\n  <tbody>\n    <tr>\n      <th>0</th>\n      <td>01</td>\n      <td>69.33</td>\n      <td>0.0</td>\n      <td>9.99</td>\n      <td>6.32</td>\n      <td>0.87</td>\n      <td>3.93</td>\n      <td>1.74</td>\n      <td>3.87</td>\n      <td>0.00</td>\n      <td>0.00</td>\n      <td>1.17</td>\n      <td>0.00</td>\n      <td>0.0</td>\n      <td>0.39</td>\n    </tr>\n    <tr>\n      <th>1</th>\n      <td>02</td>\n      <td>36.28</td>\n      <td>0.0</td>\n      <td>1.05</td>\n      <td>2.34</td>\n      <td>1.18</td>\n      <td>5.73</td>\n      <td>1.86</td>\n      <td>0.26</td>\n      <td>47.43</td>\n      <td>0.00</td>\n      <td>3.57</td>\n      <td>0.19</td>\n      <td>0.0</td>\n      <td>0.00</td>\n    </tr>\n    <tr>\n      <th>2</th>\n      <td>03部位1</td>\n      <td>87.05</td>\n      <td>0.0</td>\n      <td>5.19</td>\n      <td>2.01</td>\n      <td>0.00</td>\n      <td>4.06</td>\n      <td>0.00</td>\n      <td>0.78</td>\n      <td>0.25</td>\n      <td>0.00</td>\n      <td>0.66</td>\n      <td>0.00</td>\n      <td>0.0</td>\n      <td>0.00</td>\n    </tr>\n    <tr>\n      <th>3</th>\n      <td>03部位2</td>\n      <td>61.71</td>\n      <td>0.0</td>\n      <td>12.37</td>\n      <td>5.87</td>\n      <td>1.11</td>\n      <td>5.50</td>\n      <td>2.16</td>\n      <td>5.09</td>\n      <td>1.41</td>\n      <td>2.86</td>\n      <td>0.70</td>\n      <td>0.10</td>\n      <td>0.0</td>\n      <td>0.00</td>\n    </tr>\n    <tr>\n      <th>4</th>\n      <td>04</td>\n      <td>65.88</td>\n      <td>0.0</td>\n      <td>9.67</td>\n      <td>7.12</td>\n      <td>1.56</td>\n      <td>6.44</td>\n      <td>2.06</td>\n      <td>2.18</td>\n      <td>0.00</td>\n      <td>0.00</td>\n      <td>0.79</td>\n      <td>0.00</td>\n      <td>0.0</td>\n      <td>0.36</td>\n    </tr>\n  </tbody>\n</table>\n</div>"
     },
     "execution_count": 18,
     "metadata": {},
     "output_type": "execute_result"
    }
   ],
   "source": [
    "# 各成分比例的累加和应为 100%，但因检测手段等原因可能导致其成分比例的累加和非100%的情况。本题中将成分比例累加和介于 85%~105%之间的数据视为有效数据。\n",
    "# 提取有效数据\n",
    "# your code\n",
    "data2 = data2[(data2['二氧化硅(SiO2)'] + data2['氧化钠(Na2O)'] + data2['氧化钾(K2O)'] + data2['氧化钙(CaO)'] + data2[\n",
    "    '氧化镁(MgO)'] + data2['氧化铝(Al2O3)'] + data2['氧化铁(Fe2O3)'] + data2['氧化铜(CuO)'] + data2['氧化铅(PbO)'] +\n",
    "               data2['氧化钡(BaO)'] + data2['五氧化二磷(P2O5)'] + data2['氧化锶(SrO)'] + data2['氧化锡(SnO2)'] + data2[\n",
    "                   '二氧化硫(SO2)']) >= 85]\n",
    "data2 = data2[(data2['二氧化硅(SiO2)'] + data2['氧化钠(Na2O)'] + data2['氧化钾(K2O)'] + data2['氧化钙(CaO)'] + data2[\n",
    "    '氧化镁(MgO)'] + data2['氧化铝(Al2O3)'] + data2['氧化铁(Fe2O3)'] + data2['氧化铜(CuO)'] + data2['氧化铅(PbO)'] +\n",
    "               data2['氧化钡(BaO)'] + data2['五氧化二磷(P2O5)'] + data2['氧化锶(SrO)'] + data2['氧化锡(SnO2)'] + data2[\n",
    "                   '二氧化硫(SO2)']) <= 105]\n",
    "data2.head(5)"
   ]
  },
  {
   "cell_type": "code",
   "execution_count": 19,
   "outputs": [
    {
     "data": {
      "text/plain": "      文物采样点  二氧化硅(SiO2)  氧化钠(Na2O)  氧化钾(K2O)  氧化钙(CaO)  氧化镁(MgO)  氧化铝(Al2O3)  \\\n64  54严重风化点       17.11       0.00      0.00      0.00      1.11        3.65   \n65       55       49.01       2.71      0.00      1.13      0.00        1.45   \n66       56       29.15       0.00      0.00      1.21      0.00        1.85   \n67       57       25.42       0.00      0.00      1.31      0.00        2.18   \n68       58       30.39       0.00      0.34      3.49      0.79        3.52   \n\n    氧化铁(Fe2O3)  氧化铜(CuO)  氧化铅(PbO)  氧化钡(BaO)  五氧化二磷(P2O5)  氧化锶(SrO)  \\\n64        0.00      1.34     58.46      0.00        14.13      1.12   \n65        0.00      0.86     32.92      7.95         0.35      0.00   \n66        0.00      0.79     41.25     15.45         2.54      0.00   \n67        0.00      1.16     45.10     17.30         0.00      0.00   \n68        0.86      3.13     39.35      7.66         8.99      0.24   \n\n    氧化锡(SnO2)  二氧化硫(SO2)  \n64        0.0        0.0  \n65        0.0        0.0  \n66        0.0        0.0  \n67        0.0        0.0  \n68        0.0        0.0  ",
      "text/html": "<div>\n<style scoped>\n    .dataframe tbody tr th:only-of-type {\n        vertical-align: middle;\n    }\n\n    .dataframe tbody tr th {\n        vertical-align: top;\n    }\n\n    .dataframe thead th {\n        text-align: right;\n    }\n</style>\n<table border=\"1\" class=\"dataframe\">\n  <thead>\n    <tr style=\"text-align: right;\">\n      <th></th>\n      <th>文物采样点</th>\n      <th>二氧化硅(SiO2)</th>\n      <th>氧化钠(Na2O)</th>\n      <th>氧化钾(K2O)</th>\n      <th>氧化钙(CaO)</th>\n      <th>氧化镁(MgO)</th>\n      <th>氧化铝(Al2O3)</th>\n      <th>氧化铁(Fe2O3)</th>\n      <th>氧化铜(CuO)</th>\n      <th>氧化铅(PbO)</th>\n      <th>氧化钡(BaO)</th>\n      <th>五氧化二磷(P2O5)</th>\n      <th>氧化锶(SrO)</th>\n      <th>氧化锡(SnO2)</th>\n      <th>二氧化硫(SO2)</th>\n    </tr>\n  </thead>\n  <tbody>\n    <tr>\n      <th>64</th>\n      <td>54严重风化点</td>\n      <td>17.11</td>\n      <td>0.00</td>\n      <td>0.00</td>\n      <td>0.00</td>\n      <td>1.11</td>\n      <td>3.65</td>\n      <td>0.00</td>\n      <td>1.34</td>\n      <td>58.46</td>\n      <td>0.00</td>\n      <td>14.13</td>\n      <td>1.12</td>\n      <td>0.0</td>\n      <td>0.0</td>\n    </tr>\n    <tr>\n      <th>65</th>\n      <td>55</td>\n      <td>49.01</td>\n      <td>2.71</td>\n      <td>0.00</td>\n      <td>1.13</td>\n      <td>0.00</td>\n      <td>1.45</td>\n      <td>0.00</td>\n      <td>0.86</td>\n      <td>32.92</td>\n      <td>7.95</td>\n      <td>0.35</td>\n      <td>0.00</td>\n      <td>0.0</td>\n      <td>0.0</td>\n    </tr>\n    <tr>\n      <th>66</th>\n      <td>56</td>\n      <td>29.15</td>\n      <td>0.00</td>\n      <td>0.00</td>\n      <td>1.21</td>\n      <td>0.00</td>\n      <td>1.85</td>\n      <td>0.00</td>\n      <td>0.79</td>\n      <td>41.25</td>\n      <td>15.45</td>\n      <td>2.54</td>\n      <td>0.00</td>\n      <td>0.0</td>\n      <td>0.0</td>\n    </tr>\n    <tr>\n      <th>67</th>\n      <td>57</td>\n      <td>25.42</td>\n      <td>0.00</td>\n      <td>0.00</td>\n      <td>1.31</td>\n      <td>0.00</td>\n      <td>2.18</td>\n      <td>0.00</td>\n      <td>1.16</td>\n      <td>45.10</td>\n      <td>17.30</td>\n      <td>0.00</td>\n      <td>0.00</td>\n      <td>0.0</td>\n      <td>0.0</td>\n    </tr>\n    <tr>\n      <th>68</th>\n      <td>58</td>\n      <td>30.39</td>\n      <td>0.00</td>\n      <td>0.34</td>\n      <td>3.49</td>\n      <td>0.79</td>\n      <td>3.52</td>\n      <td>0.86</td>\n      <td>3.13</td>\n      <td>39.35</td>\n      <td>7.66</td>\n      <td>8.99</td>\n      <td>0.24</td>\n      <td>0.0</td>\n      <td>0.0</td>\n    </tr>\n  </tbody>\n</table>\n</div>"
     },
     "execution_count": 19,
     "metadata": {},
     "output_type": "execute_result"
    }
   ],
   "source": [
    "data2.tail(5)"
   ],
   "metadata": {
    "collapsed": false,
    "ExecuteTime": {
     "end_time": "2023-11-23T17:09:07.295511400Z",
     "start_time": "2023-11-23T17:09:07.210116200Z"
    }
   }
  },
  {
   "cell_type": "code",
   "execution_count": 51,
   "metadata": {
    "ExecuteTime": {
     "end_time": "2023-11-23T17:42:37.291607500Z",
     "start_time": "2023-11-23T17:42:37.179707900Z"
    }
   },
   "outputs": [
    {
     "data": {
      "text/plain": "   文物编号 纹饰  类型  颜色 表面风化 文物采样点  二氧化硅(SiO2)  氧化钠(Na2O)  氧化钾(K2O)  氧化钙(CaO)  \\\n0   1.0  C  高钾  蓝绿  无风化    01       69.33        0.0      9.99      6.32   \n1   2.0  A  铅钡  浅蓝   风化    02       36.28        0.0      1.05      2.34   \n2   3.0  A  高钾  蓝绿  无风化    03       87.05        0.0      5.19      2.01   \n3   4.0  A  高钾  蓝绿  无风化    03       61.71        0.0     12.37      5.87   \n4   5.0  A  高钾  蓝绿  无风化    04       65.88        0.0      9.67      7.12   \n\n   氧化镁(MgO)  氧化铝(Al2O3)  氧化铁(Fe2O3)  氧化铜(CuO)  氧化铅(PbO)  氧化钡(BaO)  \\\n0      0.87        3.93        1.74      3.87      0.00      0.00   \n1      1.18        5.73        1.86      0.26     47.43      0.00   \n2      0.00        4.06        0.00      0.78      0.25      0.00   \n3      1.11        5.50        2.16      5.09      1.41      2.86   \n4      1.56        6.44        2.06      2.18      0.00      0.00   \n\n   五氧化二磷(P2O5)  氧化锶(SrO)  氧化锡(SnO2)  二氧化硫(SO2)  \n0         1.17      0.00        0.0       0.39  \n1         3.57      0.19        0.0       0.00  \n2         0.66      0.00        0.0       0.00  \n3         0.70      0.10        0.0       0.00  \n4         0.79      0.00        0.0       0.36  ",
      "text/html": "<div>\n<style scoped>\n    .dataframe tbody tr th:only-of-type {\n        vertical-align: middle;\n    }\n\n    .dataframe tbody tr th {\n        vertical-align: top;\n    }\n\n    .dataframe thead th {\n        text-align: right;\n    }\n</style>\n<table border=\"1\" class=\"dataframe\">\n  <thead>\n    <tr style=\"text-align: right;\">\n      <th></th>\n      <th>文物编号</th>\n      <th>纹饰</th>\n      <th>类型</th>\n      <th>颜色</th>\n      <th>表面风化</th>\n      <th>文物采样点</th>\n      <th>二氧化硅(SiO2)</th>\n      <th>氧化钠(Na2O)</th>\n      <th>氧化钾(K2O)</th>\n      <th>氧化钙(CaO)</th>\n      <th>氧化镁(MgO)</th>\n      <th>氧化铝(Al2O3)</th>\n      <th>氧化铁(Fe2O3)</th>\n      <th>氧化铜(CuO)</th>\n      <th>氧化铅(PbO)</th>\n      <th>氧化钡(BaO)</th>\n      <th>五氧化二磷(P2O5)</th>\n      <th>氧化锶(SrO)</th>\n      <th>氧化锡(SnO2)</th>\n      <th>二氧化硫(SO2)</th>\n    </tr>\n  </thead>\n  <tbody>\n    <tr>\n      <th>0</th>\n      <td>1.0</td>\n      <td>C</td>\n      <td>高钾</td>\n      <td>蓝绿</td>\n      <td>无风化</td>\n      <td>01</td>\n      <td>69.33</td>\n      <td>0.0</td>\n      <td>9.99</td>\n      <td>6.32</td>\n      <td>0.87</td>\n      <td>3.93</td>\n      <td>1.74</td>\n      <td>3.87</td>\n      <td>0.00</td>\n      <td>0.00</td>\n      <td>1.17</td>\n      <td>0.00</td>\n      <td>0.0</td>\n      <td>0.39</td>\n    </tr>\n    <tr>\n      <th>1</th>\n      <td>2.0</td>\n      <td>A</td>\n      <td>铅钡</td>\n      <td>浅蓝</td>\n      <td>风化</td>\n      <td>02</td>\n      <td>36.28</td>\n      <td>0.0</td>\n      <td>1.05</td>\n      <td>2.34</td>\n      <td>1.18</td>\n      <td>5.73</td>\n      <td>1.86</td>\n      <td>0.26</td>\n      <td>47.43</td>\n      <td>0.00</td>\n      <td>3.57</td>\n      <td>0.19</td>\n      <td>0.0</td>\n      <td>0.00</td>\n    </tr>\n    <tr>\n      <th>2</th>\n      <td>3.0</td>\n      <td>A</td>\n      <td>高钾</td>\n      <td>蓝绿</td>\n      <td>无风化</td>\n      <td>03</td>\n      <td>87.05</td>\n      <td>0.0</td>\n      <td>5.19</td>\n      <td>2.01</td>\n      <td>0.00</td>\n      <td>4.06</td>\n      <td>0.00</td>\n      <td>0.78</td>\n      <td>0.25</td>\n      <td>0.00</td>\n      <td>0.66</td>\n      <td>0.00</td>\n      <td>0.0</td>\n      <td>0.00</td>\n    </tr>\n    <tr>\n      <th>3</th>\n      <td>4.0</td>\n      <td>A</td>\n      <td>高钾</td>\n      <td>蓝绿</td>\n      <td>无风化</td>\n      <td>03</td>\n      <td>61.71</td>\n      <td>0.0</td>\n      <td>12.37</td>\n      <td>5.87</td>\n      <td>1.11</td>\n      <td>5.50</td>\n      <td>2.16</td>\n      <td>5.09</td>\n      <td>1.41</td>\n      <td>2.86</td>\n      <td>0.70</td>\n      <td>0.10</td>\n      <td>0.0</td>\n      <td>0.00</td>\n    </tr>\n    <tr>\n      <th>4</th>\n      <td>5.0</td>\n      <td>A</td>\n      <td>高钾</td>\n      <td>蓝绿</td>\n      <td>无风化</td>\n      <td>04</td>\n      <td>65.88</td>\n      <td>0.0</td>\n      <td>9.67</td>\n      <td>7.12</td>\n      <td>1.56</td>\n      <td>6.44</td>\n      <td>2.06</td>\n      <td>2.18</td>\n      <td>0.00</td>\n      <td>0.00</td>\n      <td>0.79</td>\n      <td>0.00</td>\n      <td>0.0</td>\n      <td>0.36</td>\n    </tr>\n  </tbody>\n</table>\n</div>"
     },
     "execution_count": 51,
     "metadata": {},
     "output_type": "execute_result"
    }
   ],
   "source": [
    "# 将表单1与表单2联合，以便后续分析。为减少难度，表单2中的文物采样点只考虑编号，不考虑状态，如“42未风化点1”视为42，“43部位1”视为43。\n",
    "# your code\n",
    "data2['文物采样点'] = data2['文物采样点'].apply(lambda x: x[:2])\n",
    "df = pd.concat([data1, data2], axis=1)\n",
    "df.head(5)"
   ]
  },
  {
   "cell_type": "markdown",
   "metadata": {},
   "source": [
    "- [一小时实践入门 Graphviz](https://zhuanlan.zhihu.com/p/644358139)"
   ]
  },
  {
   "cell_type": "code",
   "execution_count": null,
   "outputs": [],
   "source": [
    "df['类型'] = df['类型'].apply(lambda x: 1 if x == '高钾' else 2 if x == '铅钡' else 0)"
   ],
   "metadata": {
    "collapsed": false
   }
  },
  {
   "cell_type": "code",
   "execution_count": 40,
   "metadata": {
    "ExecuteTime": {
     "end_time": "2023-11-23T17:27:05.477449900Z",
     "start_time": "2023-11-23T17:27:05.394000500Z"
    }
   },
   "outputs": [
    {
     "data": {
      "text/plain": "DecisionTreeClassifier()",
      "text/html": "<style>#sk-container-id-1 {color: black;background-color: white;}#sk-container-id-1 pre{padding: 0;}#sk-container-id-1 div.sk-toggleable {background-color: white;}#sk-container-id-1 label.sk-toggleable__label {cursor: pointer;display: block;width: 100%;margin-bottom: 0;padding: 0.3em;box-sizing: border-box;text-align: center;}#sk-container-id-1 label.sk-toggleable__label-arrow:before {content: \"▸\";float: left;margin-right: 0.25em;color: #696969;}#sk-container-id-1 label.sk-toggleable__label-arrow:hover:before {color: black;}#sk-container-id-1 div.sk-estimator:hover label.sk-toggleable__label-arrow:before {color: black;}#sk-container-id-1 div.sk-toggleable__content {max-height: 0;max-width: 0;overflow: hidden;text-align: left;background-color: #f0f8ff;}#sk-container-id-1 div.sk-toggleable__content pre {margin: 0.2em;color: black;border-radius: 0.25em;background-color: #f0f8ff;}#sk-container-id-1 input.sk-toggleable__control:checked~div.sk-toggleable__content {max-height: 200px;max-width: 100%;overflow: auto;}#sk-container-id-1 input.sk-toggleable__control:checked~label.sk-toggleable__label-arrow:before {content: \"▾\";}#sk-container-id-1 div.sk-estimator input.sk-toggleable__control:checked~label.sk-toggleable__label {background-color: #d4ebff;}#sk-container-id-1 div.sk-label input.sk-toggleable__control:checked~label.sk-toggleable__label {background-color: #d4ebff;}#sk-container-id-1 input.sk-hidden--visually {border: 0;clip: rect(1px 1px 1px 1px);clip: rect(1px, 1px, 1px, 1px);height: 1px;margin: -1px;overflow: hidden;padding: 0;position: absolute;width: 1px;}#sk-container-id-1 div.sk-estimator {font-family: monospace;background-color: #f0f8ff;border: 1px dotted black;border-radius: 0.25em;box-sizing: border-box;margin-bottom: 0.5em;}#sk-container-id-1 div.sk-estimator:hover {background-color: #d4ebff;}#sk-container-id-1 div.sk-parallel-item::after {content: \"\";width: 100%;border-bottom: 1px solid gray;flex-grow: 1;}#sk-container-id-1 div.sk-label:hover label.sk-toggleable__label {background-color: #d4ebff;}#sk-container-id-1 div.sk-serial::before {content: \"\";position: absolute;border-left: 1px solid gray;box-sizing: border-box;top: 0;bottom: 0;left: 50%;z-index: 0;}#sk-container-id-1 div.sk-serial {display: flex;flex-direction: column;align-items: center;background-color: white;padding-right: 0.2em;padding-left: 0.2em;position: relative;}#sk-container-id-1 div.sk-item {position: relative;z-index: 1;}#sk-container-id-1 div.sk-parallel {display: flex;align-items: stretch;justify-content: center;background-color: white;position: relative;}#sk-container-id-1 div.sk-item::before, #sk-container-id-1 div.sk-parallel-item::before {content: \"\";position: absolute;border-left: 1px solid gray;box-sizing: border-box;top: 0;bottom: 0;left: 50%;z-index: -1;}#sk-container-id-1 div.sk-parallel-item {display: flex;flex-direction: column;z-index: 1;position: relative;background-color: white;}#sk-container-id-1 div.sk-parallel-item:first-child::after {align-self: flex-end;width: 50%;}#sk-container-id-1 div.sk-parallel-item:last-child::after {align-self: flex-start;width: 50%;}#sk-container-id-1 div.sk-parallel-item:only-child::after {width: 0;}#sk-container-id-1 div.sk-dashed-wrapped {border: 1px dashed gray;margin: 0 0.4em 0.5em 0.4em;box-sizing: border-box;padding-bottom: 0.4em;background-color: white;}#sk-container-id-1 div.sk-label label {font-family: monospace;font-weight: bold;display: inline-block;line-height: 1.2em;}#sk-container-id-1 div.sk-label-container {text-align: center;}#sk-container-id-1 div.sk-container {/* jupyter's `normalize.less` sets `[hidden] { display: none; }` but bootstrap.min.css set `[hidden] { display: none !important; }` so we also need the `!important` here to be able to override the default hidden behavior on the sphinx rendered scikit-learn.org. See: https://github.com/scikit-learn/scikit-learn/issues/21755 */display: inline-block !important;position: relative;}#sk-container-id-1 div.sk-text-repr-fallback {display: none;}</style><div id=\"sk-container-id-1\" class=\"sk-top-container\"><div class=\"sk-text-repr-fallback\"><pre>DecisionTreeClassifier()</pre><b>In a Jupyter environment, please rerun this cell to show the HTML representation or trust the notebook. <br />On GitHub, the HTML representation is unable to render, please try loading this page with nbviewer.org.</b></div><div class=\"sk-container\" hidden><div class=\"sk-item\"><div class=\"sk-estimator sk-toggleable\"><input class=\"sk-toggleable__control sk-hidden--visually\" id=\"sk-estimator-id-1\" type=\"checkbox\" checked><label for=\"sk-estimator-id-1\" class=\"sk-toggleable__label sk-toggleable__label-arrow\">DecisionTreeClassifier</label><div class=\"sk-toggleable__content\"><pre>DecisionTreeClassifier()</pre></div></div></div></div></div>"
     },
     "execution_count": 40,
     "metadata": {},
     "output_type": "execute_result"
    }
   ],
   "source": [
    "import graphviz\n",
    "\n",
    "# 选取各个化学成分作为决策特征\n",
    "c = ['二氧化硅(SiO2)', '氧化钠(Na2O)',\n",
    "     '氧化钾(K2O)', '氧化钙(CaO)', '氧化镁(MgO)', '氧化铝(Al2O3)', '氧化铁(Fe2O3)',\n",
    "     '氧化铜(CuO)', '氧化铅(PbO)', '氧化钡(BaO)', '五氧化二磷(P2O5)', '氧化锶(SrO)',\n",
    "     '氧化锡(SnO2)', '二氧化硫(SO2)']\n",
    "\n",
    "# 导入graphviz包，实例化决策树模型，并将表中的每种化学成分输入作为决策特征，将玻璃的类型作为分类特征输入决策树中，并利用graphviz进行可视化\n",
    "# your code\n",
    "\n",
    "# 实例化\n",
    "clf = tree.DecisionTreeClassifier()\n",
    "# 训练\n",
    "clf.fit(df[c], df['类型'])"
   ]
  },
  {
   "cell_type": "code",
   "execution_count": 46,
   "outputs": [
    {
     "data": {
      "text/plain": "[Text(0.6086956521739131, 0.21428571428571427, 'x[9] <= 9.215\\ngini = 0.5\\nsamples = 2\\nvalue = [1, 0, 1]'),\n Text(0.5652173913043478, 0.07142857142857142, 'gini = 0.0\\nsamples = 1\\nvalue = [1, 0, 0]'),\n Text(0.6521739130434783, 0.07142857142857142, 'gini = 0.0\\nsamples = 1\\nvalue = [0, 0, 1]'),\n Text(0.7391304347826086, 0.35714285714285715, 'x[10] <= 2.19\\ngini = 0.444\\nsamples = 3\\nvalue = [2, 1, 0]'),\n Text(0.6956521739130435, 0.21428571428571427, 'gini = 0.0\\nsamples = 1\\nvalue = [0, 1, 0]'),\n Text(0.782608695652174, 0.21428571428571427, 'gini = 0.0\\nsamples = 2\\nvalue = [2, 0, 0]'),\n Text(0.9130434782608695, 0.6428571428571429, 'x[10] <= 6.045\\ngini = 0.204\\nsamples = 26\\nvalue = [3, 0, 23]'),\n Text(0.8695652173913043, 0.5, 'x[1] <= 2.685\\ngini = 0.147\\nsamples = 25\\nvalue = [2, 0, 23]'),\n Text(0.8260869565217391, 0.35714285714285715, 'gini = 0.0\\nsamples = 18\\nvalue = [0, 0, 18]'),\n Text(0.9130434782608695, 0.35714285714285715, 'x[1] <= 3.05\\ngini = 0.408\\nsamples = 7\\nvalue = [2, 0, 5]'),\n Text(0.8695652173913043, 0.21428571428571427, 'gini = 0.0\\nsamples = 2\\nvalue = [2, 0, 0]'),\n Text(0.9565217391304348, 0.21428571428571427, 'gini = 0.0\\nsamples = 5\\nvalue = [0, 0, 5]'),\n Text(0.9565217391304348, 0.5, 'gini = 0.0\\nsamples = 1\\nvalue = [1, 0, 0]')]"
     },
     "execution_count": 46,
     "metadata": {},
     "output_type": "execute_result"
    },
    {
     "data": {
      "text/plain": "<Figure size 640x480 with 1 Axes>",
      "image/png": "[encoded data removed]"
     },
     "metadata": {},
     "output_type": "display_data"
    }
   ],
   "source": [
    "# 可视化\n",
    "dot_data = tree.export_graphviz(clf, out_file=None,\n",
    "                                feature_names=c,\n",
    "                                class_names=['1', '2', '3', '4', '5', '6', '7', '8', '9', '10', '11', '12', '13', '14'],\n",
    "                                filled=True, rounded=True,\n",
    "                                special_characters=True)\n",
    "graph = graphviz.Source(dot_data)\n",
    "graph"
   ],
   "metadata": {
    "collapsed": false,
    "ExecuteTime": {
     "end_time": "2023-11-23T17:34:45.278317600Z",
     "start_time": "2023-11-23T17:34:44.636670400Z"
    }
   }
  },
  {
   "cell_type": "markdown",
   "metadata": {},
   "source": [
    "# SVM"
   ]
  },
  {
   "cell_type": "code",
   "execution_count": 58,
   "metadata": {
    "ExecuteTime": {
     "end_time": "2023-11-23T17:46:31.718297300Z",
     "start_time": "2023-11-23T17:46:31.615220700Z"
    }
   },
   "outputs": [
    {
     "data": {
      "text/plain": "   文物编号 纹饰  类型  颜色 表面风化 文物采样点  二氧化硅(SiO2)  氧化钠(Na2O)  氧化钾(K2O)  氧化钙(CaO)  \\\n0   1.0  C   1  蓝绿  无风化    01       69.33        0.0      9.99      6.32   \n1   2.0  A   2  浅蓝   风化    02       36.28        0.0      1.05      2.34   \n2   3.0  A   1  蓝绿  无风化    03       87.05        0.0      5.19      2.01   \n3   4.0  A   1  蓝绿  无风化    03       61.71        0.0     12.37      5.87   \n4   5.0  A   1  蓝绿  无风化    04       65.88        0.0      9.67      7.12   \n\n   氧化镁(MgO)  氧化铝(Al2O3)  氧化铁(Fe2O3)  氧化铜(CuO)  氧化铅(PbO)  氧化钡(BaO)  \\\n0      0.87        3.93        1.74      3.87      0.00      0.00   \n1      1.18        5.73        1.86      0.26     47.43      0.00   \n2      0.00        4.06        0.00      0.78      0.25      0.00   \n3      1.11        5.50        2.16      5.09      1.41      2.86   \n4      1.56        6.44        2.06      2.18      0.00      0.00   \n\n   五氧化二磷(P2O5)  氧化锶(SrO)  氧化锡(SnO2)  二氧化硫(SO2)  \n0         1.17      0.00        0.0       0.39  \n1         3.57      0.19        0.0       0.00  \n2         0.66      0.00        0.0       0.00  \n3         0.70      0.10        0.0       0.00  \n4         0.79      0.00        0.0       0.36  ",
      "text/html": "<div>\n<style scoped>\n    .dataframe tbody tr th:only-of-type {\n        vertical-align: middle;\n    }\n\n    .dataframe tbody tr th {\n        vertical-align: top;\n    }\n\n    .dataframe thead th {\n        text-align: right;\n    }\n</style>\n<table border=\"1\" class=\"dataframe\">\n  <thead>\n    <tr style=\"text-align: right;\">\n      <th></th>\n      <th>文物编号</th>\n      <th>纹饰</th>\n      <th>类型</th>\n      <th>颜色</th>\n      <th>表面风化</th>\n      <th>文物采样点</th>\n      <th>二氧化硅(SiO2)</th>\n      <th>氧化钠(Na2O)</th>\n      <th>氧化钾(K2O)</th>\n      <th>氧化钙(CaO)</th>\n      <th>氧化镁(MgO)</th>\n      <th>氧化铝(Al2O3)</th>\n      <th>氧化铁(Fe2O3)</th>\n      <th>氧化铜(CuO)</th>\n      <th>氧化铅(PbO)</th>\n      <th>氧化钡(BaO)</th>\n      <th>五氧化二磷(P2O5)</th>\n      <th>氧化锶(SrO)</th>\n      <th>氧化锡(SnO2)</th>\n      <th>二氧化硫(SO2)</th>\n    </tr>\n  </thead>\n  <tbody>\n    <tr>\n      <th>0</th>\n      <td>1.0</td>\n      <td>C</td>\n      <td>1</td>\n      <td>蓝绿</td>\n      <td>无风化</td>\n      <td>01</td>\n      <td>69.33</td>\n      <td>0.0</td>\n      <td>9.99</td>\n      <td>6.32</td>\n      <td>0.87</td>\n      <td>3.93</td>\n      <td>1.74</td>\n      <td>3.87</td>\n      <td>0.00</td>\n      <td>0.00</td>\n      <td>1.17</td>\n      <td>0.00</td>\n      <td>0.0</td>\n      <td>0.39</td>\n    </tr>\n    <tr>\n      <th>1</th>\n      <td>2.0</td>\n      <td>A</td>\n      <td>2</td>\n      <td>浅蓝</td>\n      <td>风化</td>\n      <td>02</td>\n      <td>36.28</td>\n      <td>0.0</td>\n      <td>1.05</td>\n      <td>2.34</td>\n      <td>1.18</td>\n      <td>5.73</td>\n      <td>1.86</td>\n      <td>0.26</td>\n      <td>47.43</td>\n      <td>0.00</td>\n      <td>3.57</td>\n      <td>0.19</td>\n      <td>0.0</td>\n      <td>0.00</td>\n    </tr>\n    <tr>\n      <th>2</th>\n      <td>3.0</td>\n      <td>A</td>\n      <td>1</td>\n      <td>蓝绿</td>\n      <td>无风化</td>\n      <td>03</td>\n      <td>87.05</td>\n      <td>0.0</td>\n      <td>5.19</td>\n      <td>2.01</td>\n      <td>0.00</td>\n      <td>4.06</td>\n      <td>0.00</td>\n      <td>0.78</td>\n      <td>0.25</td>\n      <td>0.00</td>\n      <td>0.66</td>\n      <td>0.00</td>\n      <td>0.0</td>\n      <td>0.00</td>\n    </tr>\n    <tr>\n      <th>3</th>\n      <td>4.0</td>\n      <td>A</td>\n      <td>1</td>\n      <td>蓝绿</td>\n      <td>无风化</td>\n      <td>03</td>\n      <td>61.71</td>\n      <td>0.0</td>\n      <td>12.37</td>\n      <td>5.87</td>\n      <td>1.11</td>\n      <td>5.50</td>\n      <td>2.16</td>\n      <td>5.09</td>\n      <td>1.41</td>\n      <td>2.86</td>\n      <td>0.70</td>\n      <td>0.10</td>\n      <td>0.0</td>\n      <td>0.00</td>\n    </tr>\n    <tr>\n      <th>4</th>\n      <td>5.0</td>\n      <td>A</td>\n      <td>1</td>\n      <td>蓝绿</td>\n      <td>无风化</td>\n      <td>04</td>\n      <td>65.88</td>\n      <td>0.0</td>\n      <td>9.67</td>\n      <td>7.12</td>\n      <td>1.56</td>\n      <td>6.44</td>\n      <td>2.06</td>\n      <td>2.18</td>\n      <td>0.00</td>\n      <td>0.00</td>\n      <td>0.79</td>\n      <td>0.00</td>\n      <td>0.0</td>\n      <td>0.36</td>\n    </tr>\n  </tbody>\n</table>\n</div>"
     },
     "execution_count": 58,
     "metadata": {},
     "output_type": "execute_result"
    }
   ],
   "source": [
    "# 为减少难度，去除表单2中采样点未风化的数据，并将两个表单做联合 质疑: 去除之后都没有两个类别了\n",
    "# your code \n",
    "df.head(5)"
   ]
  },
  {
   "cell_type": "code",
   "execution_count": 57,
   "outputs": [
    {
     "data": {
      "text/plain": "SVC()",
      "text/html": "<style>#sk-container-id-2 {color: black;background-color: white;}#sk-container-id-2 pre{padding: 0;}#sk-container-id-2 div.sk-toggleable {background-color: white;}#sk-container-id-2 label.sk-toggleable__label {cursor: pointer;display: block;width: 100%;margin-bottom: 0;padding: 0.3em;box-sizing: border-box;text-align: center;}#sk-container-id-2 label.sk-toggleable__label-arrow:before {content: \"▸\";float: left;margin-right: 0.25em;color: #696969;}#sk-container-id-2 label.sk-toggleable__label-arrow:hover:before {color: black;}#sk-container-id-2 div.sk-estimator:hover label.sk-toggleable__label-arrow:before {color: black;}#sk-container-id-2 div.sk-toggleable__content {max-height: 0;max-width: 0;overflow: hidden;text-align: left;background-color: #f0f8ff;}#sk-container-id-2 div.sk-toggleable__content pre {margin: 0.2em;color: black;border-radius: 0.25em;background-color: #f0f8ff;}#sk-container-id-2 input.sk-toggleable__control:checked~div.sk-toggleable__content {max-height: 200px;max-width: 100%;overflow: auto;}#sk-container-id-2 input.sk-toggleable__control:checked~label.sk-toggleable__label-arrow:before {content: \"▾\";}#sk-container-id-2 div.sk-estimator input.sk-toggleable__control:checked~label.sk-toggleable__label {background-color: #d4ebff;}#sk-container-id-2 div.sk-label input.sk-toggleable__control:checked~label.sk-toggleable__label {background-color: #d4ebff;}#sk-container-id-2 input.sk-hidden--visually {border: 0;clip: rect(1px 1px 1px 1px);clip: rect(1px, 1px, 1px, 1px);height: 1px;margin: -1px;overflow: hidden;padding: 0;position: absolute;width: 1px;}#sk-container-id-2 div.sk-estimator {font-family: monospace;background-color: #f0f8ff;border: 1px dotted black;border-radius: 0.25em;box-sizing: border-box;margin-bottom: 0.5em;}#sk-container-id-2 div.sk-estimator:hover {background-color: #d4ebff;}#sk-container-id-2 div.sk-parallel-item::after {content: \"\";width: 100%;border-bottom: 1px solid gray;flex-grow: 1;}#sk-container-id-2 div.sk-label:hover label.sk-toggleable__label {background-color: #d4ebff;}#sk-container-id-2 div.sk-serial::before {content: \"\";position: absolute;border-left: 1px solid gray;box-sizing: border-box;top: 0;bottom: 0;left: 50%;z-index: 0;}#sk-container-id-2 div.sk-serial {display: flex;flex-direction: column;align-items: center;background-color: white;padding-right: 0.2em;padding-left: 0.2em;position: relative;}#sk-container-id-2 div.sk-item {position: relative;z-index: 1;}#sk-container-id-2 div.sk-parallel {display: flex;align-items: stretch;justify-content: center;background-color: white;position: relative;}#sk-container-id-2 div.sk-item::before, #sk-container-id-2 div.sk-parallel-item::before {content: \"\";position: absolute;border-left: 1px solid gray;box-sizing: border-box;top: 0;bottom: 0;left: 50%;z-index: -1;}#sk-container-id-2 div.sk-parallel-item {display: flex;flex-direction: column;z-index: 1;position: relative;background-color: white;}#sk-container-id-2 div.sk-parallel-item:first-child::after {align-self: flex-end;width: 50%;}#sk-container-id-2 div.sk-parallel-item:last-child::after {align-self: flex-start;width: 50%;}#sk-container-id-2 div.sk-parallel-item:only-child::after {width: 0;}#sk-container-id-2 div.sk-dashed-wrapped {border: 1px dashed gray;margin: 0 0.4em 0.5em 0.4em;box-sizing: border-box;padding-bottom: 0.4em;background-color: white;}#sk-container-id-2 div.sk-label label {font-family: monospace;font-weight: bold;display: inline-block;line-height: 1.2em;}#sk-container-id-2 div.sk-label-container {text-align: center;}#sk-container-id-2 div.sk-container {/* jupyter's `normalize.less` sets `[hidden] { display: none; }` but bootstrap.min.css set `[hidden] { display: none !important; }` so we also need the `!important` here to be able to override the default hidden behavior on the sphinx rendered scikit-learn.org. See: https://github.com/scikit-learn/scikit-learn/issues/21755 */display: inline-block !important;position: relative;}#sk-container-id-2 div.sk-text-repr-fallback {display: none;}</style><div id=\"sk-container-id-2\" class=\"sk-top-container\"><div class=\"sk-text-repr-fallback\"><pre>SVC()</pre><b>In a Jupyter environment, please rerun this cell to show the HTML representation or trust the notebook. <br />On GitHub, the HTML representation is unable to render, please try loading this page with nbviewer.org.</b></div><div class=\"sk-container\" hidden><div class=\"sk-item\"><div class=\"sk-estimator sk-toggleable\"><input class=\"sk-toggleable__control sk-hidden--visually\" id=\"sk-estimator-id-2\" type=\"checkbox\" checked><label for=\"sk-estimator-id-2\" class=\"sk-toggleable__label sk-toggleable__label-arrow\">SVC</label><div class=\"sk-toggleable__content\"><pre>SVC()</pre></div></div></div></div></div>"
     },
     "execution_count": 57,
     "metadata": {},
     "output_type": "execute_result"
    }
   ],
   "source": [
    "from sklearn.svm import SVC\n",
    "\n",
    "# 导入SVM包，实列化SVM模型并对数据进行训练。\n",
    "# df为上一步中联合后的数据[请根据实际处理过程修改]，取前30个数据为训练集，其余数据为测试集\n",
    "train = df[:30]\n",
    "test = df[30:]\n",
    "# 训练模型，其中各化学成分为训练特征，文物是否风化为分类特征，并输出训练分数\n",
    "# your code\n",
    "clf = SVC()\n",
    "clf.fit(train[c], train['表面风化'])  # x是特征，y是标签"
   ],
   "metadata": {
    "collapsed": false,
    "ExecuteTime": {
     "end_time": "2023-11-23T17:44:40.606975Z",
     "start_time": "2023-11-23T17:44:40.547483400Z"
    }
   }
  },
  {
   "cell_type": "code",
   "execution_count": 59,
   "metadata": {
    "ExecuteTime": {
     "end_time": "2023-11-23T17:46:52.764954300Z",
     "start_time": "2023-11-23T17:46:52.743819900Z"
    }
   },
   "outputs": [
    {
     "data": {
      "text/plain": "0.7333333333333333"
     },
     "execution_count": 59,
     "metadata": {},
     "output_type": "execute_result"
    }
   ],
   "source": [
    "from sklearn.svm import SVC\n",
    "\n",
    "# 导入SVM包，实列化SVM模型并对数据进行训练。\n",
    "# df为上一步中联合后的数据[请根据实际处理过程修改]，取前30个数据为训练集，其余数据为测试集\n",
    "train = df[:30]\n",
    "test = df[30:]\n",
    "# 训练模型，其中各化学成分为训练特征，文物是否风化为分类特征，并输出训练分数\n",
    "# your code\n",
    "clf = SVC()\n",
    "clf.fit(train[c], train['表面风化'])\n",
    "clf.score(train[c], train['表面风化'])\n"
   ]
  },
  {
   "cell_type": "code",
   "execution_count": 60,
   "metadata": {
    "ExecuteTime": {
     "end_time": "2023-11-23T17:47:44.914206700Z",
     "start_time": "2023-11-23T17:47:44.862338Z"
    }
   },
   "outputs": [
    {
     "name": "stdout",
     "output_type": "stream",
     "text": [
      "预测为： ['无风化' '无风化' '无风化' '风化' '风化' '无风化' '无风化' '无风化' '风化' '风化' '风化' '风化' '风化'\n",
      " '风化' '风化' '风化' '风化' '风化' '风化' '风化' '无风化' '风化' '风化' '风化' '风化' '风化' '风化'\n",
      " '风化' '风化' '风化' '风化' '风化' '无风化' '风化' '风化' '风化' '风化' '风化' '风化']\n",
      "实际为： ['无风化', '无风化', '无风化', '风化', '无风化', '风化', '无风化', '风化', '风化', '风化', '风化', '风化', '风化', '风化', '无风化', '无风化', '无风化', '风化', '风化', '风化', '风化', '风化', '风化', '风化', '无风化', '风化', '风化', '风化', 0, 0, 0, 0, 0, 0, 0, 0, 0, 0, 0]\n"
     ]
    }
   ],
   "source": [
    "# 打印出测试集的实际标签与预测得出的标签\n",
    "# your code\n",
    "clf.predict(test[c])\n",
    "print(\"预测为：\", clf.predict(test[c]))\n",
    "print(\"实际为：\", list(test['表面风化']))"
   ]
  },
  {
   "cell_type": "markdown",
   "source": [
    "####  END by M7|YYC 2023/11/22"
   ],
   "metadata": {
    "collapsed": false
   }
  }
 ],
 "metadata": {
  "kernelspec": {
   "display_name": "seg",
   "language": "python",
   "name": "python3"
  },
  "language_info": {
   "codemirror_mode": {
    "name": "ipython",
    "version": 3
   },
   "file_extension": ".py",
   "mimetype": "text/x-python",
   "name": "python",
   "nbconvert_exporter": "python",
   "pygments_lexer": "ipython3",
   "version": "3.8.16"
  }
 },
 "nbformat": 4,
 "nbformat_minor": 2
}
