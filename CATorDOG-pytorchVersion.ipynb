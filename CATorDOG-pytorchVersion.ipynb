{
 "cells": [
  {
   "cell_type": "code",
   "execution_count": 1,
   "id": "initial_id",
   "metadata": {
    "collapsed": true,
    "ExecuteTime": {
     "end_time": "2023-11-03T05:25:12.068073200Z",
     "start_time": "2023-11-03T05:25:10.887915800Z"
    }
   },
   "outputs": [],
   "source": [
    "import torch\n",
    "import torch.nn as nn\n",
    "import cv2 as cv\n",
    "import numpy as np\n",
    "\n",
    "# PyTorch定义模型架构\n",
    "class CustomCNN(nn.Module):\n",
    "    def __init__(self):\n",
    "        super(CustomCNN, self).__init__()\n",
    "        self.conv1 = nn.Conv2d(3, 32, kernel_size=3) # 3通道输入，32个3x3卷积核\n",
    "        self.bn1 = nn.BatchNorm2d(32)\n",
    "        self.pool1 = nn.MaxPool2d(2)\n",
    "        self.drop1 = nn.Dropout(0.25)\n",
    "\n",
    "        self.conv2 = nn.Conv2d(32, 64, kernel_size=3) # 第二个卷积层，64个3x3卷积核\n",
    "        self.bn2 = nn.BatchNorm2d(64)\n",
    "        self.pool2 = nn.MaxPool2d(2)\n",
    "        self.drop2 = nn.Dropout(0.25)\n",
    "\n",
    "        self.conv3 = nn.Conv2d(64, 128, kernel_size=3) # 128个3x3卷积核\n",
    "        self.bn3 = nn.BatchNorm2d(128)\n",
    "        self.pool3 = nn.MaxPool2d(2)\n",
    "        self.drop3 = nn.Dropout(0.25)\n",
    "\n",
    "        self.fc1 = nn.Linear(128 * 14 * 14, 512) # 全连接层\n",
    "        self.bn4 = nn.BatchNorm1d(512)\n",
    "        self.drop4 = nn.Dropout(0.5)\n",
    "\n",
    "        self.fc2 = nn.Linear(512, 1) # 输出层\n",
    "\n",
    "    def forward(self, x):\n",
    "        x = self.drop1(self.pool1(self.bn1(torch.relu(self.conv1(x))))) # 卷积 -> 批标准化 -> 池化 -> dropout\n",
    "        x = self.drop2(self.pool2(self.bn2(torch.relu(self.conv2(x)))))\n",
    "        x = self.drop3(self.pool3(self.bn3(torch.relu(self.conv3(x)))))\n",
    "        x = x.view(-1, 128 * 14 * 14) # 全连接的一维展开罢\n",
    "        x = self.drop4(self.bn4(torch.relu(self.fc1(x)))) # 全连接层 -> 批标准化 -> dropout\n",
    "        x = torch.sigmoid(self.fc2(x)) # 甚至线性整流\n",
    "        return x"
   ]
  },
  {
   "cell_type": "code",
   "execution_count": 13,
   "outputs": [
    {
     "data": {
      "text/plain": "CustomCNN(\n  (conv1): Conv2d(3, 32, kernel_size=(3, 3), stride=(1, 1))\n  (bn1): BatchNorm2d(32, eps=1e-05, momentum=0.1, affine=True, track_running_stats=True)\n  (pool1): MaxPool2d(kernel_size=2, stride=2, padding=0, dilation=1, ceil_mode=False)\n  (drop1): Dropout(p=0.25, inplace=False)\n  (conv2): Conv2d(32, 64, kernel_size=(3, 3), stride=(1, 1))\n  (bn2): BatchNorm2d(64, eps=1e-05, momentum=0.1, affine=True, track_running_stats=True)\n  (pool2): MaxPool2d(kernel_size=2, stride=2, padding=0, dilation=1, ceil_mode=False)\n  (drop2): Dropout(p=0.25, inplace=False)\n  (conv3): Conv2d(64, 128, kernel_size=(3, 3), stride=(1, 1))\n  (bn3): BatchNorm2d(128, eps=1e-05, momentum=0.1, affine=True, track_running_stats=True)\n  (pool3): MaxPool2d(kernel_size=2, stride=2, padding=0, dilation=1, ceil_mode=False)\n  (drop3): Dropout(p=0.25, inplace=False)\n  (fc1): Linear(in_features=25088, out_features=512, bias=True)\n  (bn_fc1): BatchNorm1d(512, eps=1e-05, momentum=0.1, affine=True, track_running_stats=True)\n  (drop_fc1): Dropout(p=0.5, inplace=False)\n  (fc2): Linear(in_features=512, out_features=1, bias=True)\n)"
     },
     "execution_count": 13,
     "metadata": {},
     "output_type": "execute_result"
    }
   ],
   "source": [
    "# 加载模型信息\n",
    "model = CustomCNN()\n",
    "torch.save(model.state_dict(), 'model.pth')\n",
    "model.load_state_dict(torch.load('model.pth'))\n",
    "model.eval()"
   ],
   "metadata": {
    "collapsed": false,
    "ExecuteTime": {
     "end_time": "2023-11-03T06:58:20.819896900Z",
     "start_time": "2023-11-03T06:58:20.645344600Z"
    }
   },
   "id": "6879d63eea560ff2"
  },
  {
   "cell_type": "code",
   "execution_count": 14,
   "outputs": [
    {
     "data": {
      "text/plain": "-1"
     },
     "execution_count": 14,
     "metadata": {},
     "output_type": "execute_result"
    }
   ],
   "source": [
    "# 图像预处理\n",
    "def preprocess(x):\n",
    "    x = cv.resize(x, (128, 128))\n",
    "    x = np.transpose(x, (2, 0, 1)) / 255.0\n",
    "    x = np.expand_dims(x, axis=0)\n",
    "    x = torch.tensor(x, dtype=torch.float32)\n",
    "    return x\n",
    "\n",
    "# 读取并预处理图像\n",
    "image = cv.imread('images/dog2.jpg')\n",
    "img_resize = preprocess(image[:, :, ::-1])\n",
    "out = model(img_resize)\n",
    "class_id = int(out.item() > 0.5)\n",
    "class_names = ['猫', '狗'] # 自觉调编码\n",
    "class_name = class_names[class_id]\n",
    "\n",
    "# 在图像上显示预测结果\n",
    "cv.putText(image, class_name, (0, 20), cv.FONT_HERSHEY_SIMPLEX, 1, (0, 0, 255), thickness=2)\n",
    "cv.imshow('预测', image)\n",
    "cv.imwrite('predict.png', image)\n",
    "cv.waitKey(0)"
   ],
   "metadata": {
    "collapsed": false,
    "ExecuteTime": {
     "end_time": "2023-11-03T06:58:27.300251500Z",
     "start_time": "2023-11-03T06:58:24.077109100Z"
    }
   },
   "id": "c2db1baeceb60278"
  },
  {
   "cell_type": "code",
   "execution_count": 6,
   "outputs": [
    {
     "name": "stdout",
     "output_type": "stream",
     "text": [
      "Epoch 1, Loss: 1.249635543778678\n",
      "Epoch 2, Loss: 0.8421239944818978\n",
      "Epoch 3, Loss: 0.768222399543379\n",
      "Epoch 4, Loss: 0.7208112755389972\n",
      "Epoch 5, Loss: 0.6644473201899885\n",
      "Epoch 6, Loss: 0.6543850283199382\n",
      "Epoch 7, Loss: 0.6196669248219963\n",
      "Epoch 8, Loss: 0.595413797230364\n",
      "Epoch 9, Loss: 0.575311314279788\n",
      "Epoch 10, Loss: 0.5494419381579506\n",
      "Epoch 11, Loss: 0.5329742747768064\n",
      "Epoch 12, Loss: 0.5131324593708894\n",
      "Epoch 13, Loss: 0.46731138375596465\n",
      "Epoch 14, Loss: 0.43597401420925264\n",
      "Epoch 15, Loss: 0.4266467717624156\n",
      "Epoch 16, Loss: 0.37594242919689025\n",
      "Epoch 17, Loss: 0.3681285474275317\n",
      "Epoch 18, Loss: 0.3617083544137879\n",
      "Epoch 19, Loss: 0.3162472882247138\n",
      "Epoch 20, Loss: 0.2781508854877587\n",
      "Epoch 21, Loss: 0.2812399364590088\n",
      "Epoch 22, Loss: 0.2422544777950394\n",
      "Epoch 23, Loss: 0.24435442951986583\n",
      "Epoch 24, Loss: 0.24899856684833904\n",
      "Epoch 25, Loss: 0.2185312349928073\n",
      "Epoch 26, Loss: 0.22533284892136596\n",
      "Epoch 27, Loss: 0.23370025057517532\n",
      "Epoch 28, Loss: 0.19055231884187174\n",
      "Epoch 29, Loss: 0.19523866904603543\n",
      "Epoch 30, Loss: 0.21177627039838268\n",
      "Epoch 31, Loss: 0.1565002050728398\n",
      "Epoch 32, Loss: 0.20322169324249317\n",
      "Epoch 33, Loss: 0.22393533365505042\n",
      "Epoch 34, Loss: 0.16687679103609374\n",
      "Epoch 35, Loss: 0.1897571018350824\n",
      "Epoch 36, Loss: 0.17127326314819533\n",
      "Epoch 37, Loss: 0.20359463420441967\n",
      "Epoch 38, Loss: 0.2389199085137589\n",
      "Epoch 39, Loss: 0.14348588685073158\n",
      "Epoch 40, Loss: 0.15976353443258173\n",
      "Epoch 41, Loss: 0.18873893920368642\n",
      "Epoch 42, Loss: 0.1844455907570098\n",
      "Epoch 43, Loss: 0.17521399037310556\n",
      "Epoch 44, Loss: 0.22124037202273575\n",
      "Epoch 45, Loss: 0.135900595699759\n",
      "Epoch 46, Loss: 0.15089636734522505\n",
      "Epoch 47, Loss: 0.1837555023985855\n",
      "Epoch 48, Loss: 0.17432375874307232\n",
      "Epoch 49, Loss: 0.15083393759757718\n",
      "Epoch 50, Loss: 0.14363106123142372\n"
     ]
    }
   ],
   "source": [
    "import os\n",
    "import pandas as pd\n",
    "import torch\n",
    "import torch.nn as nn\n",
    "import torch.optim as optim\n",
    "from torchvision import transforms\n",
    "from torch.utils.data import Dataset, DataLoader\n",
    "from PIL import Image\n",
    "from sklearn.model_selection import train_test_split\n",
    "\n",
    "# 确保在GPU上进行训练（如果有可用的话）\n",
    "device = torch.device(\"cuda\" if torch.cuda.is_available() else \"cpu\")\n",
    "\n",
    "# 定义卷积神经网络模型\n",
    "class CustomCNN(nn.Module):\n",
    "    def __init__(self):\n",
    "        super(CustomCNN, self).__init__()\n",
    "        self.conv1 = nn.Conv2d(3, 32, kernel_size=3)\n",
    "        self.bn1 = nn.BatchNorm2d(32)\n",
    "        self.pool1 = nn.MaxPool2d(2)\n",
    "        self.drop1 = nn.Dropout(0.25)\n",
    "\n",
    "        self.conv2 = nn.Conv2d(32, 64, kernel_size=3)\n",
    "        self.bn2 = nn.BatchNorm2d(64)\n",
    "        self.pool2 = nn.MaxPool2d(2)\n",
    "        self.drop2 = nn.Dropout(0.25)\n",
    "\n",
    "        self.conv3 = nn.Conv2d(64, 128, kernel_size=3)\n",
    "        self.bn3 = nn.BatchNorm2d(128)\n",
    "        self.pool3 = nn.MaxPool2d(2)\n",
    "        self.drop3 = nn.Dropout(0.25)\n",
    "\n",
    "        self.fc1 = nn.Linear(128 * 14 * 14, 512)\n",
    "        self.bn_fc1 = nn.BatchNorm1d(512)\n",
    "        self.drop_fc1 = nn.Dropout(0.5)\n",
    "\n",
    "        self.fc2 = nn.Linear(512, 1)\n",
    "\n",
    "    def forward(self, x):\n",
    "        x = self.drop1(self.pool1(self.bn1(nn.ReLU()(self.conv1(x)))))\n",
    "        x = self.drop2(self.pool2(self.bn2(nn.ReLU()(self.conv2(x)))))\n",
    "        x = self.drop3(self.pool3(self.bn3(nn.ReLU()(self.conv3(x)))))\n",
    "        x = x.view(-1, 128 * 14 * 14)\n",
    "        x = self.drop_fc1(self.bn_fc1(nn.ReLU()(self.fc1(x))))\n",
    "        x = self.fc2(x)\n",
    "        return x\n",
    "\n",
    "# 创建自定义数据集\n",
    "class CustomDataset(Dataset):\n",
    "    def __init__(self, df, root_dir, transform=None):\n",
    "        self.df = df\n",
    "        self.root_dir = root_dir\n",
    "        self.transform = transform\n",
    "\n",
    "    def __len__(self):\n",
    "        return len(self.df)\n",
    "\n",
    "    def __getitem__(self, idx):\n",
    "        img_name = os.path.join(self.root_dir, self.df.iloc[idx, 0])\n",
    "        image = Image.open(img_name)\n",
    "        label = torch.tensor(self.df.iloc[idx, 1], dtype=torch.float32)\n",
    "\n",
    "        if self.transform:\n",
    "            image = self.transform(image)\n",
    "\n",
    "        return image, label\n",
    "\n",
    "# 设定图像预处理转换\n",
    "transform = transforms.Compose([\n",
    "    transforms.Resize((128, 128)),\n",
    "    transforms.ToTensor(),\n",
    "])\n",
    "\n",
    "# 获取训练数据集文件名\n",
    "filenames = os.listdir(\"./input/train\")\n",
    "categories = []\n",
    "\n",
    "for filename in filenames:\n",
    "    category = filename.split('.')[0]\n",
    "    if category == 'dog':\n",
    "        categories.append(1)\n",
    "    else:\n",
    "        categories.append(0)\n",
    "\n",
    "df = pd.DataFrame({\n",
    "    'filename': filenames,\n",
    "    'category': categories\n",
    "})\n",
    "\n",
    "# 加载数据\n",
    "train_df, validate_df = train_test_split(df, test_size=0.20, random_state=42)\n",
    "train_data = CustomDataset(train_df, \"./input/train/\", transform=transform)\n",
    "train_loader = DataLoader(train_data, batch_size=15, shuffle=True)\n",
    "\n",
    "validate_data = CustomDataset(validate_df, \"./input/train/\", transform=transform)\n",
    "validate_loader = DataLoader(validate_data, batch_size=15, shuffle=False)\n",
    "\n",
    "# 初始化模型和优化器\n",
    "model = CustomCNN().to(device)\n",
    "criterion = nn.BCEWithLogitsLoss()\n",
    "optimizer = optim.RMSprop(model.parameters())\n",
    "\n",
    "# 训练模型\n",
    "FAST_RUN = False\n",
    "epochs = 3 if FAST_RUN else 50\n",
    "for epoch in range(epochs):\n",
    "    model.train()\n",
    "    running_loss = 0.0\n",
    "    for i, data in enumerate(train_loader):\n",
    "        inputs, labels = data[0].to(device), data[1].to(device)\n",
    "        optimizer.zero_grad()\n",
    "        outputs = model(inputs)\n",
    "        loss = criterion(outputs, labels.unsqueeze(1))\n",
    "        loss.backward()\n",
    "        optimizer.step()\n",
    "        running_loss += loss.item()\n",
    "\n",
    "    print(f\"Epoch {epoch+1}, Loss: {running_loss / len(train_loader)}\")\n",
    "\n",
    "# 保存模型\n",
    "torch.save(model.state_dict(), \"Mymodel.pth\")\n"
   ],
   "metadata": {
    "collapsed": false,
    "ExecuteTime": {
     "end_time": "2023-11-03T06:51:26.658179800Z",
     "start_time": "2023-11-03T05:50:22.461682900Z"
    }
   },
   "id": "ea9e7e5777d788bb"
  },
  {
   "cell_type": "code",
   "execution_count": 15,
   "outputs": [
    {
     "data": {
      "text/plain": "<All keys matched successfully>"
     },
     "execution_count": 15,
     "metadata": {},
     "output_type": "execute_result"
    }
   ],
   "source": [
    "model.load_state_dict(torch.load('Mymodel.pth'))"
   ],
   "metadata": {
    "collapsed": false,
    "ExecuteTime": {
     "end_time": "2023-11-03T06:58:49.625591100Z",
     "start_time": "2023-11-03T06:58:49.571035800Z"
    }
   },
   "id": "28d4b9d3fb5a2cfe"
  },
  {
   "cell_type": "code",
   "execution_count": 17,
   "outputs": [
    {
     "data": {
      "text/plain": "-1"
     },
     "execution_count": 17,
     "metadata": {},
     "output_type": "execute_result"
    }
   ],
   "source": [
    "def preprocess(x):\n",
    "    x = cv.resize(x, (128, 128))\n",
    "    x = np.transpose(x, (2, 0, 1)) / 255.0\n",
    "    x = np.expand_dims(x, axis=0)\n",
    "    x = torch.tensor(x, dtype=torch.float32)\n",
    "    return x\n",
    "\n",
    "# 读取并预处理图像\n",
    "image = cv.imread('images/dog2.jpg')\n",
    "img_resize = preprocess(image[:, :, ::-1])\n",
    "out = model(img_resize)\n",
    "class_id = int(out.item() > 0.5)\n",
    "class_names = ['cat', 'dog']\n",
    "class_name = class_names[class_id]\n",
    "\n",
    "# 在图像上显示预测结果\n",
    "cv.putText(image, class_name, (0, 20), cv.FONT_HERSHEY_SIMPLEX, 1, (0, 0, 255), thickness=2)\n",
    "cv.imshow('预测', image)\n",
    "cv.imwrite('predict.png', image)\n",
    "cv.waitKey(0)"
   ],
   "metadata": {
    "collapsed": false,
    "ExecuteTime": {
     "end_time": "2023-11-03T06:59:41.412983900Z",
     "start_time": "2023-11-03T06:59:25.812688200Z"
    }
   },
   "id": "6a76608c8d4883e7"
  }
 ],
 "metadata": {
  "kernelspec": {
   "display_name": "Python 3",
   "language": "python",
   "name": "python3"
  },
  "language_info": {
   "codemirror_mode": {
    "name": "ipython",
    "version": 2
   },
   "file_extension": ".py",
   "mimetype": "text/x-python",
   "name": "python",
   "nbconvert_exporter": "python",
   "pygments_lexer": "ipython2",
   "version": "2.7.6"
  }
 },
 "nbformat": 4,
 "nbformat_minor": 5
}
