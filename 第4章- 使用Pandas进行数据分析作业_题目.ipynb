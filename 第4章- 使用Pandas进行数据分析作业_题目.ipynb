{
 "cells": [
  {
   "cell_type": "markdown",
   "metadata": {},
   "source": [
    "# Pandas exercise（30个）\n",
    "\n",
    "\n",
    "\n",
    "#### 作业提交方式\n",
    "在线提交，每位同学请在本notebook文件命名前加自己的学号-姓名 。只需提交notebook文件，数据文件不用提交。如果由于未正确遵循这些指示而无法访问您的作业，则不会对您的作业进行评分。\n",
    "\n",
    "---"
   ]
  },
  {
   "cell_type": "code",
   "execution_count": 2,
   "metadata": {
    "ExecuteTime": {
     "end_time": "2023-10-06T17:46:22.910674800Z",
     "start_time": "2023-10-06T17:46:22.301954300Z"
    }
   },
   "outputs": [],
   "source": [
    "import pandas as pd"
   ]
  },
  {
   "cell_type": "markdown",
   "metadata": {},
   "source": [
    "### Step 1.从目录下加载数据文件chipotle.tsv. 导入数据集，读取数据并存为一个名叫chipo的数据框，显示前六行数据"
   ]
  },
  {
   "cell_type": "code",
   "execution_count": 3,
   "metadata": {
    "ExecuteTime": {
     "end_time": "2023-10-06T17:46:25.373239800Z",
     "start_time": "2023-10-06T17:46:25.269718900Z"
    }
   },
   "outputs": [
    {
     "data": {
      "text/plain": "   order_id  quantity                              item_name  \\\n0         1         1           Chips and Fresh Tomato Salsa   \n1         1         1                                   Izze   \n2         1         1                       Nantucket Nectar   \n3         1         1  Chips and Tomatillo-Green Chili Salsa   \n4         2         2                           Chicken Bowl   \n5         3         1                           Chicken Bowl   \n\n                                  choice_description item_price  \n0                                                NaN     $2.39   \n1                                       [Clementine]     $3.39   \n2                                            [Apple]     $3.39   \n3                                                NaN     $2.39   \n4  [Tomatillo-Red Chili Salsa (Hot), [Black Beans...    $16.98   \n5  [Fresh Tomato Salsa (Mild), [Rice, Cheese, Sou...    $10.98   ",
      "text/html": "<div>\n<style scoped>\n    .dataframe tbody tr th:only-of-type {\n        vertical-align: middle;\n    }\n\n    .dataframe tbody tr th {\n        vertical-align: top;\n    }\n\n    .dataframe thead th {\n        text-align: right;\n    }\n</style>\n<table border=\"1\" class=\"dataframe\">\n  <thead>\n    <tr style=\"text-align: right;\">\n      <th></th>\n      <th>order_id</th>\n      <th>quantity</th>\n      <th>item_name</th>\n      <th>choice_description</th>\n      <th>item_price</th>\n    </tr>\n  </thead>\n  <tbody>\n    <tr>\n      <th>0</th>\n      <td>1</td>\n      <td>1</td>\n      <td>Chips and Fresh Tomato Salsa</td>\n      <td>NaN</td>\n      <td>$2.39</td>\n    </tr>\n    <tr>\n      <th>1</th>\n      <td>1</td>\n      <td>1</td>\n      <td>Izze</td>\n      <td>[Clementine]</td>\n      <td>$3.39</td>\n    </tr>\n    <tr>\n      <th>2</th>\n      <td>1</td>\n      <td>1</td>\n      <td>Nantucket Nectar</td>\n      <td>[Apple]</td>\n      <td>$3.39</td>\n    </tr>\n    <tr>\n      <th>3</th>\n      <td>1</td>\n      <td>1</td>\n      <td>Chips and Tomatillo-Green Chili Salsa</td>\n      <td>NaN</td>\n      <td>$2.39</td>\n    </tr>\n    <tr>\n      <th>4</th>\n      <td>2</td>\n      <td>2</td>\n      <td>Chicken Bowl</td>\n      <td>[Tomatillo-Red Chili Salsa (Hot), [Black Beans...</td>\n      <td>$16.98</td>\n    </tr>\n    <tr>\n      <th>5</th>\n      <td>3</td>\n      <td>1</td>\n      <td>Chicken Bowl</td>\n      <td>[Fresh Tomato Salsa (Mild), [Rice, Cheese, Sou...</td>\n      <td>$10.98</td>\n    </tr>\n  </tbody>\n</table>\n</div>"
     },
     "execution_count": 3,
     "metadata": {},
     "output_type": "execute_result"
    }
   ],
   "source": [
    "#your code\n",
    "\n",
    "chipo = pd.read_csv('chipotle.tsv', sep='\\t')\n",
    "chipo.head(6)"
   ]
  },
  {
   "cell_type": "markdown",
   "metadata": {},
   "source": [
    "### Step2.显示出全部的列名称,并显示数据集的索引"
   ]
  },
  {
   "cell_type": "code",
   "execution_count": 4,
   "metadata": {
    "ExecuteTime": {
     "end_time": "2023-10-06T17:47:06.300534900Z",
     "start_time": "2023-10-06T17:47:06.221082100Z"
    }
   },
   "outputs": [
    {
     "data": {
      "text/plain": "Index(['order_id', 'quantity', 'item_name', 'choice_description',\n       'item_price'],\n      dtype='object')"
     },
     "execution_count": 4,
     "metadata": {},
     "output_type": "execute_result"
    }
   ],
   "source": [
    "#全部的列名称\n",
    "#your code \n",
    "chipo.columns"
   ]
  },
  {
   "cell_type": "code",
   "execution_count": 5,
   "metadata": {
    "ExecuteTime": {
     "end_time": "2023-10-06T17:47:16.004528600Z",
     "start_time": "2023-10-06T17:47:15.904391900Z"
    }
   },
   "outputs": [
    {
     "data": {
      "text/plain": "RangeIndex(start=0, stop=4622, step=1)"
     },
     "execution_count": 5,
     "metadata": {},
     "output_type": "execute_result"
    }
   ],
   "source": [
    "#数据集的索引\n",
    "#your code\n",
    "chipo.index"
   ]
  },
  {
   "cell_type": "markdown",
   "metadata": {},
   "source": [
    "### Step3. 订单数最多的商品是什么？（查看前五行）"
   ]
  },
  {
   "cell_type": "code",
   "execution_count": 6,
   "metadata": {
    "ExecuteTime": {
     "end_time": "2023-10-06T17:49:52.744202200Z",
     "start_time": "2023-10-06T17:49:52.651000900Z"
    }
   },
   "outputs": [
    {
     "name": "stderr",
     "output_type": "stream",
     "text": [
      "C:\\Users\\86199\\AppData\\Local\\Temp\\ipykernel_80696\\2549640050.py:2: FutureWarning: The default value of numeric_only in DataFrameGroupBy.sum is deprecated. In a future version, numeric_only will default to False. Either specify numeric_only or select only columns which should be valid for the function.\n",
      "  chipo.groupby('item_name').sum().sort_values('quantity', ascending=False).head(5)\n"
     ]
    },
    {
     "data": {
      "text/plain": "                     order_id  quantity\nitem_name                              \nChicken Bowl           713926       761\nChicken Burrito        497303       591\nChips and Guacamole    449959       506\nSteak Burrito          328437       386\nCanned Soft Drink      304753       351",
      "text/html": "<div>\n<style scoped>\n    .dataframe tbody tr th:only-of-type {\n        vertical-align: middle;\n    }\n\n    .dataframe tbody tr th {\n        vertical-align: top;\n    }\n\n    .dataframe thead th {\n        text-align: right;\n    }\n</style>\n<table border=\"1\" class=\"dataframe\">\n  <thead>\n    <tr style=\"text-align: right;\">\n      <th></th>\n      <th>order_id</th>\n      <th>quantity</th>\n    </tr>\n    <tr>\n      <th>item_name</th>\n      <th></th>\n      <th></th>\n    </tr>\n  </thead>\n  <tbody>\n    <tr>\n      <th>Chicken Bowl</th>\n      <td>713926</td>\n      <td>761</td>\n    </tr>\n    <tr>\n      <th>Chicken Burrito</th>\n      <td>497303</td>\n      <td>591</td>\n    </tr>\n    <tr>\n      <th>Chips and Guacamole</th>\n      <td>449959</td>\n      <td>506</td>\n    </tr>\n    <tr>\n      <th>Steak Burrito</th>\n      <td>328437</td>\n      <td>386</td>\n    </tr>\n    <tr>\n      <th>Canned Soft Drink</th>\n      <td>304753</td>\n      <td>351</td>\n    </tr>\n  </tbody>\n</table>\n</div>"
     },
     "execution_count": 6,
     "metadata": {},
     "output_type": "execute_result"
    }
   ],
   "source": [
    "#your code\n",
    "chipo.groupby('item_name').sum().sort_values('quantity', ascending=False).head(5)"
   ]
  },
  {
   "cell_type": "markdown",
   "metadata": {},
   "source": [
    "### Step4.从choice_description列观察订单最多的项目是?（查看前五行）"
   ]
  },
  {
   "cell_type": "code",
   "execution_count": 7,
   "metadata": {
    "ExecuteTime": {
     "end_time": "2023-10-06T17:49:59.460182800Z",
     "start_time": "2023-10-06T17:49:59.397674900Z"
    }
   },
   "outputs": [
    {
     "name": "stderr",
     "output_type": "stream",
     "text": [
      "C:\\Users\\86199\\AppData\\Local\\Temp\\ipykernel_80696\\3425683197.py:2: FutureWarning: The default value of numeric_only in DataFrameGroupBy.sum is deprecated. In a future version, numeric_only will default to False. Either specify numeric_only or select only columns which should be valid for the function.\n",
      "  chipo.groupby('choice_description').sum().sort_values('quantity', ascending=False).head(5)\n"
     ]
    },
    {
     "data": {
      "text/plain": "                                                    order_id  quantity\nchoice_description                                                    \n[Diet Coke]                                           123455       159\n[Coke]                                                122752       143\n[Sprite]                                               80426        89\n[Fresh Tomato Salsa, [Rice, Black Beans, Cheese...     43088        49\n[Fresh Tomato Salsa, [Rice, Black Beans, Cheese...     36041        42",
      "text/html": "<div>\n<style scoped>\n    .dataframe tbody tr th:only-of-type {\n        vertical-align: middle;\n    }\n\n    .dataframe tbody tr th {\n        vertical-align: top;\n    }\n\n    .dataframe thead th {\n        text-align: right;\n    }\n</style>\n<table border=\"1\" class=\"dataframe\">\n  <thead>\n    <tr style=\"text-align: right;\">\n      <th></th>\n      <th>order_id</th>\n      <th>quantity</th>\n    </tr>\n    <tr>\n      <th>choice_description</th>\n      <th></th>\n      <th></th>\n    </tr>\n  </thead>\n  <tbody>\n    <tr>\n      <th>[Diet Coke]</th>\n      <td>123455</td>\n      <td>159</td>\n    </tr>\n    <tr>\n      <th>[Coke]</th>\n      <td>122752</td>\n      <td>143</td>\n    </tr>\n    <tr>\n      <th>[Sprite]</th>\n      <td>80426</td>\n      <td>89</td>\n    </tr>\n    <tr>\n      <th>[Fresh Tomato Salsa, [Rice, Black Beans, Cheese, Sour Cream, Lettuce]]</th>\n      <td>43088</td>\n      <td>49</td>\n    </tr>\n    <tr>\n      <th>[Fresh Tomato Salsa, [Rice, Black Beans, Cheese, Sour Cream]]</th>\n      <td>36041</td>\n      <td>42</td>\n    </tr>\n  </tbody>\n</table>\n</div>"
     },
     "execution_count": 7,
     "metadata": {},
     "output_type": "execute_result"
    }
   ],
   "source": [
    "#your code\n",
    "chipo.groupby('choice_description').sum().sort_values('quantity', ascending=False).head(5)"
   ]
  },
  {
   "cell_type": "markdown",
   "metadata": {},
   "source": [
    "### Step5.在该数据集对应的时期内，一共有多少订单？"
   ]
  },
  {
   "cell_type": "code",
   "execution_count": 8,
   "metadata": {
    "ExecuteTime": {
     "end_time": "2023-10-06T17:50:05.764177800Z",
     "start_time": "2023-10-06T17:50:05.684847500Z"
    }
   },
   "outputs": [
    {
     "data": {
      "text/plain": "1834"
     },
     "execution_count": 8,
     "metadata": {},
     "output_type": "execute_result"
    }
   ],
   "source": [
    "#your code\n",
    "chipo.order_id.value_counts().count()"
   ]
  },
  {
   "cell_type": "markdown",
   "metadata": {},
   "source": [
    "### Step6.将 item price转成float类型 设字段名为price"
   ]
  },
  {
   "cell_type": "code",
   "execution_count": 10,
   "metadata": {
    "ExecuteTime": {
     "end_time": "2023-10-06T17:50:18.991317400Z",
     "start_time": "2023-10-06T17:50:18.932822400Z"
    }
   },
   "outputs": [
    {
     "data": {
      "text/plain": "   order_id  quantity                              item_name  \\\n0         1         1           Chips and Fresh Tomato Salsa   \n1         1         1                                   Izze   \n2         1         1                       Nantucket Nectar   \n3         1         1  Chips and Tomatillo-Green Chili Salsa   \n4         2         2                           Chicken Bowl   \n\n                                  choice_description item_price  price  \n0                                                NaN     $2.39    2.39  \n1                                       [Clementine]     $3.39    3.39  \n2                                            [Apple]     $3.39    3.39  \n3                                                NaN     $2.39    2.39  \n4  [Tomatillo-Red Chili Salsa (Hot), [Black Beans...    $16.98   16.98  ",
      "text/html": "<div>\n<style scoped>\n    .dataframe tbody tr th:only-of-type {\n        vertical-align: middle;\n    }\n\n    .dataframe tbody tr th {\n        vertical-align: top;\n    }\n\n    .dataframe thead th {\n        text-align: right;\n    }\n</style>\n<table border=\"1\" class=\"dataframe\">\n  <thead>\n    <tr style=\"text-align: right;\">\n      <th></th>\n      <th>order_id</th>\n      <th>quantity</th>\n      <th>item_name</th>\n      <th>choice_description</th>\n      <th>item_price</th>\n      <th>price</th>\n    </tr>\n  </thead>\n  <tbody>\n    <tr>\n      <th>0</th>\n      <td>1</td>\n      <td>1</td>\n      <td>Chips and Fresh Tomato Salsa</td>\n      <td>NaN</td>\n      <td>$2.39</td>\n      <td>2.39</td>\n    </tr>\n    <tr>\n      <th>1</th>\n      <td>1</td>\n      <td>1</td>\n      <td>Izze</td>\n      <td>[Clementine]</td>\n      <td>$3.39</td>\n      <td>3.39</td>\n    </tr>\n    <tr>\n      <th>2</th>\n      <td>1</td>\n      <td>1</td>\n      <td>Nantucket Nectar</td>\n      <td>[Apple]</td>\n      <td>$3.39</td>\n      <td>3.39</td>\n    </tr>\n    <tr>\n      <th>3</th>\n      <td>1</td>\n      <td>1</td>\n      <td>Chips and Tomatillo-Green Chili Salsa</td>\n      <td>NaN</td>\n      <td>$2.39</td>\n      <td>2.39</td>\n    </tr>\n    <tr>\n      <th>4</th>\n      <td>2</td>\n      <td>2</td>\n      <td>Chicken Bowl</td>\n      <td>[Tomatillo-Red Chili Salsa (Hot), [Black Beans...</td>\n      <td>$16.98</td>\n      <td>16.98</td>\n    </tr>\n  </tbody>\n</table>\n</div>"
     },
     "execution_count": 10,
     "metadata": {},
     "output_type": "execute_result"
    }
   ],
   "source": [
    "#your code\n",
    "chipo['price'] = chipo['item_price'].apply(lambda x: float(x[1:]))\n",
    "chipo.head(5)\n"
   ]
  },
  {
   "cell_type": "markdown",
   "metadata": {},
   "source": [
    "### Step7.在该数据集对应的时期内，收入(revenue)是多少？\n",
    "新增sub_price列用于计算revenue sub_price = quantity * price"
   ]
  },
  {
   "cell_type": "code",
   "execution_count": 11,
   "metadata": {
    "ExecuteTime": {
     "end_time": "2023-10-06T17:50:46.462969500Z",
     "start_time": "2023-10-06T17:50:46.443169Z"
    }
   },
   "outputs": [
    {
     "data": {
      "text/plain": "39237.02"
     },
     "execution_count": 11,
     "metadata": {},
     "output_type": "execute_result"
    }
   ],
   "source": [
    "#your code\n",
    "chipo['sub_price'] = chipo['quantity'] * chipo['price']\n",
    "chipo['sub_price'].sum()"
   ]
  },
  {
   "cell_type": "markdown",
   "metadata": {},
   "source": [
    "### Step8.每一单(order)对应的平均总价是多少？"
   ]
  },
  {
   "cell_type": "code",
   "execution_count": 12,
   "metadata": {
    "ExecuteTime": {
     "end_time": "2023-10-06T17:51:05.619846200Z",
     "start_time": "2023-10-06T17:51:05.493200100Z"
    }
   },
   "outputs": [
    {
     "name": "stderr",
     "output_type": "stream",
     "text": [
      "C:\\Users\\86199\\AppData\\Local\\Temp\\ipykernel_80696\\3779199789.py:2: FutureWarning: The default value of numeric_only in DataFrameGroupBy.sum is deprecated. In a future version, numeric_only will default to False. Either specify numeric_only or select only columns which should be valid for the function.\n",
      "  chipo.groupby('order_id').sum().mean()['sub_price']\n"
     ]
    },
    {
     "data": {
      "text/plain": "21.39423118865867"
     },
     "execution_count": 12,
     "metadata": {},
     "output_type": "execute_result"
    }
   ],
   "source": [
    "#your code\n",
    "chipo.groupby('order_id').sum().mean()['sub_price']\n"
   ]
  },
  {
   "cell_type": "markdown",
   "metadata": {},
   "source": [
    "### Step9.一共有多少种不同的商品被售出？"
   ]
  },
  {
   "cell_type": "code",
   "execution_count": 13,
   "metadata": {
    "ExecuteTime": {
     "end_time": "2023-10-06T17:51:21.417494200Z",
     "start_time": "2023-10-06T17:51:21.314547100Z"
    }
   },
   "outputs": [
    {
     "data": {
      "text/plain": "50"
     },
     "execution_count": 13,
     "metadata": {},
     "output_type": "execute_result"
    }
   ],
   "source": [
    "#your code\n",
    "chipo['item_name'].value_counts().count()"
   ]
  },
  {
   "cell_type": "markdown",
   "metadata": {},
   "source": [
    "### Step10.只选取item_name这一列"
   ]
  },
  {
   "cell_type": "code",
   "execution_count": 14,
   "metadata": {
    "ExecuteTime": {
     "end_time": "2023-10-06T17:51:33.155715800Z",
     "start_time": "2023-10-06T17:51:33.105049600Z"
    }
   },
   "outputs": [
    {
     "data": {
      "text/plain": "0                Chips and Fresh Tomato Salsa\n1                                        Izze\n2                            Nantucket Nectar\n3       Chips and Tomatillo-Green Chili Salsa\n4                                Chicken Bowl\n                        ...                  \n4617                            Steak Burrito\n4618                            Steak Burrito\n4619                       Chicken Salad Bowl\n4620                       Chicken Salad Bowl\n4621                       Chicken Salad Bowl\nName: item_name, Length: 4622, dtype: object"
     },
     "execution_count": 14,
     "metadata": {},
     "output_type": "execute_result"
    }
   ],
   "source": [
    "#your code\n",
    "chipo['item_name']"
   ]
  },
  {
   "cell_type": "markdown",
   "metadata": {},
   "source": [
    "### Step11.该数据集中一共有多少列(columns)"
   ]
  },
  {
   "cell_type": "code",
   "execution_count": 15,
   "metadata": {
    "ExecuteTime": {
     "end_time": "2023-10-06T17:52:48.811683400Z",
     "start_time": "2023-10-06T17:52:48.668728900Z"
    }
   },
   "outputs": [
    {
     "name": "stdout",
     "output_type": "stream",
     "text": [
      "<class 'pandas.core.frame.DataFrame'>\n",
      "RangeIndex: 4622 entries, 0 to 4621\n",
      "Data columns (total 7 columns):\n",
      " #   Column              Non-Null Count  Dtype  \n",
      "---  ------              --------------  -----  \n",
      " 0   order_id            4622 non-null   int64  \n",
      " 1   quantity            4622 non-null   int64  \n",
      " 2   item_name           4622 non-null   object \n",
      " 3   choice_description  3376 non-null   object \n",
      " 4   item_price          4622 non-null   object \n",
      " 5   price               4622 non-null   float64\n",
      " 6   sub_price           4622 non-null   float64\n",
      "dtypes: float64(2), int64(2), object(3)\n",
      "memory usage: 252.9+ KB\n"
     ]
    }
   ],
   "source": [
    "#your code\n",
    "# ???想干嘛,不是count()吗\n",
    "chipo.info()\n"
   ]
  },
  {
   "cell_type": "markdown",
   "metadata": {},
   "source": [
    "### Step12.将数据集中的列 quantity, item_name,和price单独存为一个名叫item的数据框，查看前五行数据"
   ]
  },
  {
   "cell_type": "code",
   "execution_count": 16,
   "metadata": {
    "ExecuteTime": {
     "end_time": "2023-10-06T17:53:33.190658Z",
     "start_time": "2023-10-06T17:53:33.083324300Z"
    }
   },
   "outputs": [
    {
     "data": {
      "text/plain": "   quantity                              item_name  price\n0         1           Chips and Fresh Tomato Salsa   2.39\n1         1                                   Izze   3.39\n2         1                       Nantucket Nectar   3.39\n3         1  Chips and Tomatillo-Green Chili Salsa   2.39\n4         2                           Chicken Bowl  16.98",
      "text/html": "<div>\n<style scoped>\n    .dataframe tbody tr th:only-of-type {\n        vertical-align: middle;\n    }\n\n    .dataframe tbody tr th {\n        vertical-align: top;\n    }\n\n    .dataframe thead th {\n        text-align: right;\n    }\n</style>\n<table border=\"1\" class=\"dataframe\">\n  <thead>\n    <tr style=\"text-align: right;\">\n      <th></th>\n      <th>quantity</th>\n      <th>item_name</th>\n      <th>price</th>\n    </tr>\n  </thead>\n  <tbody>\n    <tr>\n      <th>0</th>\n      <td>1</td>\n      <td>Chips and Fresh Tomato Salsa</td>\n      <td>2.39</td>\n    </tr>\n    <tr>\n      <th>1</th>\n      <td>1</td>\n      <td>Izze</td>\n      <td>3.39</td>\n    </tr>\n    <tr>\n      <th>2</th>\n      <td>1</td>\n      <td>Nantucket Nectar</td>\n      <td>3.39</td>\n    </tr>\n    <tr>\n      <th>3</th>\n      <td>1</td>\n      <td>Chips and Tomatillo-Green Chili Salsa</td>\n      <td>2.39</td>\n    </tr>\n    <tr>\n      <th>4</th>\n      <td>2</td>\n      <td>Chicken Bowl</td>\n      <td>16.98</td>\n    </tr>\n  </tbody>\n</table>\n</div>"
     },
     "execution_count": 16,
     "metadata": {},
     "output_type": "execute_result"
    }
   ],
   "source": [
    "#your code\n",
    "item = chipo[['quantity', 'item_name', 'price']]\n",
    "item.head(5)\n"
   ]
  },
  {
   "cell_type": "markdown",
   "metadata": {},
   "source": [
    "### Step13.对数据框item按照先price再item_name进行排序（查看前五行）"
   ]
  },
  {
   "cell_type": "code",
   "execution_count": 17,
   "metadata": {
    "ExecuteTime": {
     "end_time": "2023-10-06T17:53:40.479177700Z",
     "start_time": "2023-10-06T17:53:40.400206800Z"
    }
   },
   "outputs": [
    {
     "data": {
      "text/plain": "     quantity      item_name  price\n34          1  Bottled Water   1.09\n87          1  Bottled Water   1.09\n318         1  Bottled Water   1.09\n701         1  Bottled Water   1.09\n780         1  Bottled Water   1.09",
      "text/html": "<div>\n<style scoped>\n    .dataframe tbody tr th:only-of-type {\n        vertical-align: middle;\n    }\n\n    .dataframe tbody tr th {\n        vertical-align: top;\n    }\n\n    .dataframe thead th {\n        text-align: right;\n    }\n</style>\n<table border=\"1\" class=\"dataframe\">\n  <thead>\n    <tr style=\"text-align: right;\">\n      <th></th>\n      <th>quantity</th>\n      <th>item_name</th>\n      <th>price</th>\n    </tr>\n  </thead>\n  <tbody>\n    <tr>\n      <th>34</th>\n      <td>1</td>\n      <td>Bottled Water</td>\n      <td>1.09</td>\n    </tr>\n    <tr>\n      <th>87</th>\n      <td>1</td>\n      <td>Bottled Water</td>\n      <td>1.09</td>\n    </tr>\n    <tr>\n      <th>318</th>\n      <td>1</td>\n      <td>Bottled Water</td>\n      <td>1.09</td>\n    </tr>\n    <tr>\n      <th>701</th>\n      <td>1</td>\n      <td>Bottled Water</td>\n      <td>1.09</td>\n    </tr>\n    <tr>\n      <th>780</th>\n      <td>1</td>\n      <td>Bottled Water</td>\n      <td>1.09</td>\n    </tr>\n  </tbody>\n</table>\n</div>"
     },
     "execution_count": 17,
     "metadata": {},
     "output_type": "execute_result"
    }
   ],
   "source": [
    "#your code\n",
    "item.sort_values(['price', 'item_name']).head(5)"
   ]
  },
  {
   "cell_type": "markdown",
   "metadata": {},
   "source": [
    "### Step14.找到进球数price超过25的球队数据"
   ]
  },
  {
   "cell_type": "code",
   "execution_count": 18,
   "metadata": {
    "ExecuteTime": {
     "end_time": "2023-10-06T17:53:49.311399600Z",
     "start_time": "2023-10-06T17:53:49.175432600Z"
    }
   },
   "outputs": [
    {
     "data": {
      "text/plain": "      quantity                     item_name  price\n409          3                  Chicken Bowl  32.94\n1254         4               Chicken Burrito  35.00\n1255         3                 Steak Burrito  27.75\n1514         3                  Chicken Bowl  26.25\n3334         3                    Steak Bowl  26.07\n3480         3                 Carnitas Bowl  35.25\n3598        15  Chips and Fresh Tomato Salsa  44.25\n3601         3                Veggie Burrito  33.75\n3602         4               Chicken Burrito  35.00\n3603         3                 Steak Burrito  27.75\n3634         3               Chicken Burrito  26.25\n3636         3               Chicken Burrito  26.25",
      "text/html": "<div>\n<style scoped>\n    .dataframe tbody tr th:only-of-type {\n        vertical-align: middle;\n    }\n\n    .dataframe tbody tr th {\n        vertical-align: top;\n    }\n\n    .dataframe thead th {\n        text-align: right;\n    }\n</style>\n<table border=\"1\" class=\"dataframe\">\n  <thead>\n    <tr style=\"text-align: right;\">\n      <th></th>\n      <th>quantity</th>\n      <th>item_name</th>\n      <th>price</th>\n    </tr>\n  </thead>\n  <tbody>\n    <tr>\n      <th>409</th>\n      <td>3</td>\n      <td>Chicken Bowl</td>\n      <td>32.94</td>\n    </tr>\n    <tr>\n      <th>1254</th>\n      <td>4</td>\n      <td>Chicken Burrito</td>\n      <td>35.00</td>\n    </tr>\n    <tr>\n      <th>1255</th>\n      <td>3</td>\n      <td>Steak Burrito</td>\n      <td>27.75</td>\n    </tr>\n    <tr>\n      <th>1514</th>\n      <td>3</td>\n      <td>Chicken Bowl</td>\n      <td>26.25</td>\n    </tr>\n    <tr>\n      <th>3334</th>\n      <td>3</td>\n      <td>Steak Bowl</td>\n      <td>26.07</td>\n    </tr>\n    <tr>\n      <th>3480</th>\n      <td>3</td>\n      <td>Carnitas Bowl</td>\n      <td>35.25</td>\n    </tr>\n    <tr>\n      <th>3598</th>\n      <td>15</td>\n      <td>Chips and Fresh Tomato Salsa</td>\n      <td>44.25</td>\n    </tr>\n    <tr>\n      <th>3601</th>\n      <td>3</td>\n      <td>Veggie Burrito</td>\n      <td>33.75</td>\n    </tr>\n    <tr>\n      <th>3602</th>\n      <td>4</td>\n      <td>Chicken Burrito</td>\n      <td>35.00</td>\n    </tr>\n    <tr>\n      <th>3603</th>\n      <td>3</td>\n      <td>Steak Burrito</td>\n      <td>27.75</td>\n    </tr>\n    <tr>\n      <th>3634</th>\n      <td>3</td>\n      <td>Chicken Burrito</td>\n      <td>26.25</td>\n    </tr>\n    <tr>\n      <th>3636</th>\n      <td>3</td>\n      <td>Chicken Burrito</td>\n      <td>26.25</td>\n    </tr>\n  </tbody>\n</table>\n</div>"
     },
     "execution_count": 18,
     "metadata": {},
     "output_type": "execute_result"
    }
   ],
   "source": [
    "#your code\n",
    "item[item['price'] > 25]"
   ]
  },
  {
   "cell_type": "markdown",
   "metadata": {},
   "source": [
    "### Step15.选取除了最后1列之外的全部列"
   ]
  },
  {
   "cell_type": "code",
   "execution_count": 19,
   "metadata": {
    "ExecuteTime": {
     "end_time": "2023-10-06T17:54:01.355211300Z",
     "start_time": "2023-10-06T17:54:01.224394800Z"
    }
   },
   "outputs": [
    {
     "data": {
      "text/plain": "      quantity                              item_name\n0            1           Chips and Fresh Tomato Salsa\n1            1                                   Izze\n2            1                       Nantucket Nectar\n3            1  Chips and Tomatillo-Green Chili Salsa\n4            2                           Chicken Bowl\n...        ...                                    ...\n4617         1                          Steak Burrito\n4618         1                          Steak Burrito\n4619         1                     Chicken Salad Bowl\n4620         1                     Chicken Salad Bowl\n4621         1                     Chicken Salad Bowl\n\n[4622 rows x 2 columns]",
      "text/html": "<div>\n<style scoped>\n    .dataframe tbody tr th:only-of-type {\n        vertical-align: middle;\n    }\n\n    .dataframe tbody tr th {\n        vertical-align: top;\n    }\n\n    .dataframe thead th {\n        text-align: right;\n    }\n</style>\n<table border=\"1\" class=\"dataframe\">\n  <thead>\n    <tr style=\"text-align: right;\">\n      <th></th>\n      <th>quantity</th>\n      <th>item_name</th>\n    </tr>\n  </thead>\n  <tbody>\n    <tr>\n      <th>0</th>\n      <td>1</td>\n      <td>Chips and Fresh Tomato Salsa</td>\n    </tr>\n    <tr>\n      <th>1</th>\n      <td>1</td>\n      <td>Izze</td>\n    </tr>\n    <tr>\n      <th>2</th>\n      <td>1</td>\n      <td>Nantucket Nectar</td>\n    </tr>\n    <tr>\n      <th>3</th>\n      <td>1</td>\n      <td>Chips and Tomatillo-Green Chili Salsa</td>\n    </tr>\n    <tr>\n      <th>4</th>\n      <td>2</td>\n      <td>Chicken Bowl</td>\n    </tr>\n    <tr>\n      <th>...</th>\n      <td>...</td>\n      <td>...</td>\n    </tr>\n    <tr>\n      <th>4617</th>\n      <td>1</td>\n      <td>Steak Burrito</td>\n    </tr>\n    <tr>\n      <th>4618</th>\n      <td>1</td>\n      <td>Steak Burrito</td>\n    </tr>\n    <tr>\n      <th>4619</th>\n      <td>1</td>\n      <td>Chicken Salad Bowl</td>\n    </tr>\n    <tr>\n      <th>4620</th>\n      <td>1</td>\n      <td>Chicken Salad Bowl</td>\n    </tr>\n    <tr>\n      <th>4621</th>\n      <td>1</td>\n      <td>Chicken Salad Bowl</td>\n    </tr>\n  </tbody>\n</table>\n<p>4622 rows × 2 columns</p>\n</div>"
     },
     "execution_count": 19,
     "metadata": {},
     "output_type": "execute_result"
    }
   ],
   "source": [
    "#your code\n",
    "item.iloc[:, :-1]\n"
   ]
  },
  {
   "cell_type": "markdown",
   "metadata": {},
   "source": [
    "### Step 16.  从目录中加载数据appl_1980_2014.csv. 导入数据集，读取数据并存为一个名叫apple的数据框"
   ]
  },
  {
   "cell_type": "code",
   "execution_count": 20,
   "metadata": {
    "ExecuteTime": {
     "end_time": "2023-10-06T17:54:51.492887800Z",
     "start_time": "2023-10-06T17:54:50.924119Z"
    }
   },
   "outputs": [
    {
     "data": {
      "text/plain": "         Date   Open   High    Low  Close    Volume  Adj Close\n0  2014-07-08  96.27  96.80  93.92  95.35  65130000      95.35\n1  2014-07-07  94.14  95.99  94.10  95.97  56305400      95.97\n2  2014-07-03  93.67  94.10  93.20  94.03  22891800      94.03\n3  2014-07-02  93.87  94.06  93.09  93.48  28420900      93.48\n4  2014-07-01  93.52  94.07  93.13  93.52  38170200      93.52",
      "text/html": "<div>\n<style scoped>\n    .dataframe tbody tr th:only-of-type {\n        vertical-align: middle;\n    }\n\n    .dataframe tbody tr th {\n        vertical-align: top;\n    }\n\n    .dataframe thead th {\n        text-align: right;\n    }\n</style>\n<table border=\"1\" class=\"dataframe\">\n  <thead>\n    <tr style=\"text-align: right;\">\n      <th></th>\n      <th>Date</th>\n      <th>Open</th>\n      <th>High</th>\n      <th>Low</th>\n      <th>Close</th>\n      <th>Volume</th>\n      <th>Adj Close</th>\n    </tr>\n  </thead>\n  <tbody>\n    <tr>\n      <th>0</th>\n      <td>2014-07-08</td>\n      <td>96.27</td>\n      <td>96.80</td>\n      <td>93.92</td>\n      <td>95.35</td>\n      <td>65130000</td>\n      <td>95.35</td>\n    </tr>\n    <tr>\n      <th>1</th>\n      <td>2014-07-07</td>\n      <td>94.14</td>\n      <td>95.99</td>\n      <td>94.10</td>\n      <td>95.97</td>\n      <td>56305400</td>\n      <td>95.97</td>\n    </tr>\n    <tr>\n      <th>2</th>\n      <td>2014-07-03</td>\n      <td>93.67</td>\n      <td>94.10</td>\n      <td>93.20</td>\n      <td>94.03</td>\n      <td>22891800</td>\n      <td>94.03</td>\n    </tr>\n    <tr>\n      <th>3</th>\n      <td>2014-07-02</td>\n      <td>93.87</td>\n      <td>94.06</td>\n      <td>93.09</td>\n      <td>93.48</td>\n      <td>28420900</td>\n      <td>93.48</td>\n    </tr>\n    <tr>\n      <th>4</th>\n      <td>2014-07-01</td>\n      <td>93.52</td>\n      <td>94.07</td>\n      <td>93.13</td>\n      <td>93.52</td>\n      <td>38170200</td>\n      <td>93.52</td>\n    </tr>\n  </tbody>\n</table>\n</div>"
     },
     "execution_count": 20,
     "metadata": {},
     "output_type": "execute_result"
    }
   ],
   "source": [
    "import numpy as np\n",
    "import pandas as pd\n",
    "import matplotlib.pyplot as plt\n",
    "\n",
    "%matplotlib inline\n",
    "\n",
    "#your code\n",
    "\n",
    "apple = pd.read_csv('appl_1980_2014.csv')\n",
    "apple.head(5)"
   ]
  },
  {
   "cell_type": "markdown",
   "metadata": {},
   "source": [
    "### Step17. 查看前五行的内容和每一列的数据类型"
   ]
  },
  {
   "cell_type": "code",
   "execution_count": 19,
   "metadata": {},
   "outputs": [
    {
     "data": {
      "text/html": [
       "<div>\n",
       "<style scoped>\n",
       "    .dataframe tbody tr th:only-of-type {\n",
       "        vertical-align: middle;\n",
       "    }\n",
       "\n",
       "    .dataframe tbody tr th {\n",
       "        vertical-align: top;\n",
       "    }\n",
       "\n",
       "    .dataframe thead th {\n",
       "        text-align: right;\n",
       "    }\n",
       "</style>\n",
       "<table border=\"1\" class=\"dataframe\">\n",
       "  <thead>\n",
       "    <tr style=\"text-align: right;\">\n",
       "      <th></th>\n",
       "      <th>Date</th>\n",
       "      <th>Open</th>\n",
       "      <th>High</th>\n",
       "      <th>Low</th>\n",
       "      <th>Close</th>\n",
       "      <th>Volume</th>\n",
       "      <th>Adj Close</th>\n",
       "    </tr>\n",
       "  </thead>\n",
       "  <tbody>\n",
       "    <tr>\n",
       "      <th>0</th>\n",
       "      <td>2014-07-08</td>\n",
       "      <td>96.27</td>\n",
       "      <td>96.80</td>\n",
       "      <td>93.92</td>\n",
       "      <td>95.35</td>\n",
       "      <td>65130000</td>\n",
       "      <td>95.35</td>\n",
       "    </tr>\n",
       "    <tr>\n",
       "      <th>1</th>\n",
       "      <td>2014-07-07</td>\n",
       "      <td>94.14</td>\n",
       "      <td>95.99</td>\n",
       "      <td>94.10</td>\n",
       "      <td>95.97</td>\n",
       "      <td>56305400</td>\n",
       "      <td>95.97</td>\n",
       "    </tr>\n",
       "    <tr>\n",
       "      <th>2</th>\n",
       "      <td>2014-07-03</td>\n",
       "      <td>93.67</td>\n",
       "      <td>94.10</td>\n",
       "      <td>93.20</td>\n",
       "      <td>94.03</td>\n",
       "      <td>22891800</td>\n",
       "      <td>94.03</td>\n",
       "    </tr>\n",
       "    <tr>\n",
       "      <th>3</th>\n",
       "      <td>2014-07-02</td>\n",
       "      <td>93.87</td>\n",
       "      <td>94.06</td>\n",
       "      <td>93.09</td>\n",
       "      <td>93.48</td>\n",
       "      <td>28420900</td>\n",
       "      <td>93.48</td>\n",
       "    </tr>\n",
       "    <tr>\n",
       "      <th>4</th>\n",
       "      <td>2014-07-01</td>\n",
       "      <td>93.52</td>\n",
       "      <td>94.07</td>\n",
       "      <td>93.13</td>\n",
       "      <td>93.52</td>\n",
       "      <td>38170200</td>\n",
       "      <td>93.52</td>\n",
       "    </tr>\n",
       "  </tbody>\n",
       "</table>\n",
       "</div>"
      ],
      "text/plain": [
       "         Date   Open   High    Low  Close    Volume  Adj Close\n",
       "0  2014-07-08  96.27  96.80  93.92  95.35  65130000      95.35\n",
       "1  2014-07-07  94.14  95.99  94.10  95.97  56305400      95.97\n",
       "2  2014-07-03  93.67  94.10  93.20  94.03  22891800      94.03\n",
       "3  2014-07-02  93.87  94.06  93.09  93.48  28420900      93.48\n",
       "4  2014-07-01  93.52  94.07  93.13  93.52  38170200      93.52"
      ]
     },
     "execution_count": 19,
     "metadata": {},
     "output_type": "execute_result"
    }
   ],
   "source": [
    "#your code\n",
    "# 上面实现了"
   ]
  },
  {
   "cell_type": "code",
   "execution_count": 21,
   "metadata": {
    "ExecuteTime": {
     "end_time": "2023-10-06T17:55:34.101077400Z",
     "start_time": "2023-10-06T17:55:34.024232100Z"
    }
   },
   "outputs": [
    {
     "data": {
      "text/plain": "Date          object\nOpen         float64\nHigh         float64\nLow          float64\nClose        float64\nVolume         int64\nAdj Close    float64\ndtype: object"
     },
     "execution_count": 21,
     "metadata": {},
     "output_type": "execute_result"
    }
   ],
   "source": [
    "# your code\n",
    "# 每一列的数据类型\n",
    "apple.dtypes\n"
   ]
  },
  {
   "cell_type": "markdown",
   "metadata": {},
   "source": [
    "### Step 18.数据框中有缺失值吗？"
   ]
  },
  {
   "cell_type": "code",
   "execution_count": 22,
   "metadata": {
    "ExecuteTime": {
     "end_time": "2023-10-06T17:55:43.171293300Z",
     "start_time": "2023-10-06T17:55:43.122268700Z"
    }
   },
   "outputs": [
    {
     "data": {
      "text/plain": "Date         False\nOpen         False\nHigh         False\nLow          False\nClose        False\nVolume       False\nAdj Close    False\ndtype: bool"
     },
     "execution_count": 22,
     "metadata": {},
     "output_type": "execute_result"
    }
   ],
   "source": [
    "#your code\n",
    "apple.isnull().any()"
   ]
  },
  {
   "cell_type": "code",
   "execution_count": 24,
   "metadata": {
    "ExecuteTime": {
     "end_time": "2023-10-06T17:56:31.711143600Z",
     "start_time": "2023-10-06T17:56:31.629408800Z"
    }
   },
   "outputs": [
    {
     "data": {
      "text/plain": "Date         0\nOpen         0\nHigh         0\nLow          0\nClose        0\nVolume       0\nAdj Close    0\ndtype: int64"
     },
     "execution_count": 24,
     "metadata": {},
     "output_type": "execute_result"
    }
   ],
   "source": [
    "# your code\n",
    "apple.isnull().sum()"
   ]
  },
  {
   "cell_type": "markdown",
   "metadata": {},
   "source": [
    "### Step 19.将列Volume的第10到19行设置为缺失值"
   ]
  },
  {
   "cell_type": "code",
   "execution_count": 25,
   "metadata": {
    "ExecuteTime": {
     "end_time": "2023-10-06T17:56:40.944986600Z",
     "start_time": "2023-10-06T17:56:40.797351200Z"
    }
   },
   "outputs": [
    {
     "name": "stderr",
     "output_type": "stream",
     "text": [
      "C:\\Users\\86199\\AppData\\Local\\Temp\\ipykernel_80696\\51588173.py:2: SettingWithCopyWarning: \n",
      "A value is trying to be set on a copy of a slice from a DataFrame\n",
      "\n",
      "See the caveats in the documentation: https://pandas.pydata.org/pandas-docs/stable/user_guide/indexing.html#returning-a-view-versus-a-copy\n",
      "  apple['Volume'][10:20] = np.nan\n"
     ]
    },
    {
     "data": {
      "text/plain": "          Date   Open   High    Low  Close      Volume  Adj Close\n0   2014-07-08  96.27  96.80  93.92  95.35  65130000.0      95.35\n1   2014-07-07  94.14  95.99  94.10  95.97  56305400.0      95.97\n2   2014-07-03  93.67  94.10  93.20  94.03  22891800.0      94.03\n3   2014-07-02  93.87  94.06  93.09  93.48  28420900.0      93.48\n4   2014-07-01  93.52  94.07  93.13  93.52  38170200.0      93.52\n5   2014-06-30  92.10  93.73  92.09  92.93  49482300.0      92.93\n6   2014-06-27  90.82  92.00  90.77  91.98  64006800.0      91.98\n7   2014-06-26  90.37  91.05  89.80  90.90  32595800.0      90.90\n8   2014-06-25  90.21  90.70  89.65  90.36  36852200.0      90.36\n9   2014-06-24  90.75  91.74  90.19  90.28  38988300.0      90.28\n10  2014-06-23  91.32  91.62  90.60  90.83         NaN      90.83\n11  2014-06-20  91.85  92.55  90.90  90.91         NaN      90.91\n12  2014-06-19  92.29  92.30  91.34  91.86         NaN      91.86\n13  2014-06-18  92.27  92.29  91.35  92.18         NaN      92.18\n14  2014-06-17  92.31  92.70  91.80  92.08         NaN      92.08\n15  2014-06-16  91.51  92.75  91.45  92.20         NaN      92.20\n16  2014-06-13  92.20  92.44  90.88  91.28         NaN      91.28\n17  2014-06-12  94.04  94.12  91.90  92.29         NaN      92.29\n18  2014-06-11  94.13  94.76  93.47  93.86         NaN      93.86\n19  2014-06-10  94.73  95.05  93.57  94.25         NaN      94.25",
      "text/html": "<div>\n<style scoped>\n    .dataframe tbody tr th:only-of-type {\n        vertical-align: middle;\n    }\n\n    .dataframe tbody tr th {\n        vertical-align: top;\n    }\n\n    .dataframe thead th {\n        text-align: right;\n    }\n</style>\n<table border=\"1\" class=\"dataframe\">\n  <thead>\n    <tr style=\"text-align: right;\">\n      <th></th>\n      <th>Date</th>\n      <th>Open</th>\n      <th>High</th>\n      <th>Low</th>\n      <th>Close</th>\n      <th>Volume</th>\n      <th>Adj Close</th>\n    </tr>\n  </thead>\n  <tbody>\n    <tr>\n      <th>0</th>\n      <td>2014-07-08</td>\n      <td>96.27</td>\n      <td>96.80</td>\n      <td>93.92</td>\n      <td>95.35</td>\n      <td>65130000.0</td>\n      <td>95.35</td>\n    </tr>\n    <tr>\n      <th>1</th>\n      <td>2014-07-07</td>\n      <td>94.14</td>\n      <td>95.99</td>\n      <td>94.10</td>\n      <td>95.97</td>\n      <td>56305400.0</td>\n      <td>95.97</td>\n    </tr>\n    <tr>\n      <th>2</th>\n      <td>2014-07-03</td>\n      <td>93.67</td>\n      <td>94.10</td>\n      <td>93.20</td>\n      <td>94.03</td>\n      <td>22891800.0</td>\n      <td>94.03</td>\n    </tr>\n    <tr>\n      <th>3</th>\n      <td>2014-07-02</td>\n      <td>93.87</td>\n      <td>94.06</td>\n      <td>93.09</td>\n      <td>93.48</td>\n      <td>28420900.0</td>\n      <td>93.48</td>\n    </tr>\n    <tr>\n      <th>4</th>\n      <td>2014-07-01</td>\n      <td>93.52</td>\n      <td>94.07</td>\n      <td>93.13</td>\n      <td>93.52</td>\n      <td>38170200.0</td>\n      <td>93.52</td>\n    </tr>\n    <tr>\n      <th>5</th>\n      <td>2014-06-30</td>\n      <td>92.10</td>\n      <td>93.73</td>\n      <td>92.09</td>\n      <td>92.93</td>\n      <td>49482300.0</td>\n      <td>92.93</td>\n    </tr>\n    <tr>\n      <th>6</th>\n      <td>2014-06-27</td>\n      <td>90.82</td>\n      <td>92.00</td>\n      <td>90.77</td>\n      <td>91.98</td>\n      <td>64006800.0</td>\n      <td>91.98</td>\n    </tr>\n    <tr>\n      <th>7</th>\n      <td>2014-06-26</td>\n      <td>90.37</td>\n      <td>91.05</td>\n      <td>89.80</td>\n      <td>90.90</td>\n      <td>32595800.0</td>\n      <td>90.90</td>\n    </tr>\n    <tr>\n      <th>8</th>\n      <td>2014-06-25</td>\n      <td>90.21</td>\n      <td>90.70</td>\n      <td>89.65</td>\n      <td>90.36</td>\n      <td>36852200.0</td>\n      <td>90.36</td>\n    </tr>\n    <tr>\n      <th>9</th>\n      <td>2014-06-24</td>\n      <td>90.75</td>\n      <td>91.74</td>\n      <td>90.19</td>\n      <td>90.28</td>\n      <td>38988300.0</td>\n      <td>90.28</td>\n    </tr>\n    <tr>\n      <th>10</th>\n      <td>2014-06-23</td>\n      <td>91.32</td>\n      <td>91.62</td>\n      <td>90.60</td>\n      <td>90.83</td>\n      <td>NaN</td>\n      <td>90.83</td>\n    </tr>\n    <tr>\n      <th>11</th>\n      <td>2014-06-20</td>\n      <td>91.85</td>\n      <td>92.55</td>\n      <td>90.90</td>\n      <td>90.91</td>\n      <td>NaN</td>\n      <td>90.91</td>\n    </tr>\n    <tr>\n      <th>12</th>\n      <td>2014-06-19</td>\n      <td>92.29</td>\n      <td>92.30</td>\n      <td>91.34</td>\n      <td>91.86</td>\n      <td>NaN</td>\n      <td>91.86</td>\n    </tr>\n    <tr>\n      <th>13</th>\n      <td>2014-06-18</td>\n      <td>92.27</td>\n      <td>92.29</td>\n      <td>91.35</td>\n      <td>92.18</td>\n      <td>NaN</td>\n      <td>92.18</td>\n    </tr>\n    <tr>\n      <th>14</th>\n      <td>2014-06-17</td>\n      <td>92.31</td>\n      <td>92.70</td>\n      <td>91.80</td>\n      <td>92.08</td>\n      <td>NaN</td>\n      <td>92.08</td>\n    </tr>\n    <tr>\n      <th>15</th>\n      <td>2014-06-16</td>\n      <td>91.51</td>\n      <td>92.75</td>\n      <td>91.45</td>\n      <td>92.20</td>\n      <td>NaN</td>\n      <td>92.20</td>\n    </tr>\n    <tr>\n      <th>16</th>\n      <td>2014-06-13</td>\n      <td>92.20</td>\n      <td>92.44</td>\n      <td>90.88</td>\n      <td>91.28</td>\n      <td>NaN</td>\n      <td>91.28</td>\n    </tr>\n    <tr>\n      <th>17</th>\n      <td>2014-06-12</td>\n      <td>94.04</td>\n      <td>94.12</td>\n      <td>91.90</td>\n      <td>92.29</td>\n      <td>NaN</td>\n      <td>92.29</td>\n    </tr>\n    <tr>\n      <th>18</th>\n      <td>2014-06-11</td>\n      <td>94.13</td>\n      <td>94.76</td>\n      <td>93.47</td>\n      <td>93.86</td>\n      <td>NaN</td>\n      <td>93.86</td>\n    </tr>\n    <tr>\n      <th>19</th>\n      <td>2014-06-10</td>\n      <td>94.73</td>\n      <td>95.05</td>\n      <td>93.57</td>\n      <td>94.25</td>\n      <td>NaN</td>\n      <td>94.25</td>\n    </tr>\n  </tbody>\n</table>\n</div>"
     },
     "execution_count": 25,
     "metadata": {},
     "output_type": "execute_result"
    }
   ],
   "source": [
    "#your code\n",
    "apple['Volume'][10:20] = np.nan\n",
    "apple.head(20)"
   ]
  },
  {
   "cell_type": "markdown",
   "metadata": {},
   "source": [
    "### Step 20.将缺失值全部替换为1.0"
   ]
  },
  {
   "cell_type": "code",
   "execution_count": 26,
   "metadata": {
    "ExecuteTime": {
     "end_time": "2023-10-06T17:56:50.431028300Z",
     "start_time": "2023-10-06T17:56:50.288001Z"
    }
   },
   "outputs": [
    {
     "data": {
      "text/plain": "          Date   Open   High    Low  Close      Volume  Adj Close\n0   2014-07-08  96.27  96.80  93.92  95.35  65130000.0      95.35\n1   2014-07-07  94.14  95.99  94.10  95.97  56305400.0      95.97\n2   2014-07-03  93.67  94.10  93.20  94.03  22891800.0      94.03\n3   2014-07-02  93.87  94.06  93.09  93.48  28420900.0      93.48\n4   2014-07-01  93.52  94.07  93.13  93.52  38170200.0      93.52\n5   2014-06-30  92.10  93.73  92.09  92.93  49482300.0      92.93\n6   2014-06-27  90.82  92.00  90.77  91.98  64006800.0      91.98\n7   2014-06-26  90.37  91.05  89.80  90.90  32595800.0      90.90\n8   2014-06-25  90.21  90.70  89.65  90.36  36852200.0      90.36\n9   2014-06-24  90.75  91.74  90.19  90.28  38988300.0      90.28\n10  2014-06-23  91.32  91.62  90.60  90.83         NaN      90.83\n11  2014-06-20  91.85  92.55  90.90  90.91         NaN      90.91\n12  2014-06-19  92.29  92.30  91.34  91.86         NaN      91.86\n13  2014-06-18  92.27  92.29  91.35  92.18         NaN      92.18\n14  2014-06-17  92.31  92.70  91.80  92.08         NaN      92.08\n15  2014-06-16  91.51  92.75  91.45  92.20         NaN      92.20\n16  2014-06-13  92.20  92.44  90.88  91.28         NaN      91.28\n17  2014-06-12  94.04  94.12  91.90  92.29         NaN      92.29\n18  2014-06-11  94.13  94.76  93.47  93.86         NaN      93.86\n19  2014-06-10  94.73  95.05  93.57  94.25         NaN      94.25",
      "text/html": "<div>\n<style scoped>\n    .dataframe tbody tr th:only-of-type {\n        vertical-align: middle;\n    }\n\n    .dataframe tbody tr th {\n        vertical-align: top;\n    }\n\n    .dataframe thead th {\n        text-align: right;\n    }\n</style>\n<table border=\"1\" class=\"dataframe\">\n  <thead>\n    <tr style=\"text-align: right;\">\n      <th></th>\n      <th>Date</th>\n      <th>Open</th>\n      <th>High</th>\n      <th>Low</th>\n      <th>Close</th>\n      <th>Volume</th>\n      <th>Adj Close</th>\n    </tr>\n  </thead>\n  <tbody>\n    <tr>\n      <th>0</th>\n      <td>2014-07-08</td>\n      <td>96.27</td>\n      <td>96.80</td>\n      <td>93.92</td>\n      <td>95.35</td>\n      <td>65130000.0</td>\n      <td>95.35</td>\n    </tr>\n    <tr>\n      <th>1</th>\n      <td>2014-07-07</td>\n      <td>94.14</td>\n      <td>95.99</td>\n      <td>94.10</td>\n      <td>95.97</td>\n      <td>56305400.0</td>\n      <td>95.97</td>\n    </tr>\n    <tr>\n      <th>2</th>\n      <td>2014-07-03</td>\n      <td>93.67</td>\n      <td>94.10</td>\n      <td>93.20</td>\n      <td>94.03</td>\n      <td>22891800.0</td>\n      <td>94.03</td>\n    </tr>\n    <tr>\n      <th>3</th>\n      <td>2014-07-02</td>\n      <td>93.87</td>\n      <td>94.06</td>\n      <td>93.09</td>\n      <td>93.48</td>\n      <td>28420900.0</td>\n      <td>93.48</td>\n    </tr>\n    <tr>\n      <th>4</th>\n      <td>2014-07-01</td>\n      <td>93.52</td>\n      <td>94.07</td>\n      <td>93.13</td>\n      <td>93.52</td>\n      <td>38170200.0</td>\n      <td>93.52</td>\n    </tr>\n    <tr>\n      <th>5</th>\n      <td>2014-06-30</td>\n      <td>92.10</td>\n      <td>93.73</td>\n      <td>92.09</td>\n      <td>92.93</td>\n      <td>49482300.0</td>\n      <td>92.93</td>\n    </tr>\n    <tr>\n      <th>6</th>\n      <td>2014-06-27</td>\n      <td>90.82</td>\n      <td>92.00</td>\n      <td>90.77</td>\n      <td>91.98</td>\n      <td>64006800.0</td>\n      <td>91.98</td>\n    </tr>\n    <tr>\n      <th>7</th>\n      <td>2014-06-26</td>\n      <td>90.37</td>\n      <td>91.05</td>\n      <td>89.80</td>\n      <td>90.90</td>\n      <td>32595800.0</td>\n      <td>90.90</td>\n    </tr>\n    <tr>\n      <th>8</th>\n      <td>2014-06-25</td>\n      <td>90.21</td>\n      <td>90.70</td>\n      <td>89.65</td>\n      <td>90.36</td>\n      <td>36852200.0</td>\n      <td>90.36</td>\n    </tr>\n    <tr>\n      <th>9</th>\n      <td>2014-06-24</td>\n      <td>90.75</td>\n      <td>91.74</td>\n      <td>90.19</td>\n      <td>90.28</td>\n      <td>38988300.0</td>\n      <td>90.28</td>\n    </tr>\n    <tr>\n      <th>10</th>\n      <td>2014-06-23</td>\n      <td>91.32</td>\n      <td>91.62</td>\n      <td>90.60</td>\n      <td>90.83</td>\n      <td>NaN</td>\n      <td>90.83</td>\n    </tr>\n    <tr>\n      <th>11</th>\n      <td>2014-06-20</td>\n      <td>91.85</td>\n      <td>92.55</td>\n      <td>90.90</td>\n      <td>90.91</td>\n      <td>NaN</td>\n      <td>90.91</td>\n    </tr>\n    <tr>\n      <th>12</th>\n      <td>2014-06-19</td>\n      <td>92.29</td>\n      <td>92.30</td>\n      <td>91.34</td>\n      <td>91.86</td>\n      <td>NaN</td>\n      <td>91.86</td>\n    </tr>\n    <tr>\n      <th>13</th>\n      <td>2014-06-18</td>\n      <td>92.27</td>\n      <td>92.29</td>\n      <td>91.35</td>\n      <td>92.18</td>\n      <td>NaN</td>\n      <td>92.18</td>\n    </tr>\n    <tr>\n      <th>14</th>\n      <td>2014-06-17</td>\n      <td>92.31</td>\n      <td>92.70</td>\n      <td>91.80</td>\n      <td>92.08</td>\n      <td>NaN</td>\n      <td>92.08</td>\n    </tr>\n    <tr>\n      <th>15</th>\n      <td>2014-06-16</td>\n      <td>91.51</td>\n      <td>92.75</td>\n      <td>91.45</td>\n      <td>92.20</td>\n      <td>NaN</td>\n      <td>92.20</td>\n    </tr>\n    <tr>\n      <th>16</th>\n      <td>2014-06-13</td>\n      <td>92.20</td>\n      <td>92.44</td>\n      <td>90.88</td>\n      <td>91.28</td>\n      <td>NaN</td>\n      <td>91.28</td>\n    </tr>\n    <tr>\n      <th>17</th>\n      <td>2014-06-12</td>\n      <td>94.04</td>\n      <td>94.12</td>\n      <td>91.90</td>\n      <td>92.29</td>\n      <td>NaN</td>\n      <td>92.29</td>\n    </tr>\n    <tr>\n      <th>18</th>\n      <td>2014-06-11</td>\n      <td>94.13</td>\n      <td>94.76</td>\n      <td>93.47</td>\n      <td>93.86</td>\n      <td>NaN</td>\n      <td>93.86</td>\n    </tr>\n    <tr>\n      <th>19</th>\n      <td>2014-06-10</td>\n      <td>94.73</td>\n      <td>95.05</td>\n      <td>93.57</td>\n      <td>94.25</td>\n      <td>NaN</td>\n      <td>94.25</td>\n    </tr>\n  </tbody>\n</table>\n</div>"
     },
     "execution_count": 26,
     "metadata": {},
     "output_type": "execute_result"
    }
   ],
   "source": [
    "#your code\n",
    "apple.fillna(1.0)\n",
    "apple.head(20)"
   ]
  },
  {
   "cell_type": "markdown",
   "metadata": {},
   "source": [
    "### Step 21.删除列Volume"
   ]
  },
  {
   "cell_type": "code",
   "execution_count": 27,
   "metadata": {
    "ExecuteTime": {
     "end_time": "2023-10-06T17:57:02.636841500Z",
     "start_time": "2023-10-06T17:57:02.518059Z"
    }
   },
   "outputs": [
    {
     "data": {
      "text/plain": "         Date   Open   High    Low  Close  Adj Close\n0  2014-07-08  96.27  96.80  93.92  95.35      95.35\n1  2014-07-07  94.14  95.99  94.10  95.97      95.97\n2  2014-07-03  93.67  94.10  93.20  94.03      94.03\n3  2014-07-02  93.87  94.06  93.09  93.48      93.48\n4  2014-07-01  93.52  94.07  93.13  93.52      93.52",
      "text/html": "<div>\n<style scoped>\n    .dataframe tbody tr th:only-of-type {\n        vertical-align: middle;\n    }\n\n    .dataframe tbody tr th {\n        vertical-align: top;\n    }\n\n    .dataframe thead th {\n        text-align: right;\n    }\n</style>\n<table border=\"1\" class=\"dataframe\">\n  <thead>\n    <tr style=\"text-align: right;\">\n      <th></th>\n      <th>Date</th>\n      <th>Open</th>\n      <th>High</th>\n      <th>Low</th>\n      <th>Close</th>\n      <th>Adj Close</th>\n    </tr>\n  </thead>\n  <tbody>\n    <tr>\n      <th>0</th>\n      <td>2014-07-08</td>\n      <td>96.27</td>\n      <td>96.80</td>\n      <td>93.92</td>\n      <td>95.35</td>\n      <td>95.35</td>\n    </tr>\n    <tr>\n      <th>1</th>\n      <td>2014-07-07</td>\n      <td>94.14</td>\n      <td>95.99</td>\n      <td>94.10</td>\n      <td>95.97</td>\n      <td>95.97</td>\n    </tr>\n    <tr>\n      <th>2</th>\n      <td>2014-07-03</td>\n      <td>93.67</td>\n      <td>94.10</td>\n      <td>93.20</td>\n      <td>94.03</td>\n      <td>94.03</td>\n    </tr>\n    <tr>\n      <th>3</th>\n      <td>2014-07-02</td>\n      <td>93.87</td>\n      <td>94.06</td>\n      <td>93.09</td>\n      <td>93.48</td>\n      <td>93.48</td>\n    </tr>\n    <tr>\n      <th>4</th>\n      <td>2014-07-01</td>\n      <td>93.52</td>\n      <td>94.07</td>\n      <td>93.13</td>\n      <td>93.52</td>\n      <td>93.52</td>\n    </tr>\n  </tbody>\n</table>\n</div>"
     },
     "execution_count": 27,
     "metadata": {},
     "output_type": "execute_result"
    }
   ],
   "source": [
    "#your code\n",
    "apple.drop('Volume', axis=1, inplace=True)\n",
    "apple.head(5)"
   ]
  },
  {
   "cell_type": "markdown",
   "metadata": {},
   "source": [
    "### Step 22.计算Open平均值"
   ]
  },
  {
   "cell_type": "code",
   "execution_count": 28,
   "metadata": {
    "ExecuteTime": {
     "end_time": "2023-10-06T17:57:10.330202Z",
     "start_time": "2023-10-06T17:57:10.218743900Z"
    }
   },
   "outputs": [
    {
     "data": {
      "text/plain": "98.59392557590077"
     },
     "execution_count": 28,
     "metadata": {},
     "output_type": "execute_result"
    }
   ],
   "source": [
    "#your code\n",
    "apple['Open'].mean()\n"
   ]
  },
  {
   "cell_type": "markdown",
   "metadata": {},
   "source": [
    "### Step 23.将Date这个列转换为datetime类型"
   ]
  },
  {
   "cell_type": "code",
   "execution_count": 29,
   "metadata": {
    "ExecuteTime": {
     "end_time": "2023-10-06T17:57:17.783144600Z",
     "start_time": "2023-10-06T17:57:17.728009200Z"
    }
   },
   "outputs": [
    {
     "data": {
      "text/plain": "Date         datetime64[ns]\nOpen                float64\nHigh                float64\nLow                 float64\nClose               float64\nAdj Close           float64\ndtype: object"
     },
     "execution_count": 29,
     "metadata": {},
     "output_type": "execute_result"
    }
   ],
   "source": [
    "#your code\n",
    "apple['Date'] = pd.to_datetime(apple['Date'])\n",
    "apple.dtypes"
   ]
  },
  {
   "cell_type": "markdown",
   "metadata": {},
   "source": [
    "### Step 24.将Date设置为索引"
   ]
  },
  {
   "cell_type": "code",
   "execution_count": 30,
   "metadata": {
    "ExecuteTime": {
     "end_time": "2023-10-06T17:57:25.088089700Z",
     "start_time": "2023-10-06T17:57:25.023972700Z"
    }
   },
   "outputs": [
    {
     "data": {
      "text/plain": "             Open   High    Low  Close  Adj Close\nDate                                             \n2014-07-08  96.27  96.80  93.92  95.35      95.35\n2014-07-07  94.14  95.99  94.10  95.97      95.97\n2014-07-03  93.67  94.10  93.20  94.03      94.03\n2014-07-02  93.87  94.06  93.09  93.48      93.48\n2014-07-01  93.52  94.07  93.13  93.52      93.52",
      "text/html": "<div>\n<style scoped>\n    .dataframe tbody tr th:only-of-type {\n        vertical-align: middle;\n    }\n\n    .dataframe tbody tr th {\n        vertical-align: top;\n    }\n\n    .dataframe thead th {\n        text-align: right;\n    }\n</style>\n<table border=\"1\" class=\"dataframe\">\n  <thead>\n    <tr style=\"text-align: right;\">\n      <th></th>\n      <th>Open</th>\n      <th>High</th>\n      <th>Low</th>\n      <th>Close</th>\n      <th>Adj Close</th>\n    </tr>\n    <tr>\n      <th>Date</th>\n      <th></th>\n      <th></th>\n      <th></th>\n      <th></th>\n      <th></th>\n    </tr>\n  </thead>\n  <tbody>\n    <tr>\n      <th>2014-07-08</th>\n      <td>96.27</td>\n      <td>96.80</td>\n      <td>93.92</td>\n      <td>95.35</td>\n      <td>95.35</td>\n    </tr>\n    <tr>\n      <th>2014-07-07</th>\n      <td>94.14</td>\n      <td>95.99</td>\n      <td>94.10</td>\n      <td>95.97</td>\n      <td>95.97</td>\n    </tr>\n    <tr>\n      <th>2014-07-03</th>\n      <td>93.67</td>\n      <td>94.10</td>\n      <td>93.20</td>\n      <td>94.03</td>\n      <td>94.03</td>\n    </tr>\n    <tr>\n      <th>2014-07-02</th>\n      <td>93.87</td>\n      <td>94.06</td>\n      <td>93.09</td>\n      <td>93.48</td>\n      <td>93.48</td>\n    </tr>\n    <tr>\n      <th>2014-07-01</th>\n      <td>93.52</td>\n      <td>94.07</td>\n      <td>93.13</td>\n      <td>93.52</td>\n      <td>93.52</td>\n    </tr>\n  </tbody>\n</table>\n</div>"
     },
     "execution_count": 30,
     "metadata": {},
     "output_type": "execute_result"
    }
   ],
   "source": [
    "#your code\n",
    "apple.set_index('Date', inplace=True)\n",
    "apple.head(5)"
   ]
  },
  {
   "cell_type": "markdown",
   "metadata": {},
   "source": [
    "### Step 25.是否有重复的日期？"
   ]
  },
  {
   "cell_type": "code",
   "execution_count": 31,
   "metadata": {
    "ExecuteTime": {
     "end_time": "2023-10-06T17:57:32.078059400Z",
     "start_time": "2023-10-06T17:57:32.064913100Z"
    }
   },
   "outputs": [
    {
     "data": {
      "text/plain": "True"
     },
     "execution_count": 31,
     "metadata": {},
     "output_type": "execute_result"
    }
   ],
   "source": [
    "#your code\n",
    "apple.index.is_unique"
   ]
  },
  {
   "cell_type": "markdown",
   "metadata": {},
   "source": [
    "### Step 26.将index设置为升序（显示前五行）"
   ]
  },
  {
   "cell_type": "code",
   "execution_count": 32,
   "metadata": {
    "ExecuteTime": {
     "end_time": "2023-10-06T17:58:02.365597100Z",
     "start_time": "2023-10-06T17:58:02.243689200Z"
    }
   },
   "outputs": [
    {
     "data": {
      "text/plain": "             Open   High    Low  Close  Adj Close\nDate                                             \n1980-12-12  28.75  28.87  28.75  28.75       0.45\n1980-12-15  27.38  27.38  27.25  27.25       0.42\n1980-12-16  25.37  25.37  25.25  25.25       0.39\n1980-12-17  25.87  26.00  25.87  25.87       0.40\n1980-12-18  26.63  26.75  26.63  26.63       0.41",
      "text/html": "<div>\n<style scoped>\n    .dataframe tbody tr th:only-of-type {\n        vertical-align: middle;\n    }\n\n    .dataframe tbody tr th {\n        vertical-align: top;\n    }\n\n    .dataframe thead th {\n        text-align: right;\n    }\n</style>\n<table border=\"1\" class=\"dataframe\">\n  <thead>\n    <tr style=\"text-align: right;\">\n      <th></th>\n      <th>Open</th>\n      <th>High</th>\n      <th>Low</th>\n      <th>Close</th>\n      <th>Adj Close</th>\n    </tr>\n    <tr>\n      <th>Date</th>\n      <th></th>\n      <th></th>\n      <th></th>\n      <th></th>\n      <th></th>\n    </tr>\n  </thead>\n  <tbody>\n    <tr>\n      <th>1980-12-12</th>\n      <td>28.75</td>\n      <td>28.87</td>\n      <td>28.75</td>\n      <td>28.75</td>\n      <td>0.45</td>\n    </tr>\n    <tr>\n      <th>1980-12-15</th>\n      <td>27.38</td>\n      <td>27.38</td>\n      <td>27.25</td>\n      <td>27.25</td>\n      <td>0.42</td>\n    </tr>\n    <tr>\n      <th>1980-12-16</th>\n      <td>25.37</td>\n      <td>25.37</td>\n      <td>25.25</td>\n      <td>25.25</td>\n      <td>0.39</td>\n    </tr>\n    <tr>\n      <th>1980-12-17</th>\n      <td>25.87</td>\n      <td>26.00</td>\n      <td>25.87</td>\n      <td>25.87</td>\n      <td>0.40</td>\n    </tr>\n    <tr>\n      <th>1980-12-18</th>\n      <td>26.63</td>\n      <td>26.75</td>\n      <td>26.63</td>\n      <td>26.63</td>\n      <td>0.41</td>\n    </tr>\n  </tbody>\n</table>\n</div>"
     },
     "execution_count": 32,
     "metadata": {},
     "output_type": "execute_result"
    }
   ],
   "source": [
    "#your code\n",
    "apple.sort_index(ascending=True).head(5)"
   ]
  },
  {
   "cell_type": "markdown",
   "metadata": {},
   "source": [
    "### Step 27.找到每个月的最后一个交易日(business day)（显示前五行） \n",
    "（yyyy-mm算做一个月）"
   ]
  },
  {
   "cell_type": "code",
   "execution_count": 33,
   "metadata": {
    "ExecuteTime": {
     "end_time": "2023-10-06T17:58:12.882663Z",
     "start_time": "2023-10-06T17:58:12.825276400Z"
    }
   },
   "outputs": [
    {
     "data": {
      "text/plain": "                  Open        High         Low       Close  Adj Close\nDate                                                                 \n2014-03-31  533.593333  536.453810  530.070952  533.214286  75.750000\n2014-04-30  540.081905  544.349048  536.262381  541.074286  76.867143\n2014-05-30  601.301905  606.372857  598.332857  603.195714  86.058571\n2014-06-30  222.360000  224.084286  220.735714  222.658095  91.885714\n2014-07-31   94.294000   95.004000   93.488000   94.470000  94.470000",
      "text/html": "<div>\n<style scoped>\n    .dataframe tbody tr th:only-of-type {\n        vertical-align: middle;\n    }\n\n    .dataframe tbody tr th {\n        vertical-align: top;\n    }\n\n    .dataframe thead th {\n        text-align: right;\n    }\n</style>\n<table border=\"1\" class=\"dataframe\">\n  <thead>\n    <tr style=\"text-align: right;\">\n      <th></th>\n      <th>Open</th>\n      <th>High</th>\n      <th>Low</th>\n      <th>Close</th>\n      <th>Adj Close</th>\n    </tr>\n    <tr>\n      <th>Date</th>\n      <th></th>\n      <th></th>\n      <th></th>\n      <th></th>\n      <th></th>\n    </tr>\n  </thead>\n  <tbody>\n    <tr>\n      <th>2014-03-31</th>\n      <td>533.593333</td>\n      <td>536.453810</td>\n      <td>530.070952</td>\n      <td>533.214286</td>\n      <td>75.750000</td>\n    </tr>\n    <tr>\n      <th>2014-04-30</th>\n      <td>540.081905</td>\n      <td>544.349048</td>\n      <td>536.262381</td>\n      <td>541.074286</td>\n      <td>76.867143</td>\n    </tr>\n    <tr>\n      <th>2014-05-30</th>\n      <td>601.301905</td>\n      <td>606.372857</td>\n      <td>598.332857</td>\n      <td>603.195714</td>\n      <td>86.058571</td>\n    </tr>\n    <tr>\n      <th>2014-06-30</th>\n      <td>222.360000</td>\n      <td>224.084286</td>\n      <td>220.735714</td>\n      <td>222.658095</td>\n      <td>91.885714</td>\n    </tr>\n    <tr>\n      <th>2014-07-31</th>\n      <td>94.294000</td>\n      <td>95.004000</td>\n      <td>93.488000</td>\n      <td>94.470000</td>\n      <td>94.470000</td>\n    </tr>\n  </tbody>\n</table>\n</div>"
     },
     "execution_count": 33,
     "metadata": {},
     "output_type": "execute_result"
    }
   ],
   "source": [
    "#your code\n",
    "apple_month = apple.resample('BM').mean()\n",
    "apple_month.tail(5)"
   ]
  },
  {
   "cell_type": "markdown",
   "metadata": {},
   "source": [
    "### Step 28.数据集中最早的日期和最晚的日期相差多少天？"
   ]
  },
  {
   "cell_type": "code",
   "execution_count": 34,
   "metadata": {
    "ExecuteTime": {
     "end_time": "2023-10-06T17:58:22.973082100Z",
     "start_time": "2023-10-06T17:58:22.860896800Z"
    }
   },
   "outputs": [
    {
     "data": {
      "text/plain": "12261"
     },
     "execution_count": 34,
     "metadata": {},
     "output_type": "execute_result"
    }
   ],
   "source": [
    "#your code\n",
    "(apple.index.max() - apple.index.min()).days"
   ]
  },
  {
   "cell_type": "markdown",
   "metadata": {},
   "source": [
    "### Step 29.在数据中一共有多少个月？"
   ]
  },
  {
   "cell_type": "code",
   "execution_count": 35,
   "metadata": {
    "ExecuteTime": {
     "end_time": "2023-10-06T17:58:33.318858300Z",
     "start_time": "2023-10-06T17:58:33.193276800Z"
    }
   },
   "outputs": [
    {
     "data": {
      "text/plain": "404"
     },
     "execution_count": 35,
     "metadata": {},
     "output_type": "execute_result"
    }
   ],
   "source": [
    "#your code\n",
    "apple_months = apple.resample('BM').mean()\n",
    "len(apple_months.index)\n"
   ]
  },
  {
   "cell_type": "markdown",
   "metadata": {},
   "source": [
    "### Step 30.按照时间顺序可视化Adj Close值"
   ]
  },
  {
   "cell_type": "code",
   "execution_count": 36,
   "metadata": {
    "ExecuteTime": {
     "end_time": "2023-10-06T17:58:43.111181600Z",
     "start_time": "2023-10-06T17:58:42.790737100Z"
    }
   },
   "outputs": [
    {
     "data": {
      "text/plain": "<Figure size 640x480 with 1 Axes>",
      "image/png": "[encoded data removed]"
     },
     "metadata": {},
     "output_type": "display_data"
    }
   ],
   "source": [
    "#your code\n",
    "apple['Adj Close'].plot()\n",
    "plt.show()"
   ]
  },
  {
   "cell_type": "code",
   "execution_count": null,
   "outputs": [],
   "source": [],
   "metadata": {
    "collapsed": false
   }
  }
 ],
 "metadata": {
  "kernelspec": {
   "display_name": "Python 3",
   "language": "python",
   "name": "python3"
  },
  "language_info": {
   "codemirror_mode": {
    "name": "ipython",
    "version": 3
   },
   "file_extension": ".py",
   "mimetype": "text/x-python",
   "name": "python",
   "nbconvert_exporter": "python",
   "pygments_lexer": "ipython3",
   "version": "3.8.16"
  },
  "toc": {
   "base_numbering": 1,
   "nav_menu": {},
   "number_sections": false,
   "sideBar": true,
   "skip_h1_title": false,
   "title_cell": "Table of Contents",
   "title_sidebar": "Contents",
   "toc_cell": false,
   "toc_position": {},
   "toc_section_display": true,
   "toc_window_display": false
  }
 },
 "nbformat": 4,
 "nbformat_minor": 2
}
