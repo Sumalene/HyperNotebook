{
 "cells": [
  {
   "cell_type": "markdown",
   "metadata": {},
   "source": [
    "## 使用NumPy进行数据计算"
   ]
  },
  {
   "cell_type": "code",
   "execution_count": 2,
   "metadata": {
    "ExecuteTime": {
     "end_time": "2023-09-20T11:04:05.904119900Z",
     "start_time": "2023-09-20T11:04:05.751870100Z"
    }
   },
   "outputs": [],
   "source": [
    "import numpy as np"
   ]
  },
  {
   "cell_type": "markdown",
   "metadata": {},
   "source": [
    "#### 作业题目中需要用到的数组"
   ]
  },
  {
   "cell_type": "code",
   "execution_count": 3,
   "metadata": {
    "ExecuteTime": {
     "end_time": "2023-09-20T11:04:08.436116900Z",
     "start_time": "2023-09-20T11:04:08.360115500Z"
    }
   },
   "outputs": [],
   "source": [
    "np.random.seed(1)\n",
    "a1 = np.arange(10)\n",
    "a2 = np.array([1,5,7,4,3])\n",
    "a3 = np.arange(20).reshape(4,-1)\n",
    "a4 = np.random.uniform(10,20,50)\n",
    "a5 = np.random.randint(0,5,10)\n",
    "a6 = np.array([1, 3, 7, 1, 2, 6, 0, 1])\n",
    "a7 = np.random.randint(1,4,size = 6)\n",
    "a8 = np.random.randint(20,size = [2,6])\n",
    "b1 = np.arange(10).reshape(2,-1)\n",
    "b2 = np.repeat(1,10).reshape(2,-1)\n",
    "b3 = np.array(\n",
    "[np.arange(3),\n",
    "np.arange(3,6),\n",
    "np.arange(6,9)])\n",
    "b4 = np.array([1,2,3,4])\n",
    "b5 = np.array([5,6,7,8])"
   ]
  },
  {
   "cell_type": "markdown",
   "metadata": {},
   "source": [
    "#### 例题以及答案格式"
   ]
  },
  {
   "cell_type": "code",
   "execution_count": 4,
   "metadata": {},
   "outputs": [
    {
     "data": {
      "text/plain": [
       "array([[ True,  True,  True],\n",
       "       [ True,  True,  True],\n",
       "       [ True,  True,  True]])"
      ]
     },
     "execution_count": 4,
     "metadata": {},
     "output_type": "execute_result"
    }
   ],
   "source": [
    "# Q.创建一个3×3的所有值为True的numpy数组\n",
    "# A:\n",
    "out = np.ones((3,3),dtype = bool)\n",
    "out   #运行之后可以直接看到结果"
   ]
  },
  {
   "cell_type": "markdown",
   "metadata": {},
   "source": [
    "#### 作业共25道，Q为题目序号，A为答案序号，请阅读题目后在A下作答，不要删除题目中的np.random.seed"
   ]
  },
  {
   "cell_type": "markdown",
   "metadata": {},
   "source": [
    "##### Q1.将a1转换为2行的2维数组 *注：答案中只明确是2行，系统自动确定列数(★☆☆)"
   ]
  },
  {
   "cell_type": "code",
   "execution_count": 4,
   "metadata": {
    "ExecuteTime": {
     "end_time": "2023-09-20T11:04:20.822041800Z",
     "start_time": "2023-09-20T11:04:20.727507Z"
    }
   },
   "outputs": [
    {
     "data": {
      "text/plain": "array([[0, 1, 2, 3, 4],\n       [5, 6, 7, 8, 9]])"
     },
     "execution_count": 4,
     "metadata": {},
     "output_type": "execute_result"
    }
   ],
   "source": [
    "# A1:\n",
    "arr = a1.reshape(2,-1)\n",
    "arr"
   ]
  },
  {
   "cell_type": "markdown",
   "metadata": {},
   "source": [
    "##### Q2.创建一个10*10的随机数组，并找到这个数组中的最大值、最小值和平均值(★☆☆)"
   ]
  },
  {
   "cell_type": "code",
   "execution_count": 5,
   "metadata": {
    "ExecuteTime": {
     "end_time": "2023-09-20T11:06:11.315755800Z",
     "start_time": "2023-09-20T11:06:11.302754700Z"
    }
   },
   "outputs": [
    {
     "name": "stdout",
     "output_type": "stream",
     "text": [
      "98 0 50.67\n"
     ]
    }
   ],
   "source": [
    "# A2:\n",
    "arr_random = np.random.randint(0,100,size = [10,10])\n",
    "# 找到最大值\n",
    "a=arr_random.max()\n",
    "# 找到最小值\n",
    "b=arr_random.min()\n",
    "# 找到平均值\n",
    "c=arr_random.mean()\n",
    "print(a,b,c)"
   ]
  },
  {
   "cell_type": "markdown",
   "metadata": {},
   "source": [
    "##### Q3.创建一个随机5*5矩阵并对它进行归一化（减去平均值再除以方差）(★☆☆)"
   ]
  },
  {
   "cell_type": "code",
   "execution_count": 6,
   "metadata": {
    "ExecuteTime": {
     "end_time": "2023-09-20T11:06:58.076225600Z",
     "start_time": "2023-09-20T11:06:57.939742Z"
    }
   },
   "outputs": [
    {
     "name": "stdout",
     "output_type": "stream",
     "text": [
      "[[ 0.02589964 -0.02269255 -0.00082607  0.04776612 -0.02512216]\n",
      " [-0.06278111  0.03683288  0.03561807 -0.00690009  0.00038874]\n",
      " [-0.02633697 -0.03119618  0.00160354  0.03440327 -0.02755177]\n",
      " [-0.03119618  0.04898092  0.02468483 -0.05549228  0.05505495]\n",
      " [-0.02633697 -0.05549228  0.03683288  0.02832925 -0.00447048]]\n"
     ]
    }
   ],
   "source": [
    "#A3：\n",
    "arr_random = np.random.randint(0,100,size = [5,5])\n",
    "# 找到平均值\n",
    "a=arr_random.mean()\n",
    "# 找到方差\n",
    "b=arr_random.var()\n",
    "# 归一化\n",
    "c=(arr_random-a)/b\n",
    "print(c)"
   ]
  },
  {
   "cell_type": "markdown",
   "metadata": {},
   "source": [
    "##### Q4.删除a1中所包含的a2的元素(★☆☆)"
   ]
  },
  {
   "cell_type": "code",
   "execution_count": 7,
   "metadata": {
    "ExecuteTime": {
     "end_time": "2023-09-20T11:08:28.128256600Z",
     "start_time": "2023-09-20T11:08:28.014049500Z"
    }
   },
   "outputs": [
    {
     "data": {
      "text/plain": "array([0, 2, 6, 8, 9])"
     },
     "execution_count": 7,
     "metadata": {},
     "output_type": "execute_result"
    }
   ],
   "source": [
    "# A4：\n",
    "arr = np.delete(a1,a2)\n",
    "arr"
   ]
  },
  {
   "cell_type": "markdown",
   "metadata": {},
   "source": [
    "##### Q5.提取a1中的所有奇数为新的数组，并使得a1不发生改变(★☆☆)"
   ]
  },
  {
   "cell_type": "code",
   "execution_count": 8,
   "metadata": {
    "ExecuteTime": {
     "end_time": "2023-09-20T11:08:47.103863400Z",
     "start_time": "2023-09-20T11:08:47.037650900Z"
    }
   },
   "outputs": [
    {
     "data": {
      "text/plain": "array([1, 3, 5, 7, 9])"
     },
     "execution_count": 8,
     "metadata": {},
     "output_type": "execute_result"
    }
   ],
   "source": [
    "# A5:\n",
    "arr = a1[a1%2==1]\n",
    "arr"
   ]
  },
  {
   "cell_type": "markdown",
   "metadata": {},
   "source": [
    "##### Q6.交换数组a3中的第一行和第3行，第二列和最后一列(★☆☆)"
   ]
  },
  {
   "cell_type": "code",
   "execution_count": 9,
   "metadata": {
    "ExecuteTime": {
     "end_time": "2023-09-20T11:09:06.388793900Z",
     "start_time": "2023-09-20T11:09:06.270483700Z"
    }
   },
   "outputs": [
    {
     "data": {
      "text/plain": "array([[10, 14, 12, 13, 11],\n       [ 5,  9,  7,  8,  6],\n       [ 0,  4,  2,  3,  1],\n       [15, 19, 17, 18, 16]])"
     },
     "execution_count": 9,
     "metadata": {},
     "output_type": "execute_result"
    }
   ],
   "source": [
    "# A6：\n",
    "arr = a3.copy()\n",
    "arr[[0,2],:] = arr[[2,0],:]\n",
    "arr[:,[1,-1]] = arr[:,[-1,1]]\n",
    "arr"
   ]
  },
  {
   "cell_type": "markdown",
   "metadata": {},
   "source": [
    "##### Q7.(1)反转a3的行 （2）反转a3的列(★☆☆)"
   ]
  },
  {
   "cell_type": "code",
   "execution_count": 10,
   "metadata": {
    "ExecuteTime": {
     "end_time": "2023-09-20T11:10:48.190566Z",
     "start_time": "2023-09-20T11:10:48.084010900Z"
    }
   },
   "outputs": [
    {
     "data": {
      "text/plain": "array([[11, 13, 12, 14, 10],\n       [ 6,  8,  7,  9,  5],\n       [ 1,  3,  2,  4,  0],\n       [16, 18, 17, 19, 15]])"
     },
     "execution_count": 10,
     "metadata": {},
     "output_type": "execute_result"
    }
   ],
   "source": [
    "# A7：\n",
    "arr1 = a3.copy()\n",
    "arr1 = arr[::-1,:]\n",
    "arr1\n",
    "arr2 = a3.copy()\n",
    "arr2 = arr[:,::-1]\n",
    "arr2"
   ]
  },
  {
   "cell_type": "markdown",
   "metadata": {},
   "source": [
    "##### Q8.在b1的周围加一个全部为0的边框(★★☆)"
   ]
  },
  {
   "cell_type": "code",
   "execution_count": 11,
   "metadata": {
    "ExecuteTime": {
     "end_time": "2023-09-20T11:11:04.383175500Z",
     "start_time": "2023-09-20T11:11:04.277158100Z"
    }
   },
   "outputs": [
    {
     "data": {
      "text/plain": "array([[0, 0, 0, 0, 0, 0, 0],\n       [0, 0, 1, 2, 3, 4, 0],\n       [0, 5, 6, 7, 8, 9, 0],\n       [0, 0, 0, 0, 0, 0, 0]])"
     },
     "execution_count": 11,
     "metadata": {},
     "output_type": "execute_result"
    }
   ],
   "source": [
    "# A8：\n",
    "arr = np.pad(b1,1,'constant',constant_values = 0)\n",
    "arr"
   ]
  },
  {
   "cell_type": "markdown",
   "metadata": {},
   "source": [
    "##### Q9.创建一个5*5的矩阵，值“1，2，3，4”在此矩阵对角线的正上方(★★☆)"
   ]
  },
  {
   "cell_type": "code",
   "execution_count": 12,
   "metadata": {
    "ExecuteTime": {
     "end_time": "2023-09-20T11:11:19.385465500Z",
     "start_time": "2023-09-20T11:11:19.236925700Z"
    }
   },
   "outputs": [
    {
     "data": {
      "text/plain": "array([[0, 0, 0, 0, 0],\n       [1, 0, 0, 0, 0],\n       [0, 2, 0, 0, 0],\n       [0, 0, 3, 0, 0],\n       [0, 0, 0, 4, 0]])"
     },
     "execution_count": 12,
     "metadata": {},
     "output_type": "execute_result"
    }
   ],
   "source": [
    "# A9：\n",
    "arr = np.diag(1+np.arange(4),k = -1)\n",
    "arr"
   ]
  },
  {
   "cell_type": "markdown",
   "metadata": {},
   "source": [
    "##### Q10.从数组a3中提取7到16之间的所有元素，包括7和16(★★☆)"
   ]
  },
  {
   "cell_type": "code",
   "execution_count": 13,
   "metadata": {
    "ExecuteTime": {
     "end_time": "2023-09-20T11:11:36.919782500Z",
     "start_time": "2023-09-20T11:11:36.854963900Z"
    }
   },
   "outputs": [
    {
     "data": {
      "text/plain": "array([ 7,  8,  9, 10, 11, 12, 13, 14, 15, 16])"
     },
     "execution_count": 13,
     "metadata": {},
     "output_type": "execute_result"
    }
   ],
   "source": [
    "# A10:\n",
    "arr = a3[(a3>=7)&(a3<=16)]\n",
    "arr"
   ]
  },
  {
   "cell_type": "markdown",
   "metadata": {},
   "source": [
    "##### Q11.创建一个4*6的二维数组，包含10~20之间的浮点数，并保留三位小数(★★☆)"
   ]
  },
  {
   "cell_type": "code",
   "execution_count": 14,
   "metadata": {
    "ExecuteTime": {
     "end_time": "2023-09-20T11:12:42.376052100Z",
     "start_time": "2023-09-20T11:12:42.116707200Z"
    }
   },
   "outputs": [
    {
     "data": {
      "text/plain": "array([[10.36 , 16.543, 11.298, 12.944, 13.608, 12.746],\n       [10.74 , 11.521, 11.616, 19.387, 13.711, 10.5  ],\n       [17.41 , 12.987, 12.044, 19.818, 18.93 , 17.593],\n       [16.511, 10.397, 18.139, 17.626, 14.553, 15.318]])"
     },
     "execution_count": 14,
     "metadata": {},
     "output_type": "execute_result"
    }
   ],
   "source": [
    "#A11：\n",
    "arr = np.random.uniform(10,20,size = [4,6])\n",
    "arr = np.round(arr,3) #保留三位小数\n",
    "arr"
   ]
  },
  {
   "cell_type": "markdown",
   "metadata": {},
   "source": [
    "##### Q12.将b3转换为一维数组(★★☆)"
   ]
  },
  {
   "cell_type": "code",
   "execution_count": 15,
   "metadata": {
    "ExecuteTime": {
     "end_time": "2023-09-20T11:12:53.920511800Z",
     "start_time": "2023-09-20T11:12:53.893341Z"
    }
   },
   "outputs": [
    {
     "data": {
      "text/plain": "array([0, 1, 2, 3, 4, 5, 6, 7, 8])"
     },
     "execution_count": 15,
     "metadata": {},
     "output_type": "execute_result"
    }
   ],
   "source": [
    "# A12：\n",
    "arr = b3.flatten()\n",
    "arr"
   ]
  },
  {
   "cell_type": "markdown",
   "metadata": {},
   "source": [
    "##### Q13.获取a4中前五个最大的值(★★☆)"
   ]
  },
  {
   "cell_type": "code",
   "execution_count": 16,
   "metadata": {
    "ExecuteTime": {
     "end_time": "2023-09-20T11:13:24.563712600Z",
     "start_time": "2023-09-20T11:13:24.542235100Z"
    }
   },
   "outputs": [
    {
     "data": {
      "text/plain": "array([18.94606664, 19.08595503, 19.5788953 , 19.68261576, 19.88861089])"
     },
     "execution_count": 16,
     "metadata": {},
     "output_type": "execute_result"
    }
   ],
   "source": [
    "# A13：\n",
    "arr = np.sort(a4)[-5:]\n",
    "arr"
   ]
  },
  {
   "cell_type": "markdown",
   "metadata": {},
   "source": [
    "##### Q14.计算b4和b5之间的欧式距离(★★☆)"
   ]
  },
  {
   "cell_type": "code",
   "execution_count": 17,
   "metadata": {
    "ExecuteTime": {
     "end_time": "2023-09-20T11:15:14.986881200Z",
     "start_time": "2023-09-20T11:15:14.777686400Z"
    }
   },
   "outputs": [
    {
     "data": {
      "text/plain": "8.0"
     },
     "execution_count": 17,
     "metadata": {},
     "output_type": "execute_result"
    }
   ],
   "source": [
    "# A14:\n",
    "arr = np.linalg.norm(b4-b5)\n",
    "# 输出距离\n",
    "arr"
   ]
  },
  {
   "cell_type": "markdown",
   "metadata": {},
   "source": [
    "##### Q15:找出a5中重复的元素并标记为True（如果元素第一次出现则标记为False） (★★★)"
   ]
  },
  {
   "cell_type": "code",
   "execution_count": 18,
   "metadata": {
    "ExecuteTime": {
     "end_time": "2023-09-20T11:15:51.398729100Z",
     "start_time": "2023-09-20T11:15:51.325149600Z"
    }
   },
   "outputs": [
    {
     "data": {
      "text/plain": "array([1, 3, 0, 0, 2, 2, 1, 3, 4, 2])"
     },
     "execution_count": 18,
     "metadata": {},
     "output_type": "execute_result"
    }
   ],
   "source": [
    "a5"
   ]
  },
  {
   "cell_type": "code",
   "execution_count": 19,
   "metadata": {
    "ExecuteTime": {
     "end_time": "2023-09-20T11:16:02.010270200Z",
     "start_time": "2023-09-20T11:16:01.786241300Z"
    }
   },
   "outputs": [
    {
     "data": {
      "text/plain": "array([False, False, False, False, False, False, False, False, False,\n       False])"
     },
     "execution_count": 19,
     "metadata": {},
     "output_type": "execute_result"
    }
   ],
   "source": [
    "# A15：\n",
    "arr = np.full(a5.shape,False)\n",
    "arr"
   ]
  },
  {
   "cell_type": "markdown",
   "metadata": {},
   "source": [
    "##### Q16:给出下列A和B，求解2Ax = B(★★★)"
   ]
  },
  {
   "cell_type": "code",
   "execution_count": 20,
   "metadata": {
    "ExecuteTime": {
     "end_time": "2023-09-20T11:16:21.824088800Z",
     "start_time": "2023-09-20T11:16:21.549730600Z"
    }
   },
   "outputs": [
    {
     "data": {
      "text/plain": "array([10.5,  1.5, -2.5])"
     },
     "execution_count": 20,
     "metadata": {},
     "output_type": "execute_result"
    }
   ],
   "source": [
    "A = np.array([[1,2,3],[-1,-3,-9],[2,2,8]])\n",
    "B = np.array([12,15,8])\n",
    "# A16：\n",
    "arr = np.linalg.solve(2*A,B)\n",
    "arr"
   ]
  },
  {
   "cell_type": "markdown",
   "metadata": {},
   "source": [
    "##### Q17:筛选iris_2d中同时满足行petallength (3rd column) > 1.5sepallength (1st column) < 5.0的项目"
   ]
  },
  {
   "cell_type": "code",
   "execution_count": 21,
   "metadata": {
    "ExecuteTime": {
     "end_time": "2023-09-20T11:16:50.316832200Z",
     "start_time": "2023-09-20T11:16:48.508586400Z"
    }
   },
   "outputs": [
    {
     "data": {
      "text/plain": "array([[4.8, 3.4, 1.6, 0.2],\n       [4.8, 3.4, 1.9, 0.2],\n       [4.7, 3.2, 1.6, 0.2],\n       [4.8, 3.1, 1.6, 0.2],\n       [4.9, 2.4, 3.3, 1. ],\n       [4.9, 2.5, 4.5, 1.7]])"
     },
     "execution_count": 21,
     "metadata": {},
     "output_type": "execute_result"
    }
   ],
   "source": [
    "url = 'https://archive.ics.uci.edu/ml/machine-learning-databases/iris/iris.data'\n",
    "iris_2d = np.genfromtxt(url, delimiter=',', dtype='float', usecols=[0,1,2,3])\n",
    "#A17：\n",
    "arr = iris_2d[(iris_2d[:,2]>1.5)&(iris_2d[:,0]<5.0)]\n",
    "arr"
   ]
  },
  {
   "cell_type": "markdown",
   "metadata": {},
   "source": [
    "##### Q18:对数组a8中各项目进行排名，数值越小排名越高，如果存在并列情况，在a8中位置越靠前则排名越高。\n",
    "##### 例：[1,3,4,5,4,1]——————排名为：[0,2,3,5,4,1]"
   ]
  },
  {
   "cell_type": "code",
   "execution_count": 22,
   "metadata": {
    "ExecuteTime": {
     "end_time": "2023-09-20T11:17:05.393950700Z",
     "start_time": "2023-09-20T11:17:05.282844700Z"
    }
   },
   "outputs": [
    {
     "data": {
      "text/plain": "array([[2, 1, 4, 5, 0, 3],\n       [0, 3, 5, 2, 1, 4]], dtype=int64)"
     },
     "execution_count": 22,
     "metadata": {},
     "output_type": "execute_result"
    }
   ],
   "source": [
    "# A18:\n",
    "arr = np.argsort(a8)\n",
    "arr"
   ]
  },
  {
   "cell_type": "markdown",
   "metadata": {},
   "source": [
    "##### Q19:以iris species作为输入，创建不同类别的ID.\n",
    "##### 如令所有的'Iris-setosa'都为0,所有的'Iris-versicolor'都为1(★★★)"
   ]
  },
  {
   "cell_type": "code",
   "execution_count": 23,
   "metadata": {
    "ExecuteTime": {
     "end_time": "2023-09-20T11:17:21.056293200Z",
     "start_time": "2023-09-20T11:17:20.849555900Z"
    }
   },
   "outputs": [
    {
     "data": {
      "text/plain": "(array(['Iris-setosa', 'Iris-versicolor', 'Iris-virginica'], dtype='<U15'),\n array([0, 0, 0, 0, 0, 0, 0, 0, 0, 0, 0, 0, 0, 0, 0, 0, 0, 0, 0, 0, 0, 0,\n        0, 0, 0, 0, 0, 0, 0, 0, 0, 0, 0, 0, 0, 0, 0, 0, 0, 0, 0, 0, 0, 0,\n        0, 0, 0, 0, 0, 0, 1, 1, 1, 1, 1, 1, 1, 1, 1, 1, 1, 1, 1, 1, 1, 1,\n        1, 1, 1, 1, 1, 1, 1, 1, 1, 1, 1, 1, 1, 1, 1, 1, 1, 1, 1, 1, 1, 1,\n        1, 1, 1, 1, 1, 1, 1, 1, 1, 1, 1, 1, 2, 2, 2, 2, 2, 2, 2, 2, 2, 2,\n        2, 2, 2, 2, 2, 2, 2, 2, 2, 2, 2, 2, 2, 2, 2, 2, 2, 2, 2, 2, 2, 2,\n        2, 2, 2, 2, 2, 2, 2, 2, 2, 2, 2, 2, 2, 2, 2, 2, 2, 2], dtype=int64))"
     },
     "execution_count": 23,
     "metadata": {},
     "output_type": "execute_result"
    }
   ],
   "source": [
    "url = 'https://archive.ics.uci.edu/ml/machine-learning-databases/iris/iris.data'\n",
    "species = np.genfromtxt(url,delimiter = ',',dtype = 'str',usecols = 4)\n",
    "# A19：\n",
    "arr = np.unique(species,return_inverse = True)\n",
    "arr"
   ]
  },
  {
   "cell_type": "markdown",
   "metadata": {},
   "source": [
    "##### Q20:创建一个3*10的numpy数组Z\n",
    "##### 请回答print函数中的代码的功能(★★★)"
   ]
  },
  {
   "cell_type": "code",
   "execution_count": 105,
   "metadata": {},
   "outputs": [],
   "source": [
    "Z = np.random.randint(0,3,(3,10)) "
   ]
  },
  {
   "cell_type": "code",
   "execution_count": 106,
   "metadata": {},
   "outputs": [
    {
     "data": {
      "text/plain": [
       "array([[2, 2, 0, 1, 2, 1, 1, 1, 1, 0],\n",
       "       [1, 2, 1, 0, 0, 2, 2, 1, 0, 0],\n",
       "       [0, 2, 2, 0, 1, 1, 1, 2, 1, 1]])"
      ]
     },
     "execution_count": 106,
     "metadata": {},
     "output_type": "execute_result"
    }
   ],
   "source": [
    "Z"
   ]
  },
  {
   "cell_type": "code",
   "execution_count": 111,
   "metadata": {},
   "outputs": [
    {
     "data": {
      "text/plain": [
       "False"
      ]
     },
     "execution_count": 111,
     "metadata": {},
     "output_type": "execute_result"
    }
   ],
   "source": [
    "(~Z.any(axis=0)).any()"
   ]
  },
  {
   "cell_type": "code",
   "execution_count": 112,
   "metadata": {},
   "outputs": [
    {
     "data": {
      "text/plain": [
       "array([False, False, False, False, False, False, False, False, False,\n",
       "       False])"
      ]
     },
     "execution_count": 112,
     "metadata": {},
     "output_type": "execute_result"
    }
   ],
   "source": [
    "~Z.any(axis=0)"
   ]
  },
  {
   "cell_type": "code",
   "execution_count": 102,
   "metadata": {},
   "outputs": [
    {
     "name": "stdout",
     "output_type": "stream",
     "text": [
      "False\n"
     ]
    }
   ],
   "source": [
    "print((~Z.any(axis=0)).any())"
   ]
  },
  {
   "cell_type": "code",
   "execution_count": null,
   "metadata": {},
   "outputs": [],
   "source": [
    "# A20：\n",
    "# 判断Z中是否存在全为0的列"
   ]
  }
 ],
 "metadata": {
  "kernelspec": {
   "display_name": "Python 3",
   "language": "python",
   "name": "python3"
  },
  "language_info": {
   "codemirror_mode": {
    "name": "ipython",
    "version": 3
   },
   "file_extension": ".py",
   "mimetype": "text/x-python",
   "name": "python",
   "nbconvert_exporter": "python",
   "pygments_lexer": "ipython3",
   "version": "3.11.5"
  },
  "toc": {
   "base_numbering": 1,
   "nav_menu": {},
   "number_sections": false,
   "sideBar": true,
   "skip_h1_title": false,
   "title_cell": "Table of Contents",
   "title_sidebar": "Contents",
   "toc_cell": false,
   "toc_position": {},
   "toc_section_display": true,
   "toc_window_display": false
  }
 },
 "nbformat": 4,
 "nbformat_minor": 2
}
