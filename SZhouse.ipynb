{
 "cells": [
  {
   "cell_type": "markdown",
   "metadata": {
    "id": "45F8683FE14A4FF2A0BF990DA32F3EAB",
    "mdEditEnable": false
   },
   "source": [
    "# 深圳二手房成价预测"
   ]
  },
  {
   "cell_type": "code",
   "execution_count": 1,
   "metadata": {
    "ExecuteTime": {
     "end_time": "2023-12-31T16:00:21.792966Z",
     "start_time": "2023-12-31T16:00:21.770018900Z"
    }
   },
   "outputs": [
    {
     "name": "stdout",
     "output_type": "stream",
     "text": [
      "ok\n"
     ]
    }
   ],
   "source": [
    "print(\"ok\")"
   ]
  },
  {
   "cell_type": "code",
   "execution_count": null,
   "metadata": {
    "hide_input": true,
    "id": "6D0CA036080F4AF5837181B389D6AB23",
    "scrolled": false
   },
   "outputs": [],
   "source": [
    "import requests, time, re, csv, os, pandas_profiling\n",
    "from bs4 import BeautifulSoup as BS\n",
    "from multiprocessing import Pool\n",
    "from datetime import datetime\n",
    "import pandas as pd\n",
    "import matplotlib.pyplot as plt\n",
    "import seaborn as sns\n",
    "import numpy as np\n",
    "from urllib.request import quote\n",
    "import xgboost as xgb\n",
    "from sklearn.pipeline import Pipeline\n",
    "from sklearn.preprocessing import StandardScaler, PowerTransformer, PolynomialFeatures\n",
    "from sklearn.linear_model import LinearRegression, LassoCV, LogisticRegression\n",
    "from sklearn.ensemble import RandomForestClassifier, RandomForestRegressor\n",
    "from sklearn.model_selection import KFold, train_test_split, StratifiedKFold, GridSearchCV, cross_val_score\n",
    "from sklearn.metrics import mean_squared_error, mean_absolute_error, r2_score, accuracy_score, \\\n",
    "    precision_score, recall_score, roc_auc_score"
   ]
  },
  {
   "cell_type": "markdown",
   "metadata": {
    "id": "50D6FF6A501F4B96976DCA47C235B6AD",
    "mdEditEnable": false
   },
   "source": [
    "### 3.1 特征选取"
   ]
  },
  {
   "cell_type": "code",
   "execution_count": 2,
   "metadata": {
    "id": "DE05BAAF452A407690635B525F5B4FA7",
    "scrolled": false
   },
   "outputs": [],
   "source": [
    "\n",
    "df3 = pd.read_csv('data.csv').reset_index(drop=True)\n",
    "df3[['经度', '纬度']] = df3[['经度', '纬度']].round(6)"
   ]
  },
  {
   "cell_type": "code",
   "execution_count": 187,
   "metadata": {
    "id": "7A32D97FDA4240948264BAE8A5F9768D",
    "scrolled": false
   },
   "outputs": [
    {
     "name": "stdout",
     "output_type": "stream",
     "text": [
      "CPU times: user 0 ns, sys: 0 ns, total: 0 ns\n",
      "Wall time: 8.11 µs\n"
     ]
    }
   ],
   "source": [
    "def get_poi(row, search, radius):\n",
    "    search = quote(search)\n",
    "    lat_lng = str(row['纬度']) + ',' + str(row['经度'])\n",
    "    radius = radius\n",
    "    ak = 213\n",
    "    url = f'http://api.map.baidu.com/place/v2/search?query={search}&location={lat_lng}&radius={radius}&output=json&ak={ak}'\n",
    "    result = requests.get(url)\n",
    "    return len(result.json()['results'])\n",
    "\n",
    "\n",
    "for s in ['地铁站', '公交车站', '三甲医院', '小学']:\n",
    "    for r in [500, 1000, 2000]:\n",
    "        poi[f'{s}_{r}m'] = poi.apply(get_poi, search=s, radius=r, axis=1)\n"
   ]
  },
  {
   "cell_type": "markdown",
   "metadata": {
    "id": "1604397D14314C8E83BC37C106C1A847",
    "mdEditEnable": false
   },
   "source": [
    "**(2) 原数据集字段选取**"
   ]
  },
  {
   "cell_type": "code",
   "execution_count": 188,
   "metadata": {
    "id": "92F0BDFD39E64069AD5D20DE28FBAB83",
    "scrolled": false
   },
   "outputs": [
    {
     "name": "stdout",
     "output_type": "stream",
     "text": [
      "<class 'pandas.core.frame.DataFrame'>\n",
      "RangeIndex: 8802 entries, 0 to 8801\n",
      "Data columns (total 16 columns):\n",
      "经度      8802 non-null float64\n",
      "纬度      8802 non-null float64\n",
      "成交价     8802 non-null int64\n",
      "房屋户型    8802 non-null object\n",
      "所在楼层    8802 non-null object\n",
      "建筑面积    8802 non-null float64\n",
      "户型结构    7810 non-null object\n",
      "建筑类型    8737 non-null object\n",
      "房屋朝向    8802 non-null object\n",
      "建成年代    8786 non-null float64\n",
      "装修情况    8802 non-null object\n",
      "产权年限    8802 non-null object\n",
      "配备电梯    8556 non-null object\n",
      "房屋用途    8802 non-null object\n",
      "房权所属    7897 non-null object\n",
      "楼层数     8802 non-null int64\n",
      "dtypes: float64(4), int64(2), object(10)\n",
      "memory usage: 1.1+ MB\n"
     ]
    }
   ],
   "source": [
    "df3 = df3.drop(['成交时间', '调价', '带看', '关注', '浏览', '房屋年限', '挂牌时间', '梯户比例', '交易权属',\n",
    "                '建筑结构', '挂牌价格', '成交单价', '成交周期', '区域', '子区域', '套内面积', '楼盘名称'], axis=1)\n",
    "df3.info()"
   ]
  },
  {
   "cell_type": "markdown",
   "metadata": {
    "id": "A36BC316643D441D9FFCA826BDB3EEF3",
    "mdEditEnable": false
   },
   "source": [
    "**(3) 合成建模数据集**"
   ]
  },
  {
   "cell_type": "code",
   "execution_count": 3,
   "metadata": {
    "id": "E168E15AED25497DB87EE347007C86FA",
    "scrolled": false
   },
   "outputs": [
    {
     "name": "stdout",
     "output_type": "stream",
     "text": [
      "<class 'pandas.core.frame.DataFrame'>\n",
      "Int64Index: 8802 entries, 0 to 8801\n",
      "Data columns (total 45 columns):\n",
      "楼盘名称          8802 non-null object\n",
      "经度            8802 non-null float64\n",
      "纬度            8802 non-null float64\n",
      "成交时间          8802 non-null object\n",
      "成交价           8802 non-null int64\n",
      "成交单价          8802 non-null float64\n",
      "区域            8802 non-null object\n",
      "子区域           8800 non-null object\n",
      "挂牌价格          8802 non-null float64\n",
      "成交周期          8802 non-null float64\n",
      "调价            8802 non-null int64\n",
      "带看            8802 non-null int64\n",
      "关注            8802 non-null int64\n",
      "浏览            8640 non-null float64\n",
      "房屋户型          8802 non-null object\n",
      "所在楼层          8802 non-null object\n",
      "建筑面积          8802 non-null float64\n",
      "户型结构          7810 non-null object\n",
      "套内面积          4688 non-null float64\n",
      "建筑类型          8737 non-null object\n",
      "房屋朝向          8802 non-null object\n",
      "建成年代          8786 non-null float64\n",
      "装修情况          8802 non-null object\n",
      "建筑结构          8802 non-null object\n",
      "梯户比例          8802 non-null object\n",
      "产权年限          8802 non-null object\n",
      "配备电梯          8556 non-null object\n",
      "交易权属          8802 non-null object\n",
      "挂牌时间          8802 non-null object\n",
      "房屋用途          8802 non-null object\n",
      "房屋年限          7349 non-null object\n",
      "房权所属          7897 non-null object\n",
      "楼层数           8802 non-null int64\n",
      "地铁站_500m      8802 non-null int64\n",
      "地铁站_1000m     8802 non-null int64\n",
      "地铁站_2000m     8802 non-null int64\n",
      "公交车站_500m     8802 non-null int64\n",
      "公交车站_1000m    8802 non-null int64\n",
      "公交车站_2000m    8802 non-null int64\n",
      "三甲医院_500m     8802 non-null int64\n",
      "三甲医院_1000m    8802 non-null int64\n",
      "三甲医院_2000m    8802 non-null int64\n",
      "小学_500m       8802 non-null int64\n",
      "小学_1000m      8802 non-null int64\n",
      "小学_2000m      8802 non-null int64\n",
      "dtypes: float64(9), int64(17), object(19)\n",
      "memory usage: 3.1+ MB\n"
     ]
    }
   ],
   "source": [
    "poi = pd.read_csv('poi.csv').drop('楼盘名称', axis=1)\n",
    "poi[['经度', '纬度']] = poi[['经度', '纬度']].round(6)\n",
    "df_merge = pd.merge(df3, poi, how='left', on=['经度', '纬度'])\n",
    "df_merge.info()"
   ]
  },
  {
   "cell_type": "markdown",
   "metadata": {
    "id": "DEF123DB90094BA1A1BE640A3FAB946A",
    "mdEditEnable": false
   },
   "source": [
    "### 3.2 数据预处理&查看"
   ]
  },
  {
   "cell_type": "markdown",
   "metadata": {
    "id": "B0F339E2E747455D80B6C92103F3E79D",
    "mdEditEnable": false
   },
   "source": [
    "**(1) 数据预处理函数构建**"
   ]
  },
  {
   "cell_type": "code",
   "execution_count": 190,
   "metadata": {
    "id": "EF20C1F1FFBD4BC1AA9478890374FC9B",
    "scrolled": false
   },
   "outputs": [],
   "source": [
    "# 异常值处理\n",
    "def show_error(df, col, whis=1.5, show=False):\n",
    "    iqr = df[col].quantile(0.75) - df[col].quantile(0.25)\n",
    "    upper_bound = df[col].quantile(0.75) + whis * iqr  # 上界\n",
    "    lower_bound = df[col].quantile(0.25) - whis * iqr  # 下界\n",
    "    print('【', col, '】上界异常值总数：', df[col][df[col] > upper_bound].count())\n",
    "    if show:\n",
    "        print('异常值示例：\\n', df[df[col] > upper_bound].head(5).T)\n",
    "    print('【', col, '】下界异常值总数：', df[col][df[col] < lower_bound].count())\n",
    "    if show:\n",
    "        print('异常值示例：\\n', df[df[col] < lower_bound].head(5).T)\n",
    "    print('- - - - - - ')\n",
    "\n",
    "\n",
    "def drop_error(df, col, whis=1.5):\n",
    "    iqr = df[col].quantile(0.75) - df[col].quantile(0.25)\n",
    "    upper_bound = df[col].quantile(0.75) + whis * iqr  # 上界\n",
    "    lower_bound = df[col].quantile(0.25) - whis * iqr  # 下界\n",
    "    data_del = df[col][(df[col] > upper_bound) | (df[col] < lower_bound)].count()\n",
    "    data = df[(df[col] <= upper_bound) & (df[col] >= lower_bound)]\n",
    "    print(f'【{col}】总剔除数据量：', data_del)\n",
    "    return data.reset_index(drop=True)"
   ]
  },
  {
   "cell_type": "code",
   "execution_count": 1,
   "metadata": {
    "id": "507A9DA28FEC4569BB65F38DDDEFD4BD",
    "scrolled": false
   },
   "outputs": [],
   "source": [
    "# 空值处理\n",
    "def fill_with_neighbor_or_mode(df, col):\n",
    "    loc = df[df[col].isna()][['经度', '纬度']]\n",
    "    loclist = set((l[1], l[2]) for l in loc.itertuples())\n",
    "    mode_number = df[col].mode()[0]\n",
    "    for i in loclist:\n",
    "        try:\n",
    "            r = df[(df.经度 == i[0]) & (df.纬度 == i[1])][col].mode()[0]\n",
    "            df.loc[(df.经度 == i[0]) & (df.纬度 == i[1]) & df[col].isna(), col] = r\n",
    "        except Exception as e:\n",
    "            df.loc[(df.经度 == i[0]) & (df.纬度 == i[1]) & df[col].isna(), col] = mode_number\n",
    "    print(f'fill_with_neighbor_or_mode - {col} , done!')"
   ]
  },
  {
   "cell_type": "code",
   "execution_count": 2,
   "metadata": {
    "id": "782D63576B01488E8F6B84E46C6B0D26",
    "scrolled": false
   },
   "outputs": [],
   "source": [
    "# 房屋户型哑变量获取\n",
    "def roomtype_get_dummies(df):\n",
    "    roomtype = df.房屋户型.str.extract('(?P<室>\\d+)室(?P<厅>\\d+)厅(?P<厨>\\d+)厨(?P<卫>\\d+)卫').astype(np.int8)\n",
    "    print('roomtype_get_dummies , done!')\n",
    "    return pd.merge(df, roomtype, how='left', left_index=True, right_index=True).drop('房屋户型', axis=1)"
   ]
  },
  {
   "cell_type": "code",
   "execution_count": 3,
   "metadata": {
    "id": "E5CA33E116804D1F9F632FB219CA6E9B",
    "scrolled": false
   },
   "outputs": [],
   "source": [
    "# 房屋朝向哑变量获取\n",
    "def orientation_get_dummies(df):\n",
    "    l = set()\n",
    "    for i in df.房屋朝向.str.split(' '):\n",
    "        l.update(i)\n",
    "    d = pd.DataFrame(np.zeros((len(df), len(l)), dtype=np.int8),\n",
    "                     columns=[f'房屋朝向_{i}' for i in l])\n",
    "    df = df.join(d)\n",
    "    for n in l:\n",
    "        df.loc[df.房屋朝向.str.contains(n), f'房屋朝向_{n}'] = 1\n",
    "    print('已获取房屋朝向哑变量')\n",
    "    return df.drop('房屋朝向', axis=1)"
   ]
  },
  {
   "cell_type": "code",
   "execution_count": 4,
   "metadata": {
    "id": "B866CE3F355A48DC869F2F66D53463FD",
    "scrolled": false
   },
   "outputs": [],
   "source": [
    "# 其他哑变量获取\n",
    "def dummies_getting(df, col):\n",
    "    df = pd.get_dummies(df, columns=col)\n",
    "    print(f'dummies_getting - {col} , done!')\n",
    "    return df"
   ]
  },
  {
   "cell_type": "markdown",
   "metadata": {
    "id": "7AF219D1CEC64952B999F492874ECD37",
    "mdEditEnable": false
   },
   "source": [
    "**(2) 数据预处理&查看**"
   ]
  },
  {
   "cell_type": "code",
   "execution_count": 195,
   "metadata": {
    "id": "6F1796FC790C4FB4BD4939EA94A69AD7",
    "scrolled": false
   },
   "outputs": [
    {
     "name": "stdout",
     "output_type": "stream",
     "text": [
      "fill_with_neighbor_or_mode - 户型结构 , done!\n",
      "fill_with_neighbor_or_mode - 建筑类型 , done!\n",
      "fill_with_neighbor_or_mode - 建成年代 , done!\n",
      "fill_with_neighbor_or_mode - 配备电梯 , done!\n",
      "fill_with_neighbor_or_mode - 房权所属 , done!\n",
      "fill_with_neighbor_or_mode - 产权年限 , done!\n"
     ]
    }
   ],
   "source": [
    "# 先处理空值\n",
    "df_merge.loc[df_merge.产权年限 == '未知', '产权年限'] = np.nan\n",
    "for i in ['户型结构', '建筑类型', '建成年代', '配备电梯', '房权所属', '产权年限']:\n",
    "    fill_with_neighbor_or_mode(df_merge, i)\n",
    "df_merge.产权年限 = df_merge.产权年限.str[:2].astype(np.int8)"
   ]
  },
  {
   "cell_type": "code",
   "execution_count": 196,
   "metadata": {
    "id": "740EACBC160B42868F25E61E48D76A2F",
    "scrolled": false
   },
   "outputs": [
    {
     "name": "stdout",
     "output_type": "stream",
     "text": [
      "【 成交价 】上界异常值总数： 192\n",
      "【 成交价 】下界异常值总数： 0\n",
      "- - - - - - \n",
      "【 建筑面积 】上界异常值总数： 31\n",
      "【 建筑面积 】下界异常值总数： 0\n",
      "- - - - - - \n",
      "【 楼层数 】上界异常值总数： 0\n",
      "【 楼层数 】下界异常值总数： 0\n",
      "- - - - - - \n",
      "【 建成年代 】上界异常值总数： 0\n",
      "【 建成年代 】下界异常值总数： 0\n",
      "- - - - - - \n"
     ]
    },
    {
     "data": {
      "text/html": [
       "<img src=\"https://cdn.kesci.com/rt_upload/740EACBC160B42868F25E61E48D76A2F/pzxtogbef6.png\">"
      ],
      "text/plain": [
       "<Figure size 1152x648 with 4 Axes>"
      ]
     },
     "metadata": {
      "needs_background": "light"
     },
     "output_type": "display_data"
    }
   ],
   "source": [
    "# 查看一下最终会保留的连续值字段异常值情况，注意这里whis是3\n",
    "plt.figure(figsize=(16, 9))\n",
    "for n, i in enumerate(['成交价', '建筑面积', '楼层数', '建成年代']):\n",
    "    plt.subplot(1, 4, n + 1)\n",
    "    plt.title(i)\n",
    "    sns.boxplot(df_merge[i], orient='v', width=0.2, whis=3)\n",
    "    plt.ylabel('')\n",
    "for i in ['成交价', '建筑面积', '楼层数', '建成年代']:\n",
    "    show_error(df_merge, i, whis=3)"
   ]
  },
  {
   "cell_type": "code",
   "execution_count": 197,
   "metadata": {
    "id": "38BEADCBA2774FA295888FC8F0F0DC53",
    "scrolled": false
   },
   "outputs": [
    {
     "name": "stdout",
     "output_type": "stream",
     "text": [
      "【成交价】总剔除数据量： 192\n",
      "【建筑面积】总剔除数据量： 3\n",
      "【楼层数】总剔除数据量： 0\n",
      "【建成年代】总剔除数据量： 0\n",
      "roomtype_get_dummies , done!\n",
      "orientation_get_dummies , done!\n",
      "dummies_getting - ['所在楼层', '户型结构', '建筑类型', '装修情况', '配备电梯', '房屋用途', '房权所属'] , done!\n"
     ]
    }
   ],
   "source": [
    "# 处理异常值 \n",
    "for i in ['成交价', '建筑面积', '楼层数', '建成年代']:\n",
    "    df_merge = drop_error(df_merge, i, whis=3)  # 注意这里whis是3\n",
    "\n",
    "# 房屋户型哑变量获取\n",
    "df_merge = roomtype_get_dummies(df_merge)\n",
    "\n",
    "# 房屋朝向哑变量获取\n",
    "df_merge = orientation_get_dummies(df_merge)\n",
    "\n",
    "# 其他哑变量获取\n",
    "columns = ['所在楼层', '户型结构', '建筑类型', '装修情况', '配备电梯', '房屋用途', '房权所属']\n",
    "df_merge = dummies_getting(df_merge, columns)"
   ]
  },
  {
   "cell_type": "code",
   "execution_count": 198,
   "metadata": {
    "id": "54EBF02CFEB34891B8D65F2CFE0218D9",
    "scrolled": false
   },
   "outputs": [
    {
     "data": {
      "text/html": [
       "<img src=\"https://cdn.kesci.com/rt_upload/54EBF02CFEB34891B8D65F2CFE0218D9/pzxtoighuh.png\">"
      ],
      "text/plain": [
       "<Figure size 1152x648 with 4 Axes>"
      ]
     },
     "metadata": {
      "needs_background": "light"
     },
     "output_type": "display_data"
    }
   ],
   "source": [
    "plt.figure(figsize=(16, 9))\n",
    "for n, i in enumerate(['成交价', '建筑面积', '楼层数', '建成年代']):\n",
    "    plt.subplot(4, 1, n + 1)\n",
    "    plt.title(i)\n",
    "    sns.distplot(df_merge[i])\n",
    "    plt.ylabel('')"
   ]
  },
  {
   "cell_type": "markdown",
   "source": [
    "整体分布偏态情况减小"
   ],
   "metadata": {
    "collapsed": false
   }
  },
  {
   "cell_type": "markdown",
   "metadata": {
    "id": "EAA6FCB33CA349209EBE584B2F607BE5",
    "mdEditEnable": false
   },
   "source": [
    "### 3.3 训练模型"
   ]
  },
  {
   "cell_type": "markdown",
   "metadata": {
    "id": "7490106EDC1943D28E12BCBE530B76E1",
    "mdEditEnable": false
   },
   "source": [
    "**(1) 数据准备**"
   ]
  },
  {
   "cell_type": "code",
   "execution_count": 218,
   "metadata": {
    "id": "FC41CCF9607C41E583289628420EA04C",
    "scrolled": false
   },
   "outputs": [],
   "source": [
    "# 准备训练、测试集\n",
    "X = df_merge.drop(['成交价'], axis=1)\n",
    "y = df_merge['成交价']\n",
    "xtrain, xtest, ytrain, ytest = train_test_split(X, y, test_size=0.2, random_state=42)  # random_state=42\n",
    "\n",
    "# k折交叉拆分器 - 用于网格搜索\n",
    "cv = KFold(n_splits=3, shuffle=True)"
   ]
  },
  {
   "cell_type": "code",
   "execution_count": 219,
   "metadata": {
    "id": "F2CB00769B114421A7F2CB133CF38C43",
    "scrolled": false
   },
   "outputs": [],
   "source": [
    "# 回归模型性能查看函数\n",
    "def perfomance_reg(model, X, y, name=None):\n",
    "    y_predict = model.predict(X)\n",
    "    check = pd.DataFrame(y)\n",
    "    check['y_predict'] = y_predict\n",
    "    check['abs_err'] = abs(check['y_predict'] - check[y.name])\n",
    "    check['ape'] = check['abs_err'] / check[y.name]\n",
    "    ape = check['ape'][check['ape'] != np.inf].mean()\n",
    "    if name:\n",
    "        print(name, ':')\n",
    "    print(f'mean squared error is: {mean_squared_error(y, y_predict)}')\n",
    "    print(f'mean absolute error is: {mean_absolute_error(y, y_predict)}')\n",
    "    print(f'R Squared is: {r2_score(y, y_predict)}')\n",
    "    print(f'mean absolute percent error is: {ape}')\n",
    "    print('- - - - - - ')"
   ]
  },
  {
   "cell_type": "markdown",
   "metadata": {
    "id": "35E4775A771F473588B3D3574AB18331",
    "mdEditEnable": false
   },
   "source": [
    "**(2) lasso回归模型**"
   ]
  },
  {
   "cell_type": "code",
   "execution_count": 220,
   "metadata": {
    "id": "AE473AAF63174BD09C83F663F168C9C1",
    "scrolled": false
   },
   "outputs": [
    {
     "name": "stderr",
     "output_type": "stream",
     "text": [
      "[Parallel(n_jobs=-1)]: Using backend ThreadingBackend with 2 concurrent workers.\n",
      "....................................................................................[Parallel(n_jobs=-1)]: Done   3 out of   3 | elapsed:   14.4s finished\n"
     ]
    },
    {
     "name": "stdout",
     "output_type": "stream",
     "text": [
      "最佳alpha值： 0.1\n",
      "train :\n",
      "mean squared error is: 5866.1306605690725\n",
      "mean absolute error is: 52.63572482286287\n",
      "R Squared is: 0.8142003463697659\n",
      "mean absolute percent error is: 0.15272275854277395\n",
      "- - - - - - \n",
      "test :\n",
      "mean squared error is: 6940.790079075325\n",
      "mean absolute error is: 56.64143852727948\n",
      "R Squared is: 0.7837884925316358\n",
      "mean absolute percent error is: 0.16194771064655833\n",
      "- - - - - - \n"
     ]
    }
   ],
   "source": [
    "# 定义LassoCV（可自动通过Cross Validation搜索最佳正则系数alpha）\n",
    "pipe_lassocv = Pipeline([\n",
    "    ('poly', PolynomialFeatures(degree=2)),\n",
    "    ('sc', StandardScaler()),\n",
    "    ('pwt', PowerTransformer()),\n",
    "    ('lasso_regr', LassoCV(\n",
    "        # 待搜索alpha值如下：\n",
    "        # alphas=(list(np.arange(1,10)*0.1)+list(np.arange(1,10))+list(np.arange(1,11)*10))\n",
    "        # alpha搜索完后发现0.1最合适\n",
    "        alphas=(list(np.arange(1, 10) * 0.1) + list(np.arange(1, 10)) + list(np.arange(1, 11) * 10)),\n",
    "        cv=KFold(n_splits=3, shuffle=True),  # 配合搜索参数使用\n",
    "        n_jobs=-1, verbose=1))\n",
    "])\n",
    "\n",
    "# 搜索参数并训练模型\n",
    "pipe_lassocv.fit(xtrain, ytrain)\n",
    "# 最佳参数组合\n",
    "print('最佳alpha值：', pipe_lassocv.named_steps['lasso_regr'].alpha_)\n",
    "# 训练集性能指标\n",
    "perfomance_reg(pipe_lassocv, xtrain, ytrain, name='train')\n",
    "# 测试集性能指标\n",
    "perfomance_reg(pipe_lassocv, xtest, ytest, name='test')"
   ]
  },
  {
   "cell_type": "markdown",
   "metadata": {
    "id": "0160C6BBA9804921B1D610EC8464D68C",
    "mdEditEnable": false
   },
   "source": [
    "**(3) 随机森林回归模型**"
   ]
  },
  {
   "cell_type": "code",
   "execution_count": 221,
   "metadata": {
    "id": "1BD3FC86B8FD4C098F8855D1191D700C",
    "scrolled": false
   },
   "outputs": [
    {
     "name": "stdout",
     "output_type": "stream",
     "text": [
      "Fitting 3 folds for each of 9 candidates, totalling 27 fits\n"
     ]
    },
    {
     "name": "stderr",
     "output_type": "stream",
     "text": [
      "[Parallel(n_jobs=-1)]: Using backend LokyBackend with 2 concurrent workers.\n",
      "[Parallel(n_jobs=-1)]: Done  14 tasks      | elapsed:  3.6min\n",
      "[Parallel(n_jobs=-1)]: Done  27 out of  27 | elapsed:  7.1min finished\n"
     ]
    },
    {
     "name": "stdout",
     "output_type": "stream",
     "text": [
      "最佳alpha值： {'max_depth': 10, 'max_features': 'auto', 'n_estimators': 500}\n",
      "train :\n",
      "mean squared error is: 1418.8145215140926\n",
      "mean absolute error is: 24.641916388425237\n",
      "R Squared is: 0.9550614771616268\n",
      "mean absolute percent error is: 0.06822412461801346\n",
      "- - - - - - \n",
      "test :\n",
      "mean squared error is: 3337.751860311248\n",
      "mean absolute error is: 35.17980895328542\n",
      "R Squared is: 0.896026193984911\n",
      "mean absolute percent error is: 0.09469746708246876\n",
      "- - - - - - \n"
     ]
    }
   ],
   "source": [
    "# 定义RandomForestRegressor随机森林回归模型\n",
    "rf_reg = RandomForestRegressor(criterion='mse',\n",
    "                               n_jobs=-1, )  # random_state\n",
    "# 参数设定\n",
    "rf_grid_params = {'max_features': ['auto'],  # ['auto',0.5,0.6,0.9] 带搜索参数\n",
    "                  'max_depth': [8, 9, 10],  # [3,6,9]\n",
    "                  'n_estimators': [500, 800, 1000]}\n",
    "# 参数搜索\n",
    "rf_gridsearch = GridSearchCV(rf_reg, rf_grid_params, cv=cv,\n",
    "                             n_jobs=-1, scoring='neg_mean_squared_error', verbose=5, refit=True)\n",
    "# 工作流管道\n",
    "pipe_rf = Pipeline([\n",
    "    ('sc', StandardScaler()),\n",
    "    ('rf_grid', rf_gridsearch)\n",
    "])\n",
    "\n",
    "# 搜索参数并训练模型\n",
    "pipe_rf.fit(xtrain, ytrain)\n",
    "# 最佳参数组合\n",
    "print('最佳alpha值：', pipe_rf.named_steps['rf_grid'].best_params_)\n",
    "# 训练集性能指标\n",
    "perfomance_reg(pipe_rf, xtrain, ytrain, name='train')\n",
    "# 测试集性能指标\n",
    "perfomance_reg(pipe_rf, xtest, ytest, name='test')"
   ]
  },
  {
   "cell_type": "markdown",
   "metadata": {
    "id": "313E4FE8115C46E5A876E9E973CA7417",
    "mdEditEnable": false
   },
   "source": [
    "**(4) xgboost模型**"
   ]
  },
  {
   "cell_type": "code",
   "execution_count": 224,
   "metadata": {
    "id": "70D65D07171F412C8BB961EAD2CF7DA4",
    "scrolled": false
   },
   "outputs": [
    {
     "name": "stdout",
     "output_type": "stream",
     "text": [
      "Fitting 3 folds for each of 72 candidates, totalling 216 fits\n"
     ]
    },
    {
     "name": "stderr",
     "output_type": "stream",
     "text": [
      "[Parallel(n_jobs=-1)]: Using backend LokyBackend with 2 concurrent workers.\n",
      "[Parallel(n_jobs=-1)]: Done   1 tasks      | elapsed:   11.6s\n",
      "[Parallel(n_jobs=-1)]: Done   4 tasks      | elapsed:   21.7s\n",
      "[Parallel(n_jobs=-1)]: Done   9 tasks      | elapsed:   45.1s\n",
      "[Parallel(n_jobs=-1)]: Done  14 tasks      | elapsed:  1.1min\n",
      "[Parallel(n_jobs=-1)]: Done  21 tasks      | elapsed:  1.7min\n",
      "[Parallel(n_jobs=-1)]: Done  28 tasks      | elapsed:  2.2min\n",
      "[Parallel(n_jobs=-1)]: Done  37 tasks      | elapsed:  3.1min\n",
      "[Parallel(n_jobs=-1)]: Done  46 tasks      | elapsed:  3.9min\n",
      "[Parallel(n_jobs=-1)]: Done  57 tasks      | elapsed:  5.2min\n",
      "[Parallel(n_jobs=-1)]: Done  68 tasks      | elapsed:  6.5min\n",
      "[Parallel(n_jobs=-1)]: Done  81 tasks      | elapsed:  8.0min\n",
      "[Parallel(n_jobs=-1)]: Done  94 tasks      | elapsed: 10.2min\n",
      "[Parallel(n_jobs=-1)]: Done 109 tasks      | elapsed: 12.4min\n",
      "[Parallel(n_jobs=-1)]: Done 124 tasks      | elapsed: 13.7min\n",
      "[Parallel(n_jobs=-1)]: Done 141 tasks      | elapsed: 15.2min\n",
      "[Parallel(n_jobs=-1)]: Done 158 tasks      | elapsed: 17.2min\n",
      "[Parallel(n_jobs=-1)]: Done 177 tasks      | elapsed: 19.6min\n",
      "[Parallel(n_jobs=-1)]: Done 196 tasks      | elapsed: 22.5min\n",
      "[Parallel(n_jobs=-1)]: Done 216 out of 216 | elapsed: 26.0min finished\n"
     ]
    },
    {
     "name": "stdout",
     "output_type": "stream",
     "text": [
      "{'colsample_bytree': 0.6, 'max_depth': 6, 'n_estimators': 1000, 'reg_alpha': 0, 'subsample': 0.6}\n",
      "train :\n",
      "mean squared error is: 159.2255553231461\n",
      "mean absolute error is: 9.285820319259521\n",
      "R Squared is: 0.9949568029183222\n",
      "mean absolute percent error is: 0.028887646995371632\n",
      "- - - - - - \n",
      "test :\n",
      "mean squared error is: 1962.5934603322894\n",
      "mean absolute error is: 24.419883692583003\n",
      "R Squared is: 0.9388635464015461\n",
      "mean absolute percent error is: 0.06388880018075778\n",
      "- - - - - - \n"
     ]
    }
   ],
   "source": [
    "# xgboost模型\n",
    "xgb_reg = xgb.XGBRegressor(objective='reg:linear',\n",
    "                           n_job=-1,\n",
    "                           booster='gbtree',\n",
    "                           learning_rate=0.05)\n",
    "# 参数设定\n",
    "xgb_params = {'max_depth': [6, 9],\n",
    "              'subsample': [0.6, 0.9, 1],\n",
    "              'colsample_bytree': [0.5, 0.6],\n",
    "              'reg_alpha': [0, 0.05, 0.1],\n",
    "              'n_estimators': [750, 1000]}\n",
    "# 参数搜索\n",
    "xgb_gridsearch = GridSearchCV(xgb_reg, xgb_params, cv=cv, n_jobs=-1,\n",
    "                              verbose=10, refit=True)\n",
    "# 工作流管道\n",
    "pipe_xgb = Pipeline([\n",
    "    ('sc', StandardScaler()),\n",
    "    ('xgb_grid', xgb_gridsearch)\n",
    "])\n",
    "\n",
    "# 搜索参数并训练模型\n",
    "pipe_xgb.fit(xtrain, ytrain)\n",
    "# 最佳参数组合\n",
    "print(pipe_xgb.named_steps['xgb_grid'].best_params_)\n",
    "# 训练集性能指标\n",
    "perfomance_reg(pipe_xgb, xtrain, ytrain, name='train')\n",
    "# 测试集性能指标\n",
    "perfomance_reg(pipe_xgb, xtest, ytest, name='test')"
   ]
  },
  {
   "cell_type": "markdown",
   "metadata": {
    "id": "5C82B6119C924CABAB86B7E12F05BF61",
    "mdEditEnable": false
   },
   "source": [
    "**(5) 集成调优**"
   ]
  },
  {
   "cell_type": "code",
   "execution_count": 229,
   "metadata": {
    "id": "512797A2BA194A0B85A18F92A45C9567",
    "scrolled": false
   },
   "outputs": [
    {
     "data": {
      "text/html": [
       "<div>\n",
       "<style scoped>\n",
       "    .dataframe tbody tr th:only-of-type {\n",
       "        vertical-align: middle;\n",
       "    }\n",
       "\n",
       "    .dataframe tbody tr th {\n",
       "        vertical-align: top;\n",
       "    }\n",
       "\n",
       "    .dataframe thead th {\n",
       "        text-align: right;\n",
       "    }\n",
       "</style>\n",
       "<table border=\"1\" class=\"dataframe\">\n",
       "  <thead>\n",
       "    <tr style=\"text-align: right;\">\n",
       "      <th></th>\n",
       "      <th>features</th>\n",
       "      <th>importances</th>\n",
       "    </tr>\n",
       "  </thead>\n",
       "  <tbody>\n",
       "    <tr>\n",
       "      <th>2</th>\n",
       "      <td>建筑面积</td>\n",
       "      <td>0.160504</td>\n",
       "    </tr>\n",
       "    <tr>\n",
       "      <th>0</th>\n",
       "      <td>经度</td>\n",
       "      <td>0.154278</td>\n",
       "    </tr>\n",
       "    <tr>\n",
       "      <th>1</th>\n",
       "      <td>纬度</td>\n",
       "      <td>0.121446</td>\n",
       "    </tr>\n",
       "    <tr>\n",
       "      <th>3</th>\n",
       "      <td>建成年代</td>\n",
       "      <td>0.068596</td>\n",
       "    </tr>\n",
       "    <tr>\n",
       "      <th>5</th>\n",
       "      <td>楼层数</td>\n",
       "      <td>0.064920</td>\n",
       "    </tr>\n",
       "    <tr>\n",
       "      <th>16</th>\n",
       "      <td>小学_1000m</td>\n",
       "      <td>0.034107</td>\n",
       "    </tr>\n",
       "    <tr>\n",
       "      <th>8</th>\n",
       "      <td>地铁站_2000m</td>\n",
       "      <td>0.031472</td>\n",
       "    </tr>\n",
       "    <tr>\n",
       "      <th>9</th>\n",
       "      <td>公交车站_500m</td>\n",
       "      <td>0.030303</td>\n",
       "    </tr>\n",
       "    <tr>\n",
       "      <th>18</th>\n",
       "      <td>室</td>\n",
       "      <td>0.027264</td>\n",
       "    </tr>\n",
       "    <tr>\n",
       "      <th>7</th>\n",
       "      <td>地铁站_1000m</td>\n",
       "      <td>0.026159</td>\n",
       "    </tr>\n",
       "    <tr>\n",
       "      <th>17</th>\n",
       "      <td>小学_2000m</td>\n",
       "      <td>0.021909</td>\n",
       "    </tr>\n",
       "    <tr>\n",
       "      <th>15</th>\n",
       "      <td>小学_500m</td>\n",
       "      <td>0.017595</td>\n",
       "    </tr>\n",
       "    <tr>\n",
       "      <th>19</th>\n",
       "      <td>厅</td>\n",
       "      <td>0.017170</td>\n",
       "    </tr>\n",
       "    <tr>\n",
       "      <th>6</th>\n",
       "      <td>地铁站_500m</td>\n",
       "      <td>0.014578</td>\n",
       "    </tr>\n",
       "    <tr>\n",
       "      <th>21</th>\n",
       "      <td>卫</td>\n",
       "      <td>0.013175</td>\n",
       "    </tr>\n",
       "    <tr>\n",
       "      <th>41</th>\n",
       "      <td>装修情况_其他</td>\n",
       "      <td>0.011199</td>\n",
       "    </tr>\n",
       "    <tr>\n",
       "      <th>30</th>\n",
       "      <td>所在楼层_中楼层</td>\n",
       "      <td>0.011114</td>\n",
       "    </tr>\n",
       "    <tr>\n",
       "      <th>32</th>\n",
       "      <td>所在楼层_高楼层</td>\n",
       "      <td>0.010434</td>\n",
       "    </tr>\n",
       "    <tr>\n",
       "      <th>24</th>\n",
       "      <td>房屋朝向_北</td>\n",
       "      <td>0.010328</td>\n",
       "    </tr>\n",
       "    <tr>\n",
       "      <th>22</th>\n",
       "      <td>房屋朝向_南</td>\n",
       "      <td>0.010306</td>\n",
       "    </tr>\n",
       "    <tr>\n",
       "      <th>31</th>\n",
       "      <td>所在楼层_低楼层</td>\n",
       "      <td>0.010306</td>\n",
       "    </tr>\n",
       "    <tr>\n",
       "      <th>23</th>\n",
       "      <td>房屋朝向_东</td>\n",
       "      <td>0.009414</td>\n",
       "    </tr>\n",
       "    <tr>\n",
       "      <th>43</th>\n",
       "      <td>装修情况_简装</td>\n",
       "      <td>0.008946</td>\n",
       "    </tr>\n",
       "    <tr>\n",
       "      <th>14</th>\n",
       "      <td>三甲医院_2000m</td>\n",
       "      <td>0.008564</td>\n",
       "    </tr>\n",
       "    <tr>\n",
       "      <th>44</th>\n",
       "      <td>装修情况_精装</td>\n",
       "      <td>0.008394</td>\n",
       "    </tr>\n",
       "    <tr>\n",
       "      <th>52</th>\n",
       "      <td>房权所属_共有</td>\n",
       "      <td>0.008181</td>\n",
       "    </tr>\n",
       "    <tr>\n",
       "      <th>37</th>\n",
       "      <td>建筑类型_塔楼</td>\n",
       "      <td>0.007820</td>\n",
       "    </tr>\n",
       "    <tr>\n",
       "      <th>39</th>\n",
       "      <td>建筑类型_板塔结合</td>\n",
       "      <td>0.007735</td>\n",
       "    </tr>\n",
       "    <tr>\n",
       "      <th>27</th>\n",
       "      <td>房屋朝向_东南</td>\n",
       "      <td>0.007714</td>\n",
       "    </tr>\n",
       "    <tr>\n",
       "      <th>26</th>\n",
       "      <td>房屋朝向_西</td>\n",
       "      <td>0.007416</td>\n",
       "    </tr>\n",
       "    <tr>\n",
       "      <th>25</th>\n",
       "      <td>房屋朝向_西南</td>\n",
       "      <td>0.006736</td>\n",
       "    </tr>\n",
       "    <tr>\n",
       "      <th>40</th>\n",
       "      <td>建筑类型_板楼</td>\n",
       "      <td>0.005929</td>\n",
       "    </tr>\n",
       "    <tr>\n",
       "      <th>4</th>\n",
       "      <td>产权年限</td>\n",
       "      <td>0.004484</td>\n",
       "    </tr>\n",
       "    <tr>\n",
       "      <th>13</th>\n",
       "      <td>三甲医院_1000m</td>\n",
       "      <td>0.004059</td>\n",
       "    </tr>\n",
       "    <tr>\n",
       "      <th>53</th>\n",
       "      <td>房权所属_非共有</td>\n",
       "      <td>0.003719</td>\n",
       "    </tr>\n",
       "    <tr>\n",
       "      <th>29</th>\n",
       "      <td>房屋朝向_东北</td>\n",
       "      <td>0.003655</td>\n",
       "    </tr>\n",
       "    <tr>\n",
       "      <th>45</th>\n",
       "      <td>配备电梯_无</td>\n",
       "      <td>0.003528</td>\n",
       "    </tr>\n",
       "    <tr>\n",
       "      <th>28</th>\n",
       "      <td>房屋朝向_西北</td>\n",
       "      <td>0.002996</td>\n",
       "    </tr>\n",
       "    <tr>\n",
       "      <th>42</th>\n",
       "      <td>装修情况_毛坯</td>\n",
       "      <td>0.002741</td>\n",
       "    </tr>\n",
       "    <tr>\n",
       "      <th>20</th>\n",
       "      <td>厨</td>\n",
       "      <td>0.002486</td>\n",
       "    </tr>\n",
       "    <tr>\n",
       "      <th>33</th>\n",
       "      <td>户型结构_复式</td>\n",
       "      <td>0.002486</td>\n",
       "    </tr>\n",
       "    <tr>\n",
       "      <th>34</th>\n",
       "      <td>户型结构_平层</td>\n",
       "      <td>0.002444</td>\n",
       "    </tr>\n",
       "    <tr>\n",
       "      <th>51</th>\n",
       "      <td>房屋用途_普通住宅</td>\n",
       "      <td>0.002401</td>\n",
       "    </tr>\n",
       "    <tr>\n",
       "      <th>12</th>\n",
       "      <td>三甲医院_500m</td>\n",
       "      <td>0.002125</td>\n",
       "    </tr>\n",
       "    <tr>\n",
       "      <th>50</th>\n",
       "      <td>房屋用途_商务公寓</td>\n",
       "      <td>0.001785</td>\n",
       "    </tr>\n",
       "    <tr>\n",
       "      <th>47</th>\n",
       "      <td>房屋用途_公寓</td>\n",
       "      <td>0.001764</td>\n",
       "    </tr>\n",
       "    <tr>\n",
       "      <th>10</th>\n",
       "      <td>公交车站_1000m</td>\n",
       "      <td>0.001700</td>\n",
       "    </tr>\n",
       "    <tr>\n",
       "      <th>46</th>\n",
       "      <td>配备电梯_有</td>\n",
       "      <td>0.001488</td>\n",
       "    </tr>\n",
       "    <tr>\n",
       "      <th>35</th>\n",
       "      <td>户型结构_跃层</td>\n",
       "      <td>0.001169</td>\n",
       "    </tr>\n",
       "    <tr>\n",
       "      <th>36</th>\n",
       "      <td>户型结构_错层</td>\n",
       "      <td>0.000659</td>\n",
       "    </tr>\n",
       "    <tr>\n",
       "      <th>49</th>\n",
       "      <td>房屋用途_商业办公类</td>\n",
       "      <td>0.000276</td>\n",
       "    </tr>\n",
       "    <tr>\n",
       "      <th>48</th>\n",
       "      <td>房屋用途_别墅</td>\n",
       "      <td>0.000021</td>\n",
       "    </tr>\n",
       "    <tr>\n",
       "      <th>11</th>\n",
       "      <td>公交车站_2000m</td>\n",
       "      <td>0.000000</td>\n",
       "    </tr>\n",
       "    <tr>\n",
       "      <th>38</th>\n",
       "      <td>建筑类型_平房</td>\n",
       "      <td>0.000000</td>\n",
       "    </tr>\n",
       "  </tbody>\n",
       "</table>\n",
       "</div>"
      ],
      "text/plain": [
       "      features  importances\n",
       "2         建筑面积     0.160504\n",
       "0           经度     0.154278\n",
       "1           纬度     0.121446\n",
       "3         建成年代     0.068596\n",
       "5          楼层数     0.064920\n",
       "16    小学_1000m     0.034107\n",
       "8    地铁站_2000m     0.031472\n",
       "9    公交车站_500m     0.030303\n",
       "18           室     0.027264\n",
       "7    地铁站_1000m     0.026159\n",
       "17    小学_2000m     0.021909\n",
       "15     小学_500m     0.017595\n",
       "19           厅     0.017170\n",
       "6     地铁站_500m     0.014578\n",
       "21           卫     0.013175\n",
       "41     装修情况_其他     0.011199\n",
       "30    所在楼层_中楼层     0.011114\n",
       "32    所在楼层_高楼层     0.010434\n",
       "24      房屋朝向_北     0.010328\n",
       "22      房屋朝向_南     0.010306\n",
       "31    所在楼层_低楼层     0.010306\n",
       "23      房屋朝向_东     0.009414\n",
       "43     装修情况_简装     0.008946\n",
       "14  三甲医院_2000m     0.008564\n",
       "44     装修情况_精装     0.008394\n",
       "52     房权所属_共有     0.008181\n",
       "37     建筑类型_塔楼     0.007820\n",
       "39   建筑类型_板塔结合     0.007735\n",
       "27     房屋朝向_东南     0.007714\n",
       "26      房屋朝向_西     0.007416\n",
       "25     房屋朝向_西南     0.006736\n",
       "40     建筑类型_板楼     0.005929\n",
       "4         产权年限     0.004484\n",
       "13  三甲医院_1000m     0.004059\n",
       "53    房权所属_非共有     0.003719\n",
       "29     房屋朝向_东北     0.003655\n",
       "45      配备电梯_无     0.003528\n",
       "28     房屋朝向_西北     0.002996\n",
       "42     装修情况_毛坯     0.002741\n",
       "20           厨     0.002486\n",
       "33     户型结构_复式     0.002486\n",
       "34     户型结构_平层     0.002444\n",
       "51   房屋用途_普通住宅     0.002401\n",
       "12   三甲医院_500m     0.002125\n",
       "50   房屋用途_商务公寓     0.001785\n",
       "47     房屋用途_公寓     0.001764\n",
       "10  公交车站_1000m     0.001700\n",
       "46      配备电梯_有     0.001488\n",
       "35     户型结构_跃层     0.001169\n",
       "36     户型结构_错层     0.000659\n",
       "49  房屋用途_商业办公类     0.000276\n",
       "48     房屋用途_别墅     0.000021\n",
       "11  公交车站_2000m     0.000000\n",
       "38     建筑类型_平房     0.000000"
      ]
     },
     "execution_count": 229,
     "metadata": {},
     "output_type": "execute_result"
    }
   ],
   "source": [
    "# 获取xgboost模型各特征重要程度数值\n",
    "importances = pipe_xgb.named_steps['xgb_grid'].best_estimator_.feature_importances_\n",
    "features = xtrain.columns\n",
    "importance_table = pd.DataFrame({'features': features, 'importances': importances})\n",
    "importance_table.sort_values(by='importances', ascending=False)"
   ]
  },
  {
   "cell_type": "code",
   "execution_count": 230,
   "metadata": {
    "id": "66C46391C0EE43E89C0A5A0BF635ECF3",
    "scrolled": false
   },
   "outputs": [
    {
     "data": {
      "text/plain": [
       "['经度',\n",
       " '纬度',\n",
       " '建筑面积',\n",
       " '建成年代',\n",
       " '楼层数',\n",
       " '地铁站_500m',\n",
       " '地铁站_1000m',\n",
       " '地铁站_2000m',\n",
       " '公交车站_500m',\n",
       " '三甲医院_2000m',\n",
       " '小学_500m',\n",
       " '小学_1000m',\n",
       " '小学_2000m',\n",
       " '室',\n",
       " '厅',\n",
       " '卫',\n",
       " '房屋朝向_南',\n",
       " '房屋朝向_东',\n",
       " '房屋朝向_北',\n",
       " '所在楼层_中楼层',\n",
       " '所在楼层_低楼层',\n",
       " '所在楼层_高楼层',\n",
       " '建筑类型_塔楼',\n",
       " '装修情况_其他',\n",
       " '装修情况_简装',\n",
       " '装修情况_精装',\n",
       " '房权所属_共有',\n",
       " 'ensemble_rf',\n",
       " '成交价']"
      ]
     },
     "execution_count": 230,
     "metadata": {},
     "output_type": "execute_result"
    }
   ],
   "source": [
    "# 以重要程度中位数以上选取特征名称\n",
    "im_median = importance_table.importances.median()\n",
    "select_list = importance_table[importance_table.importances >= im_median].features.tolist()\n",
    "select_list.extend(['ensemble_rf', '成交价'])  # '成交价'为方便后续拆分数据集；'ensemble_rf'为随机森林预测结果\n",
    "select_list"
   ]
  },
  {
   "cell_type": "code",
   "execution_count": 231,
   "metadata": {
    "id": "042F17F75ED047E097FB68FBC909C7E5",
    "scrolled": false
   },
   "outputs": [],
   "source": [
    "df_ensemble = df_merge.copy()\n",
    "df_ensemble['ensemble_rf'] = pipe_rf.predict(df_ensemble.drop('成交价', axis=1))\n",
    "df_ensemble = df_ensemble.loc[:, select_list]"
   ]
  },
  {
   "cell_type": "code",
   "execution_count": 232,
   "metadata": {
    "id": "13373EA46F8F4A8F82B70D01C53F76AD",
    "scrolled": false
   },
   "outputs": [
    {
     "name": "stdout",
     "output_type": "stream",
     "text": [
      "Fitting 3 folds for each of 72 candidates, totalling 216 fits\n"
     ]
    },
    {
     "name": "stderr",
     "output_type": "stream",
     "text": [
      "[Parallel(n_jobs=-1)]: Using backend LokyBackend with 2 concurrent workers.\n",
      "[Parallel(n_jobs=-1)]: Done   1 tasks      | elapsed:    8.5s\n",
      "[Parallel(n_jobs=-1)]: Done   4 tasks      | elapsed:   15.5s\n",
      "[Parallel(n_jobs=-1)]: Done   9 tasks      | elapsed:   32.6s\n",
      "[Parallel(n_jobs=-1)]: Done  14 tasks      | elapsed:   47.9s\n",
      "[Parallel(n_jobs=-1)]: Done  21 tasks      | elapsed:  1.2min\n",
      "[Parallel(n_jobs=-1)]: Done  28 tasks      | elapsed:  1.6min\n",
      "[Parallel(n_jobs=-1)]: Done  37 tasks      | elapsed:  2.2min\n",
      "[Parallel(n_jobs=-1)]: Done  46 tasks      | elapsed:  2.9min\n",
      "[Parallel(n_jobs=-1)]: Done  57 tasks      | elapsed:  3.7min\n",
      "[Parallel(n_jobs=-1)]: Done  68 tasks      | elapsed:  4.6min\n",
      "[Parallel(n_jobs=-1)]: Done  81 tasks      | elapsed:  5.8min\n",
      "[Parallel(n_jobs=-1)]: Done  94 tasks      | elapsed:  7.3min\n",
      "[Parallel(n_jobs=-1)]: Done 109 tasks      | elapsed:  8.9min\n",
      "[Parallel(n_jobs=-1)]: Done 124 tasks      | elapsed:  9.8min\n",
      "[Parallel(n_jobs=-1)]: Done 141 tasks      | elapsed: 10.8min\n",
      "[Parallel(n_jobs=-1)]: Done 158 tasks      | elapsed: 12.2min\n",
      "[Parallel(n_jobs=-1)]: Done 177 tasks      | elapsed: 13.9min\n",
      "[Parallel(n_jobs=-1)]: Done 196 tasks      | elapsed: 15.9min\n",
      "[Parallel(n_jobs=-1)]: Done 216 out of 216 | elapsed: 18.3min finished\n"
     ]
    },
    {
     "name": "stdout",
     "output_type": "stream",
     "text": [
      "{'colsample_bytree': 0.6, 'max_depth': 6, 'n_estimators': 1000, 'reg_alpha': 0, 'subsample': 0.9}\n",
      "train :\n",
      "mean squared error is: 89.51619788727905\n",
      "mean absolute error is: 7.000624772614124\n",
      "R Squared is: 0.9971662290176454\n",
      "mean absolute percent error is: 0.022116629050790163\n",
      "- - - - - - \n",
      "test :\n",
      "mean squared error is: 1105.3433054824618\n",
      "mean absolute error is: 19.5376985707211\n",
      "R Squared is: 0.9654939961043317\n",
      "mean absolute percent error is: 0.052662943951393294\n",
      "- - - - - - \n"
     ]
    }
   ],
   "source": [
    "# 生成集成学习训练、验证集合\n",
    "XX = df_ensemble.drop('成交价', axis=1)\n",
    "yy = df_ensemble['成交价']\n",
    "xxtrain, xxtest, yytrain, yytest = train_test_split(XX, yy, test_size=0.2, random_state=1)  # random_state=42\n",
    "\n",
    "pipe_xgb_ensemble = Pipeline([\n",
    "    ('sc', StandardScaler()),\n",
    "    ('xgb_grid', xgb_gridsearch)\n",
    "])\n",
    "\n",
    "# 搜索参数并训练模型\n",
    "pipe_xgb_ensemble.fit(xxtrain, yytrain)\n",
    "# 最佳参数组合\n",
    "print(pipe_xgb_ensemble.named_steps['xgb_grid'].best_params_)\n",
    "# 训练集性能指标\n",
    "perfomance_reg(pipe_xgb_ensemble, xxtrain, yytrain, name='train')\n",
    "# 测试集性能指标\n",
    "perfomance_reg(pipe_xgb_ensemble, xxtest, yytest, name='test')"
   ]
  },
  {
   "cell_type": "code",
   "execution_count": null,
   "metadata": {
    "id": "FFB6ECDE682E4F989392DF8DDA63040A",
    "scrolled": false
   },
   "outputs": [],
   "source": [
    "# 利用joblib存储模型\n",
    "from sklearn.externals import joblib\n",
    "\n",
    "joblib.dump({'model_name': 'pipe_xgb_ensemble',\n",
    "             'features_list': select_list,\n",
    "             'model': pipe_xgb_ensemble,\n",
    "             'data': [xxtrain, xxtest, yytrain, yytest]},\n",
    "            'XGB.pkl')"
   ]
  }
 ],
 "metadata": {
  "kernelspec": {
   "display_name": "Python 3 (ipykernel)",
   "language": "python",
   "name": "python3"
  },
  "language_info": {
   "codemirror_mode": {
    "name": "ipython",
    "version": 3
   },
   "file_extension": ".py",
   "mimetype": "text/x-python",
   "name": "python",
   "nbconvert_exporter": "python",
   "pygments_lexer": "ipython3",
   "version": "3.9.16"
  }
 },
 "nbformat": 4,
 "nbformat_minor": 1
}
